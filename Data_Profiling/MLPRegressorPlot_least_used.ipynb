{
 "cells": [
  {
   "cell_type": "code",
   "execution_count": 1,
   "metadata": {},
   "outputs": [],
   "source": [
    "#required imports\n",
    "from sklearn.neural_network import MLPRegressor\n",
    "import numpy as np\n",
    "import matplotlib.pyplot as plt\n",
    "import pandas as pd\n",
    "import seaborn as sn\n",
    "from sklearn.preprocessing import LabelEncoder\n",
    "from sklearn import preprocessing\n",
    "from sklearn.preprocessing import StandardScaler\n",
    "from sklearn.preprocessing import Normalizer\n",
    "from sklearn.model_selection import train_test_split\n",
    "from sklearn.metrics import mean_squared_error  \n",
    "from math import sqrt \n",
    "from sklearn.preprocessing import Normalizer\n",
    "from sklearn.preprocessing import MinMaxScaler\n",
    "from sklearn.preprocessing import minmax_scale\n",
    "from sklearn.preprocessing import MaxAbsScaler\n",
    "from sklearn.preprocessing import RobustScaler\n",
    "from sklearn.preprocessing import Normalizer\n",
    "from sklearn.preprocessing import QuantileTransformer\n",
    "from scipy import stats"
   ]
  },
  {
   "cell_type": "code",
   "execution_count": 2,
   "metadata": {
    "scrolled": false
   },
   "outputs": [
    {
     "data": {
      "text/html": [
       "<div>\n",
       "<style scoped>\n",
       "    .dataframe tbody tr th:only-of-type {\n",
       "        vertical-align: middle;\n",
       "    }\n",
       "\n",
       "    .dataframe tbody tr th {\n",
       "        vertical-align: top;\n",
       "    }\n",
       "\n",
       "    .dataframe thead th {\n",
       "        text-align: right;\n",
       "    }\n",
       "</style>\n",
       "<table border=\"1\" class=\"dataframe\">\n",
       "  <thead>\n",
       "    <tr style=\"text-align: right;\">\n",
       "      <th></th>\n",
       "      <th>Station ID</th>\n",
       "      <th>Year</th>\n",
       "      <th>Month</th>\n",
       "      <th>Day</th>\n",
       "      <th>Weekday</th>\n",
       "      <th>Season</th>\n",
       "      <th>Holiday</th>\n",
       "      <th>Daily Weather</th>\n",
       "      <th>Daily Weather (Past)</th>\n",
       "      <th>Humidity</th>\n",
       "      <th>Humidity (Past)</th>\n",
       "      <th>Windspeed</th>\n",
       "      <th>Windspeed (Past)</th>\n",
       "      <th>Apparent Temperature (Avg)</th>\n",
       "      <th>Apparent Temperature (Avg) (Past)</th>\n",
       "      <th>Rented Bikes</th>\n",
       "      <th>Rented Bikes (Future)</th>\n",
       "    </tr>\n",
       "  </thead>\n",
       "  <tbody>\n",
       "    <tr>\n",
       "      <th>0</th>\n",
       "      <td>835</td>\n",
       "      <td>2018</td>\n",
       "      <td>10</td>\n",
       "      <td>277</td>\n",
       "      <td>4</td>\n",
       "      <td>Autumn</td>\n",
       "      <td>False</td>\n",
       "      <td>fog</td>\n",
       "      <td>partly-cloudy-day</td>\n",
       "      <td>0.88</td>\n",
       "      <td>0.76</td>\n",
       "      <td>6.55</td>\n",
       "      <td>6.33</td>\n",
       "      <td>57.905</td>\n",
       "      <td>57.420</td>\n",
       "      <td>1</td>\n",
       "      <td>19</td>\n",
       "    </tr>\n",
       "    <tr>\n",
       "      <th>1</th>\n",
       "      <td>835</td>\n",
       "      <td>2018</td>\n",
       "      <td>10</td>\n",
       "      <td>291</td>\n",
       "      <td>4</td>\n",
       "      <td>Autumn</td>\n",
       "      <td>False</td>\n",
       "      <td>partly-cloudy-day</td>\n",
       "      <td>partly-cloudy-day</td>\n",
       "      <td>0.80</td>\n",
       "      <td>0.90</td>\n",
       "      <td>6.87</td>\n",
       "      <td>2.22</td>\n",
       "      <td>50.035</td>\n",
       "      <td>53.700</td>\n",
       "      <td>19</td>\n",
       "      <td>24</td>\n",
       "    </tr>\n",
       "    <tr>\n",
       "      <th>2</th>\n",
       "      <td>835</td>\n",
       "      <td>2018</td>\n",
       "      <td>10</td>\n",
       "      <td>292</td>\n",
       "      <td>5</td>\n",
       "      <td>Autumn</td>\n",
       "      <td>False</td>\n",
       "      <td>cloudy</td>\n",
       "      <td>partly-cloudy-day</td>\n",
       "      <td>0.80</td>\n",
       "      <td>0.80</td>\n",
       "      <td>3.14</td>\n",
       "      <td>6.87</td>\n",
       "      <td>51.435</td>\n",
       "      <td>50.035</td>\n",
       "      <td>24</td>\n",
       "      <td>5</td>\n",
       "    </tr>\n",
       "    <tr>\n",
       "      <th>3</th>\n",
       "      <td>835</td>\n",
       "      <td>2018</td>\n",
       "      <td>10</td>\n",
       "      <td>293</td>\n",
       "      <td>6</td>\n",
       "      <td>Autumn</td>\n",
       "      <td>False</td>\n",
       "      <td>cloudy</td>\n",
       "      <td>cloudy</td>\n",
       "      <td>0.80</td>\n",
       "      <td>0.80</td>\n",
       "      <td>3.64</td>\n",
       "      <td>3.14</td>\n",
       "      <td>55.035</td>\n",
       "      <td>51.435</td>\n",
       "      <td>5</td>\n",
       "      <td>12</td>\n",
       "    </tr>\n",
       "    <tr>\n",
       "      <th>4</th>\n",
       "      <td>835</td>\n",
       "      <td>2018</td>\n",
       "      <td>10</td>\n",
       "      <td>294</td>\n",
       "      <td>7</td>\n",
       "      <td>Autumn</td>\n",
       "      <td>False</td>\n",
       "      <td>cloudy</td>\n",
       "      <td>cloudy</td>\n",
       "      <td>0.80</td>\n",
       "      <td>0.80</td>\n",
       "      <td>4.17</td>\n",
       "      <td>3.64</td>\n",
       "      <td>53.105</td>\n",
       "      <td>55.035</td>\n",
       "      <td>12</td>\n",
       "      <td>22</td>\n",
       "    </tr>\n",
       "  </tbody>\n",
       "</table>\n",
       "</div>"
      ],
      "text/plain": [
       "   Station ID  Year  Month  Day  Weekday  Season  Holiday      Daily Weather  \\\n",
       "0         835  2018     10  277        4  Autumn    False                fog   \n",
       "1         835  2018     10  291        4  Autumn    False  partly-cloudy-day   \n",
       "2         835  2018     10  292        5  Autumn    False             cloudy   \n",
       "3         835  2018     10  293        6  Autumn    False             cloudy   \n",
       "4         835  2018     10  294        7  Autumn    False             cloudy   \n",
       "\n",
       "  Daily Weather (Past)  Humidity  Humidity (Past)  Windspeed  \\\n",
       "0    partly-cloudy-day      0.88             0.76       6.55   \n",
       "1    partly-cloudy-day      0.80             0.90       6.87   \n",
       "2    partly-cloudy-day      0.80             0.80       3.14   \n",
       "3               cloudy      0.80             0.80       3.64   \n",
       "4               cloudy      0.80             0.80       4.17   \n",
       "\n",
       "   Windspeed (Past)  Apparent Temperature (Avg)  \\\n",
       "0              6.33                      57.905   \n",
       "1              2.22                      50.035   \n",
       "2              6.87                      51.435   \n",
       "3              3.14                      55.035   \n",
       "4              3.64                      53.105   \n",
       "\n",
       "   Apparent Temperature (Avg) (Past)  Rented Bikes  Rented Bikes (Future)  \n",
       "0                             57.420             1                     19  \n",
       "1                             53.700            19                     24  \n",
       "2                             50.035            24                      5  \n",
       "3                             51.435             5                     12  \n",
       "4                             55.035            12                     22  "
      ]
     },
     "execution_count": 2,
     "metadata": {},
     "output_type": "execute_result"
    }
   ],
   "source": [
    "#load features\n",
    "features = pd.read_csv(\"least_features.csv\")\n",
    "features.head()"
   ]
  },
  {
   "cell_type": "code",
   "execution_count": 3,
   "metadata": {},
   "outputs": [],
   "source": [
    "#transorm non-numerical labels to numerical labels\n",
    "le = LabelEncoder()\n",
    "features.loc[:,'Holiday'] = le.fit_transform(features['Holiday'])"
   ]
  },
  {
   "cell_type": "code",
   "execution_count": null,
   "metadata": {},
   "outputs": [],
   "source": [
    "\n",
    "cleanup_nums = {\"Season\": {\"Spring\": 1, \"Summer\": 2, \"Autumn\": 3, \"Winter\": 4},\n",
    "               \"Daily Weather\": {\"clear-day\": 1, \"partly-cloudy-day\": 2,\"cloudy\":3,\"wind\":4, \"rain\": 5, \"fog\": 6, \"snow\": 7},\n",
    "               \"Daily Weather (Past)\": {\"clear-day\": 1, \"partly-cloudy-day\": 2,\"cloudy\":3,\"wind\":4, \"rain\": 5,\"fog\": 6, \"snow\": 7} }"
   ]
  },
  {
   "cell_type": "code",
   "execution_count": null,
   "metadata": {},
   "outputs": [],
   "source": [
    "features.replace(cleanup_nums, inplace=True)"
   ]
  },
  {
   "cell_type": "code",
   "execution_count": null,
   "metadata": {
    "scrolled": true
   },
   "outputs": [],
   "source": [
    "#target variable\n",
    "y = features['Rented Bikes (Future)']\n",
    "len(y)"
   ]
  },
  {
   "cell_type": "code",
   "execution_count": null,
   "metadata": {
    "scrolled": true
   },
   "outputs": [],
   "source": [
    "#Feature Matrix after evaluation: Use only Weekday, Month, Past Data, Apparent Temp Avg, Rented Bikes and Daily Weather\n",
    "X=features.loc[:,['Weekday','Month','Daily Weather','Daily Weather (Past)','Humidity (Past)', 'Windspeed (Past)', 'Apparent Temperature (Avg)','Apparent Temperature (Avg) (Past)','Rented Bikes']]\n",
    "X.head()\n"
   ]
  },
  {
   "cell_type": "markdown",
   "metadata": {},
   "source": [
    "[Scikitlearn](https://sklearn.org/modules/neural_networks_supervised.html) recommends to scale the data to  [0, 1] or [-1, +1] by using the StandardScaler but has an RMSE of 103 whereas QuantileTransforme which also transform data to values between [-1, +1]."
   ]
  },
  {
   "cell_type": "code",
   "execution_count": null,
   "metadata": {},
   "outputs": [],
   "source": [
    "#Split into train and test set\n",
    "X_train =X.loc[0:115]\n",
    "X_test= X.loc[116:146]\n",
    "y_train = y[0:116]\n",
    "y_test=y[116:146]\n",
    "#use min max scaler to get values between 0 and 1. MinMaxScaler subtracts the minimum value in the feature and then divides by the range\n",
    "#use Quantile Transformer to create a uniform distribution with values between 0 and 1:\n",
    "scaler1 = QuantileTransformer()\n",
    "scaler2 = QuantileTransformer()\n",
    "scaler3 = QuantileTransformer()\n",
    "#Compute the minimum and maximum of X to be used for later scaling\n",
    "scaler1.fit(X_train)\n",
    "scaler2.fit(X_test)\n",
    "#Scaling features of X according to feature_range\n",
    "X_train_scaled = scaler1.transform(X_train)\n",
    "X_test_scaled = scaler2.transform(X_test)\n",
    "#convert series into array for reshaping\n",
    "target_train = np.array(y_train, dtype=pd.Series)\n",
    "#reshape data -> ValueError: Expected 2D array, got 1D array instead:\n",
    "#array=[281. 279. 274. ...  43.  67. 393.].\n",
    "#Reshape your data either using array.reshape(-1, 1) if your data has a single feature or array.reshape(1, -1) if it contains a single sample.\n",
    "y_train_reshaped = target_train.reshape(-1, 1)\n",
    "#Compute the minimum and maximum of y_train to be used for later scaling\n",
    "scaler3.fit(y_train_reshaped)\n",
    "#Scaling features of y_train according to feature_range\n",
    "y_train_scaled= scaler3.transform(y_train_reshaped)"
   ]
  },
  {
   "cell_type": "code",
   "execution_count": null,
   "metadata": {},
   "outputs": [],
   "source": [
    "#initialize MLPRegressor\n",
    "mlp = MLPRegressor(\n",
    "    hidden_layer_sizes=(10,5),  activation='logistic', solver='lbfgs', alpha=0.001, batch_size='auto',\n",
    "    learning_rate='constant', learning_rate_init=0.01, power_t=0.5, max_iter=1000, shuffle=True,\n",
    "    random_state=9, tol=0.0001, verbose=False, warm_start=False, momentum=0.9, nesterovs_momentum=True,\n",
    "    early_stopping=False, validation_fraction=0.1, beta_1=0.9, beta_2=0.999, epsilon=1e-08)\n",
    "#change shape of y to an 1D-array(n_samples, )\n",
    "m = mlp.fit(X_train_scaled,y_train_scaled.ravel())\n",
    "\n",
    "predictions = m.predict(X_test_scaled)\n",
    "#create 12 dimensional array of X_test\n",
    "new = X_test_scaled[:, [1,2,3,4,5,6,7,8]]\n",
    "# add predictions as a thirteenth dimension to the X_test array in order to denormalize it\n",
    "X_test_scaled2=np.append(new,predictions[:,None],1)"
   ]
  },
  {
   "cell_type": "code",
   "execution_count": null,
   "metadata": {},
   "outputs": [],
   "source": [
    "#Denormalize testdata\n",
    "pred = predictions.reshape(-1,1)\n",
    "denormalizedX = scaler2.inverse_transform(X_test_scaled2)\n",
    "denormalizedY = scaler3.inverse_transform(y_train_scaled)\n",
    "denormalizedX\n",
    "transformed = pd.DataFrame({'Column1':denormalizedX[:,0],'Column2':denormalizedX[:,1],'Column3':denormalizedX[:,2],'Column4':denormalizedX[:,3],'Column5':denormalizedX[:,4],'Column6':denormalizedX[:,5],'Column7':denormalizedX[:,6],'Column8':denormalizedX[:,7],'Column9':denormalizedX[:,8]})\n",
    "transformed.head()\n",
    "p = transformed.values[:,8]"
   ]
  },
  {
   "cell_type": "code",
   "execution_count": null,
   "metadata": {
    "scrolled": true
   },
   "outputs": [],
   "source": [
    "#Compare predicted and actual values\n",
    "df = pd.DataFrame({'Actual': y_test, 'Predicted': p})  \n",
    "df.head()"
   ]
  },
  {
   "cell_type": "code",
   "execution_count": null,
   "metadata": {},
   "outputs": [],
   "source": [
    "#RMSE version 1\n",
    "a=df.loc[:,'Actual']\n",
    "b=df.loc[:,'Predicted']\n",
    "rmse=sqrt(mean_squared_error(a, b))  \n",
    "\"The root mean square error of the model is {0:.3f}\".format(rmse) "
   ]
  },
  {
   "cell_type": "code",
   "execution_count": null,
   "metadata": {},
   "outputs": [],
   "source": [
    "#Save predicted and actual values into csv\n",
    "daysTmp = X.values[:,0]\n",
    "day = daysTmp[1212:1514].astype(int)\n",
    "df = pd.DataFrame({'Actual': y_test, 'Predicted': p})  \n",
    "df.to_csv('predictionRawLeast.csv')"
   ]
  },
  {
   "cell_type": "code",
   "execution_count": null,
   "metadata": {},
   "outputs": [],
   "source": [
    "#Save predicted and actual values of training data into csv\n",
    "#daysTmp = X.values[:,0]\n",
    "#day = daysTmp[0:1212].astype(int)\n",
    "#df = pd.DataFrame({'Actual': y_train, 'Predicted': p})  \n",
    "#df.to_csv('training_least.csv')"
   ]
  },
  {
   "cell_type": "code",
   "execution_count": null,
   "metadata": {},
   "outputs": [],
   "source": [
    "#read csv with the same length as the feature matrix for y values after day 1212\n",
    "predict = pd.read_csv('prediction_least.csv')\n",
    "predict.head()\n",
    "x = predict.values[:,0]\n",
    "ynew = predict.values[:,2]"
   ]
  },
  {
   "cell_type": "code",
   "execution_count": null,
   "metadata": {},
   "outputs": [],
   "source": [
    "#read csv with the same length as the feature matrix for y values until day 1212\n",
    "training = pd.read_csv('trainingCleaned_least.csv')\n",
    "training.head()\n",
    "xtrain = training.values[:,0]\n",
    "ytrain = training.values[:,2]\n"
   ]
  },
  {
   "cell_type": "code",
   "execution_count": null,
   "metadata": {},
   "outputs": [],
   "source": [
    "from bokeh.plotting import figure, output_file, show\n",
    "from bokeh.models import SingleIntervalTicker, LinearAxis\n",
    "# prepare some data\n",
    "day = features['Day']\n",
    "x1 = xtrain\n",
    "x2 = xtrain\n",
    "x3 = x\n",
    "\n",
    "y1 = ytrain\n",
    "y2 = y\n",
    "y3 = ynew\n",
    "\n",
    "# output to static HTML file\n",
    "output_file(\"MLPRegressor least used station.html\")\n",
    "p = figure(\n",
    "   tools=\"pan,box_zoom,wheel_zoom,reset,save\",\n",
    "    title=\"MLPRegressor Prediction\",\n",
    "    y_range=[0, 100],\n",
    "    x_range=[0, 150],\n",
    "   x_axis_label='Days', y_axis_label='Frequency',\n",
    "    plot_width=1200, plot_height=350,\n",
    "    x_axis_type=None,\n",
    "    toolbar_location=\"left\"\n",
    ")\n",
    "#set xticks\n",
    "tickerx = SingleIntervalTicker(interval=1, num_minor_ticks=1)\n",
    "xaxis = LinearAxis(ticker=tickerx)\n",
    "p.add_layout(xaxis, 'below')\n",
    "# add a line renderer with legend and line thickness\n",
    "p.ray(x=1212, y=0, length=800, angle=1.57079633, color='purple')\n",
    "p.line(x1, y1, legend=\"Predicted Training\", line_color=\"red\")\n",
    "p.line(x2, y2, legend=\"Actual\", line_color=\"green\")\n",
    "p.line(x3, y3, legend=\"Predicted Test\", line_color=\"blue\")\n",
    "p.xaxis.major_label_orientation = 'vertical'\n",
    "# show the results\n",
    "show(p)"
   ]
  },
  {
   "cell_type": "code",
   "execution_count": null,
   "metadata": {},
   "outputs": [],
   "source": []
  }
 ],
 "metadata": {
  "kernelspec": {
   "display_name": "Python 2",
   "language": "python",
   "name": "python2"
  },
  "language_info": {
   "codemirror_mode": {
    "name": "ipython",
    "version": 2
   },
   "file_extension": ".py",
   "mimetype": "text/x-python",
   "name": "python",
   "nbconvert_exporter": "python",
   "pygments_lexer": "ipython2",
   "version": "2.7.15"
  }
 },
 "nbformat": 4,
 "nbformat_minor": 2
}
