{
 "cells": [
  {
   "cell_type": "markdown",
   "metadata": {},
   "source": [
    "## 1. Age\n",
    "\n",
    "According to Santander Cycles Survey of Q2 2017/2018 their main target group depicts of people of between the age 16 and 54.<br>\n",
    "They group their customers in the following age groups:\n",
    "\n",
    "![](img/target.png)"
   ]
  },
  {
   "cell_type": "markdown",
   "metadata": {},
   "source": [
    "As this plot shows they have more male users than female users, why we give maless a higher weight than females.<br>\n",
    "Moreover we should weight the several age groups differently. "
   ]
  },
  {
   "cell_type": "markdown",
   "metadata": {},
   "source": [
    "Appropriate data was found at the [Office for National Statistics](https://www.ons.gov.uk/peoplepopulationandcommunity/populationandmigration/populationestimates/datasets/populationestimatesforukenglandandwalesscotlandandnorthernireland)."
   ]
  },
  {
   "cell_type": "markdown",
   "metadata": {},
   "source": [
    "After preparing the data in a first way we have the age groups ordered by London districts:"
   ]
  },
  {
   "cell_type": "code",
   "execution_count": 2,
   "metadata": {},
   "outputs": [],
   "source": [
    "import pandas as pd"
   ]
  },
  {
   "cell_type": "code",
   "execution_count": 4,
   "metadata": {},
   "outputs": [
    {
     "data": {
      "text/html": [
       "<div>\n",
       "<style scoped>\n",
       "    .dataframe tbody tr th:only-of-type {\n",
       "        vertical-align: middle;\n",
       "    }\n",
       "\n",
       "    .dataframe tbody tr th {\n",
       "        vertical-align: top;\n",
       "    }\n",
       "\n",
       "    .dataframe thead th {\n",
       "        text-align: right;\n",
       "    }\n",
       "</style>\n",
       "<table border=\"1\" class=\"dataframe\">\n",
       "  <thead>\n",
       "    <tr style=\"text-align: right;\">\n",
       "      <th></th>\n",
       "      <th>Name</th>\n",
       "      <th>All ages</th>\n",
       "      <th>25-34</th>\n",
       "      <th>35-44</th>\n",
       "      <th>45-54</th>\n",
       "      <th>55-64</th>\n",
       "      <th>&gt;65</th>\n",
       "    </tr>\n",
       "  </thead>\n",
       "  <tbody>\n",
       "    <tr>\n",
       "      <th>0</th>\n",
       "      <td>Camden</td>\n",
       "      <td>253361</td>\n",
       "      <td>54527</td>\n",
       "      <td>39552</td>\n",
       "      <td>30599</td>\n",
       "      <td>21676</td>\n",
       "      <td>30098</td>\n",
       "    </tr>\n",
       "    <tr>\n",
       "      <th>1</th>\n",
       "      <td>City of London</td>\n",
       "      <td>7654</td>\n",
       "      <td>1050</td>\n",
       "      <td>1002</td>\n",
       "      <td>1255</td>\n",
       "      <td>1024</td>\n",
       "      <td>1482</td>\n",
       "    </tr>\n",
       "    <tr>\n",
       "      <th>2</th>\n",
       "      <td>Hackney</td>\n",
       "      <td>275929</td>\n",
       "      <td>70473</td>\n",
       "      <td>49206</td>\n",
       "      <td>31106</td>\n",
       "      <td>20243</td>\n",
       "      <td>20394</td>\n",
       "    </tr>\n",
       "    <tr>\n",
       "      <th>3</th>\n",
       "      <td>Hammersmith and Fulham</td>\n",
       "      <td>182998</td>\n",
       "      <td>40080</td>\n",
       "      <td>30736</td>\n",
       "      <td>24184</td>\n",
       "      <td>15855</td>\n",
       "      <td>19334</td>\n",
       "    </tr>\n",
       "    <tr>\n",
       "      <th>4</th>\n",
       "      <td>Haringey</td>\n",
       "      <td>271224</td>\n",
       "      <td>52469</td>\n",
       "      <td>48048</td>\n",
       "      <td>36933</td>\n",
       "      <td>24046</td>\n",
       "      <td>26628</td>\n",
       "    </tr>\n",
       "  </tbody>\n",
       "</table>\n",
       "</div>"
      ],
      "text/plain": [
       "                     Name  All ages  25-34  35-44  45-54  55-64    >65\n",
       "0                  Camden    253361  54527  39552  30599  21676  30098\n",
       "1          City of London      7654   1050   1002   1255   1024   1482\n",
       "2                 Hackney    275929  70473  49206  31106  20243  20394\n",
       "3  Hammersmith and Fulham    182998  40080  30736  24184  15855  19334\n",
       "4                Haringey    271224  52469  48048  36933  24046  26628"
      ]
     },
     "execution_count": 4,
     "metadata": {},
     "output_type": "execute_result"
    }
   ],
   "source": [
    "age = pd.read_csv(\"age.csv\")\n",
    "age.head()"
   ]
  },
  {
   "cell_type": "code",
   "execution_count": null,
   "metadata": {},
   "outputs": [],
   "source": []
  }
 ],
 "metadata": {
  "kernelspec": {
   "display_name": "Python 2",
   "language": "python",
   "name": "python2"
  },
  "language_info": {
   "codemirror_mode": {
    "name": "ipython",
    "version": 2
   },
   "file_extension": ".py",
   "mimetype": "text/x-python",
   "name": "python",
   "nbconvert_exporter": "python",
   "pygments_lexer": "ipython2",
   "version": "2.7.15"
  }
 },
 "nbformat": 4,
 "nbformat_minor": 2
}
