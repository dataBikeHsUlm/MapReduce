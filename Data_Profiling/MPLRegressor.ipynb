{
 "cells": [
  {
   "cell_type": "code",
   "execution_count": 29,
   "metadata": {},
   "outputs": [],
   "source": [
    "from sklearn.neural_network import MLPRegressor\n",
    "import numpy as np\n",
    "import matplotlib.pyplot as plt\n",
    "import pandas as pd\n",
    "from sklearn.preprocessing import LabelEncoder\n",
    "from sklearn import preprocessing\n",
    "from sklearn.preprocessing import StandardScaler\n",
    "from sklearn.preprocessing import Normalizer"
   ]
  },
  {
   "cell_type": "code",
   "execution_count": 30,
   "metadata": {},
   "outputs": [
    {
     "data": {
      "text/html": [
       "<div>\n",
       "<style scoped>\n",
       "    .dataframe tbody tr th:only-of-type {\n",
       "        vertical-align: middle;\n",
       "    }\n",
       "\n",
       "    .dataframe tbody tr th {\n",
       "        vertical-align: top;\n",
       "    }\n",
       "\n",
       "    .dataframe thead th {\n",
       "        text-align: right;\n",
       "    }\n",
       "</style>\n",
       "<table border=\"1\" class=\"dataframe\">\n",
       "  <thead>\n",
       "    <tr style=\"text-align: right;\">\n",
       "      <th></th>\n",
       "      <th>StartStation Id</th>\n",
       "      <th>EndStation Id</th>\n",
       "      <th>Frequency</th>\n",
       "      <th>StartStation capacity</th>\n",
       "      <th>Daily Weather</th>\n",
       "      <th>Weekday</th>\n",
       "      <th>Season</th>\n",
       "      <th>Day &amp; Night</th>\n",
       "      <th>Holiday</th>\n",
       "      <th>Month</th>\n",
       "      <th>Date</th>\n",
       "      <th>Year</th>\n",
       "      <th>Passed_Years</th>\n",
       "      <th>Passed_Months</th>\n",
       "    </tr>\n",
       "  </thead>\n",
       "  <tbody>\n",
       "    <tr>\n",
       "      <th>0</th>\n",
       "      <td>109</td>\n",
       "      <td>722</td>\n",
       "      <td>35</td>\n",
       "      <td>57</td>\n",
       "      <td>partly-cloudy-day</td>\n",
       "      <td>Wednesday</td>\n",
       "      <td>Summer</td>\n",
       "      <td>night</td>\n",
       "      <td>False</td>\n",
       "      <td>8</td>\n",
       "      <td>2018-08-15</td>\n",
       "      <td>2018</td>\n",
       "      <td>1</td>\n",
       "      <td>8</td>\n",
       "    </tr>\n",
       "    <tr>\n",
       "      <th>1</th>\n",
       "      <td>109</td>\n",
       "      <td>777</td>\n",
       "      <td>8</td>\n",
       "      <td>57</td>\n",
       "      <td>partly-cloudy-day</td>\n",
       "      <td>Saturday</td>\n",
       "      <td>Summer</td>\n",
       "      <td>night</td>\n",
       "      <td>False</td>\n",
       "      <td>8</td>\n",
       "      <td>2016-08-13</td>\n",
       "      <td>2016</td>\n",
       "      <td>3</td>\n",
       "      <td>32</td>\n",
       "    </tr>\n",
       "    <tr>\n",
       "      <th>2</th>\n",
       "      <td>109</td>\n",
       "      <td>636</td>\n",
       "      <td>3</td>\n",
       "      <td>57</td>\n",
       "      <td>partly-cloudy-day</td>\n",
       "      <td>Wednesday</td>\n",
       "      <td>Summer</td>\n",
       "      <td>night</td>\n",
       "      <td>False</td>\n",
       "      <td>6</td>\n",
       "      <td>2017-06-21</td>\n",
       "      <td>2017</td>\n",
       "      <td>2</td>\n",
       "      <td>22</td>\n",
       "    </tr>\n",
       "    <tr>\n",
       "      <th>3</th>\n",
       "      <td>109</td>\n",
       "      <td>399</td>\n",
       "      <td>86</td>\n",
       "      <td>57</td>\n",
       "      <td>partly-cloudy-day</td>\n",
       "      <td>Saturday</td>\n",
       "      <td>Autumn</td>\n",
       "      <td>night</td>\n",
       "      <td>False</td>\n",
       "      <td>9</td>\n",
       "      <td>2016-09-24</td>\n",
       "      <td>2016</td>\n",
       "      <td>3</td>\n",
       "      <td>31</td>\n",
       "    </tr>\n",
       "    <tr>\n",
       "      <th>4</th>\n",
       "      <td>109</td>\n",
       "      <td>462</td>\n",
       "      <td>286</td>\n",
       "      <td>57</td>\n",
       "      <td>partly-cloudy-day</td>\n",
       "      <td>Monday</td>\n",
       "      <td>Summer</td>\n",
       "      <td>night</td>\n",
       "      <td>False</td>\n",
       "      <td>7</td>\n",
       "      <td>2015-07-20</td>\n",
       "      <td>2015</td>\n",
       "      <td>4</td>\n",
       "      <td>45</td>\n",
       "    </tr>\n",
       "  </tbody>\n",
       "</table>\n",
       "</div>"
      ],
      "text/plain": [
       "   StartStation Id  EndStation Id  Frequency  StartStation capacity  \\\n",
       "0              109            722         35                     57   \n",
       "1              109            777          8                     57   \n",
       "2              109            636          3                     57   \n",
       "3              109            399         86                     57   \n",
       "4              109            462        286                     57   \n",
       "\n",
       "       Daily Weather    Weekday  Season Day & Night  Holiday  Month  \\\n",
       "0  partly-cloudy-day  Wednesday  Summer       night    False      8   \n",
       "1  partly-cloudy-day   Saturday  Summer       night    False      8   \n",
       "2  partly-cloudy-day  Wednesday  Summer       night    False      6   \n",
       "3  partly-cloudy-day   Saturday  Autumn       night    False      9   \n",
       "4  partly-cloudy-day     Monday  Summer       night    False      7   \n",
       "\n",
       "         Date  Year  Passed_Years  Passed_Months  \n",
       "0  2018-08-15  2018             1              8  \n",
       "1  2016-08-13  2016             3             32  \n",
       "2  2017-06-21  2017             2             22  \n",
       "3  2016-09-24  2016             3             31  \n",
       "4  2015-07-20  2015             4             45  "
      ]
     },
     "execution_count": 30,
     "metadata": {},
     "output_type": "execute_result"
    }
   ],
   "source": [
    "#load features\n",
    "features = pd.read_csv(\"features.csv\")\n",
    "features.head()"
   ]
  },
  {
   "cell_type": "code",
   "execution_count": 31,
   "metadata": {},
   "outputs": [
    {
     "data": {
      "text/plain": [
       "0     35\n",
       "1      8\n",
       "2      3\n",
       "3     86\n",
       "4    286\n",
       "Name: Frequency, dtype: int64"
      ]
     },
     "execution_count": 31,
     "metadata": {},
     "output_type": "execute_result"
    }
   ],
   "source": [
    "#target variable\n",
    "y = features['Frequency']\n",
    "y.head()"
   ]
  },
  {
   "cell_type": "code",
   "execution_count": 32,
   "metadata": {},
   "outputs": [
    {
     "data": {
      "text/html": [
       "<div>\n",
       "<style scoped>\n",
       "    .dataframe tbody tr th:only-of-type {\n",
       "        vertical-align: middle;\n",
       "    }\n",
       "\n",
       "    .dataframe tbody tr th {\n",
       "        vertical-align: top;\n",
       "    }\n",
       "\n",
       "    .dataframe thead th {\n",
       "        text-align: right;\n",
       "    }\n",
       "</style>\n",
       "<table border=\"1\" class=\"dataframe\">\n",
       "  <thead>\n",
       "    <tr style=\"text-align: right;\">\n",
       "      <th></th>\n",
       "      <th>StartStation Id</th>\n",
       "      <th>EndStation Id</th>\n",
       "      <th>Frequency</th>\n",
       "      <th>StartStation capacity</th>\n",
       "      <th>Daily Weather</th>\n",
       "      <th>Weekday</th>\n",
       "      <th>Season</th>\n",
       "      <th>Day &amp; Night</th>\n",
       "      <th>Holiday</th>\n",
       "      <th>Month</th>\n",
       "      <th>Date</th>\n",
       "      <th>Year</th>\n",
       "      <th>Passed_Years</th>\n",
       "      <th>Passed_Months</th>\n",
       "    </tr>\n",
       "  </thead>\n",
       "  <tbody>\n",
       "    <tr>\n",
       "      <th>0</th>\n",
       "      <td>109</td>\n",
       "      <td>722</td>\n",
       "      <td>35</td>\n",
       "      <td>57</td>\n",
       "      <td>3</td>\n",
       "      <td>6</td>\n",
       "      <td>2</td>\n",
       "      <td>1</td>\n",
       "      <td>0</td>\n",
       "      <td>8</td>\n",
       "      <td>468</td>\n",
       "      <td>2018</td>\n",
       "      <td>1</td>\n",
       "      <td>8</td>\n",
       "    </tr>\n",
       "    <tr>\n",
       "      <th>1</th>\n",
       "      <td>109</td>\n",
       "      <td>777</td>\n",
       "      <td>8</td>\n",
       "      <td>57</td>\n",
       "      <td>3</td>\n",
       "      <td>2</td>\n",
       "      <td>2</td>\n",
       "      <td>1</td>\n",
       "      <td>0</td>\n",
       "      <td>8</td>\n",
       "      <td>251</td>\n",
       "      <td>2016</td>\n",
       "      <td>3</td>\n",
       "      <td>32</td>\n",
       "    </tr>\n",
       "    <tr>\n",
       "      <th>2</th>\n",
       "      <td>109</td>\n",
       "      <td>636</td>\n",
       "      <td>3</td>\n",
       "      <td>57</td>\n",
       "      <td>3</td>\n",
       "      <td>6</td>\n",
       "      <td>2</td>\n",
       "      <td>1</td>\n",
       "      <td>0</td>\n",
       "      <td>6</td>\n",
       "      <td>326</td>\n",
       "      <td>2017</td>\n",
       "      <td>2</td>\n",
       "      <td>22</td>\n",
       "    </tr>\n",
       "    <tr>\n",
       "      <th>3</th>\n",
       "      <td>109</td>\n",
       "      <td>399</td>\n",
       "      <td>86</td>\n",
       "      <td>57</td>\n",
       "      <td>3</td>\n",
       "      <td>2</td>\n",
       "      <td>0</td>\n",
       "      <td>1</td>\n",
       "      <td>0</td>\n",
       "      <td>9</td>\n",
       "      <td>267</td>\n",
       "      <td>2016</td>\n",
       "      <td>3</td>\n",
       "      <td>31</td>\n",
       "    </tr>\n",
       "    <tr>\n",
       "      <th>4</th>\n",
       "      <td>109</td>\n",
       "      <td>462</td>\n",
       "      <td>286</td>\n",
       "      <td>57</td>\n",
       "      <td>3</td>\n",
       "      <td>1</td>\n",
       "      <td>2</td>\n",
       "      <td>1</td>\n",
       "      <td>0</td>\n",
       "      <td>7</td>\n",
       "      <td>81</td>\n",
       "      <td>2015</td>\n",
       "      <td>4</td>\n",
       "      <td>45</td>\n",
       "    </tr>\n",
       "  </tbody>\n",
       "</table>\n",
       "</div>"
      ],
      "text/plain": [
       "   StartStation Id  EndStation Id  Frequency  StartStation capacity  \\\n",
       "0              109            722         35                     57   \n",
       "1              109            777          8                     57   \n",
       "2              109            636          3                     57   \n",
       "3              109            399         86                     57   \n",
       "4              109            462        286                     57   \n",
       "\n",
       "   Daily Weather  Weekday  Season  Day & Night  Holiday  Month  Date  Year  \\\n",
       "0              3        6       2            1        0      8   468  2018   \n",
       "1              3        2       2            1        0      8   251  2016   \n",
       "2              3        6       2            1        0      6   326  2017   \n",
       "3              3        2       0            1        0      9   267  2016   \n",
       "4              3        1       2            1        0      7    81  2015   \n",
       "\n",
       "   Passed_Years  Passed_Months  \n",
       "0             1              8  \n",
       "1             3             32  \n",
       "2             2             22  \n",
       "3             3             31  \n",
       "4             4             45  "
      ]
     },
     "execution_count": 32,
     "metadata": {},
     "output_type": "execute_result"
    }
   ],
   "source": [
    "#transorm non-numerical labels to numerical labels\n",
    "le = LabelEncoder()\n",
    "features.loc[:,'Date'] = le.fit_transform(features['Date'])\n",
    "features.loc[:,'Daily Weather'] = le.fit_transform(features['Daily Weather'])\n",
    "features.loc[:,'Weekday'] = le.fit_transform(features['Weekday'])\n",
    "features.loc[:,'Season'] = le.fit_transform(features['Season'])\n",
    "features.loc[:,'Season'] = le.fit_transform(features['Season'])\n",
    "features.loc[:,'Day & Night'] = le.fit_transform(features['Day & Night'])\n",
    "features.loc[:,'Holiday'] = le.fit_transform(features['Holiday'])\n",
    "features.head()"
   ]
  },
  {
   "cell_type": "code",
   "execution_count": 33,
   "metadata": {},
   "outputs": [
    {
     "data": {
      "text/plain": [
       "(776, 14)"
      ]
     },
     "execution_count": 33,
     "metadata": {},
     "output_type": "execute_result"
    }
   ],
   "source": [
    "features.shape"
   ]
  },
  {
   "cell_type": "code",
   "execution_count": 34,
   "metadata": {},
   "outputs": [
    {
     "data": {
      "text/html": [
       "<div>\n",
       "<style scoped>\n",
       "    .dataframe tbody tr th:only-of-type {\n",
       "        vertical-align: middle;\n",
       "    }\n",
       "\n",
       "    .dataframe tbody tr th {\n",
       "        vertical-align: top;\n",
       "    }\n",
       "\n",
       "    .dataframe thead th {\n",
       "        text-align: right;\n",
       "    }\n",
       "</style>\n",
       "<table border=\"1\" class=\"dataframe\">\n",
       "  <thead>\n",
       "    <tr style=\"text-align: right;\">\n",
       "      <th></th>\n",
       "      <th>StartStation Id</th>\n",
       "      <th>EndStation Id</th>\n",
       "      <th>StartStation capacity</th>\n",
       "      <th>Daily Weather</th>\n",
       "      <th>Weekday</th>\n",
       "      <th>Season</th>\n",
       "      <th>Day &amp; Night</th>\n",
       "      <th>Year</th>\n",
       "      <th>Passed_Years</th>\n",
       "      <th>Passed_Months</th>\n",
       "    </tr>\n",
       "  </thead>\n",
       "  <tbody>\n",
       "    <tr>\n",
       "      <th>0</th>\n",
       "      <td>109</td>\n",
       "      <td>722</td>\n",
       "      <td>57</td>\n",
       "      <td>3</td>\n",
       "      <td>6</td>\n",
       "      <td>2</td>\n",
       "      <td>1</td>\n",
       "      <td>2018</td>\n",
       "      <td>1</td>\n",
       "      <td>8</td>\n",
       "    </tr>\n",
       "    <tr>\n",
       "      <th>1</th>\n",
       "      <td>109</td>\n",
       "      <td>777</td>\n",
       "      <td>57</td>\n",
       "      <td>3</td>\n",
       "      <td>2</td>\n",
       "      <td>2</td>\n",
       "      <td>1</td>\n",
       "      <td>2016</td>\n",
       "      <td>3</td>\n",
       "      <td>32</td>\n",
       "    </tr>\n",
       "    <tr>\n",
       "      <th>2</th>\n",
       "      <td>109</td>\n",
       "      <td>636</td>\n",
       "      <td>57</td>\n",
       "      <td>3</td>\n",
       "      <td>6</td>\n",
       "      <td>2</td>\n",
       "      <td>1</td>\n",
       "      <td>2017</td>\n",
       "      <td>2</td>\n",
       "      <td>22</td>\n",
       "    </tr>\n",
       "    <tr>\n",
       "      <th>3</th>\n",
       "      <td>109</td>\n",
       "      <td>399</td>\n",
       "      <td>57</td>\n",
       "      <td>3</td>\n",
       "      <td>2</td>\n",
       "      <td>0</td>\n",
       "      <td>1</td>\n",
       "      <td>2016</td>\n",
       "      <td>3</td>\n",
       "      <td>31</td>\n",
       "    </tr>\n",
       "    <tr>\n",
       "      <th>4</th>\n",
       "      <td>109</td>\n",
       "      <td>462</td>\n",
       "      <td>57</td>\n",
       "      <td>3</td>\n",
       "      <td>1</td>\n",
       "      <td>2</td>\n",
       "      <td>1</td>\n",
       "      <td>2015</td>\n",
       "      <td>4</td>\n",
       "      <td>45</td>\n",
       "    </tr>\n",
       "  </tbody>\n",
       "</table>\n",
       "</div>"
      ],
      "text/plain": [
       "   StartStation Id  EndStation Id  StartStation capacity  Daily Weather  \\\n",
       "0              109            722                     57              3   \n",
       "1              109            777                     57              3   \n",
       "2              109            636                     57              3   \n",
       "3              109            399                     57              3   \n",
       "4              109            462                     57              3   \n",
       "\n",
       "   Weekday  Season  Day & Night  Year  Passed_Years  Passed_Months  \n",
       "0        6       2            1  2018             1              8  \n",
       "1        2       2            1  2016             3             32  \n",
       "2        6       2            1  2017             2             22  \n",
       "3        2       0            1  2016             3             31  \n",
       "4        1       2            1  2015             4             45  "
      ]
     },
     "execution_count": 34,
     "metadata": {},
     "output_type": "execute_result"
    }
   ],
   "source": [
    "#Feature Matrix\n",
    "#X=features.loc[:,['Pclass','Sex','Age','SibSp','Parch','Fare','Embarked']]\n",
    "X=features.loc[:,['StartStation Id','EndStation Id','StartStation capacity','Daily Weather','Weekday','Season','Day & Night','Year','Passed_Years','Passed_Months']]\n",
    "X.head()"
   ]
  },
  {
   "cell_type": "code",
   "execution_count": 35,
   "metadata": {},
   "outputs": [
    {
     "data": {
      "text/plain": [
       "Index([u'StartStation Id', u'EndStation Id', u'StartStation capacity',\n",
       "       u'Daily Weather', u'Weekday', u'Season', u'Day & Night', u'Year',\n",
       "       u'Passed_Years', u'Passed_Months'],\n",
       "      dtype='object')"
      ]
     },
     "execution_count": 35,
     "metadata": {},
     "output_type": "execute_result"
    }
   ],
   "source": [
    "X.columns"
   ]
  },
  {
   "cell_type": "code",
   "execution_count": 36,
   "metadata": {},
   "outputs": [
    {
     "data": {
      "text/plain": [
       "array([[ 0.        ,  1.26207676,  0.        , ...,  1.65514008,\n",
       "        -1.65514008, -1.74709647],\n",
       "       [ 0.        ,  1.48833083,  0.        , ..., -0.18364117,\n",
       "         0.18364117,  0.07168076],\n",
       "       [ 0.        ,  0.90829768,  0.        , ...,  0.73574946,\n",
       "        -0.73574946, -0.68614309],\n",
       "       ...,\n",
       "       [ 0.        ,  0.14726128,  0.        , ..., -1.10303179,\n",
       "         1.10303179,  1.13263415],\n",
       "       [ 0.        ,  1.08107351,  0.        , ..., -0.18364117,\n",
       "         0.18364117,  0.29902791],\n",
       "       [ 0.        , -0.06253794,  0.        , ..., -1.10303179,\n",
       "         1.10303179,  1.51154607]])"
      ]
     },
     "execution_count": 36,
     "metadata": {},
     "output_type": "execute_result"
    }
   ],
   "source": [
    "#Standardize data\n",
    "preprocessing.scale(X)"
   ]
  },
  {
   "cell_type": "code",
   "execution_count": 37,
   "metadata": {},
   "outputs": [
    {
     "data": {
      "text/plain": [
       "MLPRegressor(activation='relu', alpha=0.001, batch_size='auto', beta_1=0.9,\n",
       "       beta_2=0.999, early_stopping=False, epsilon=1e-08,\n",
       "       hidden_layer_sizes=(100,), learning_rate='constant',\n",
       "       learning_rate_init=0.01, max_iter=1000, momentum=0.9,\n",
       "       nesterovs_momentum=True, power_t=0.5, random_state=9, shuffle=True,\n",
       "       solver='lbfgs', tol=0.0001, validation_fraction=0.1, verbose=False,\n",
       "       warm_start=False)"
      ]
     },
     "execution_count": 37,
     "metadata": {},
     "output_type": "execute_result"
    }
   ],
   "source": [
    "nn = MLPRegressor(\n",
    "    hidden_layer_sizes=(100,),  activation='relu', solver='lbfgs', alpha=0.001, batch_size='auto',\n",
    "    learning_rate='constant', learning_rate_init=0.01, power_t=0.5, max_iter=1000, shuffle=True,\n",
    "    random_state=9, tol=0.0001, verbose=False, warm_start=False, momentum=0.9, nesterovs_momentum=True,\n",
    "    early_stopping=False, validation_fraction=0.1, beta_1=0.9, beta_2=0.999, epsilon=1e-08)\n",
    "\n",
    "n = nn.fit(X, y)\n",
    "n"
   ]
  },
  {
   "cell_type": "code",
   "execution_count": 38,
   "metadata": {},
   "outputs": [],
   "source": [
    "X_train, X_test = X[:600], X[600:]\n",
    "y_train, y_test = y[:600], y[600:]"
   ]
  },
  {
   "cell_type": "code",
   "execution_count": 39,
   "metadata": {},
   "outputs": [
    {
     "name": "stdout",
     "output_type": "stream",
     "text": [
      "Training set score: 0.121774\n",
      "Test set score: 0.151953\n"
     ]
    }
   ],
   "source": [
    "n.fit(X_train, y_train)\n",
    "print(\"Training set score: %f\" % nn.score(X_train, y_train))\n",
    "print(\"Test set score: %f\" % nn.score(X_test, y_test))"
   ]
  },
  {
   "cell_type": "code",
   "execution_count": 40,
   "metadata": {},
   "outputs": [
    {
     "data": {
      "text/plain": [
       "'The accuracy of the model is 0.1251710'"
      ]
     },
     "execution_count": 40,
     "metadata": {},
     "output_type": "execute_result"
    }
   ],
   "source": [
    "#Returns the coefficient of determination R^2 of the prediction\n",
    "\"The accuracy of the model is {0:.7f}\".format(n.score(X,y))\n"
   ]
  }
 ],
 "metadata": {
  "kernelspec": {
   "display_name": "Python 2",
   "language": "python",
   "name": "python2"
  },
  "language_info": {
   "codemirror_mode": {
    "name": "ipython",
    "version": 2
   },
   "file_extension": ".py",
   "mimetype": "text/x-python",
   "name": "python",
   "nbconvert_exporter": "python",
   "pygments_lexer": "ipython2",
   "version": "2.7.15"
  }
 },
 "nbformat": 4,
 "nbformat_minor": 2
}
