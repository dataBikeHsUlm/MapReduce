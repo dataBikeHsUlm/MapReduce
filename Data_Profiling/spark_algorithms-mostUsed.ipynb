{
 "cells": [
  {
   "cell_type": "markdown",
   "metadata": {},
   "source": [
    "# DATA PREPARATION"
   ]
  },
  {
   "cell_type": "code",
   "execution_count": 2,
   "metadata": {},
   "outputs": [
    {
     "ename": "ImportError",
     "evalue": "No module named 'bokeh'",
     "output_type": "error",
     "traceback": [
      "\u001b[0;31m---------------------------------------------------------------------------\u001b[0m",
      "\u001b[0;31mImportError\u001b[0m                               Traceback (most recent call last)",
      "\u001b[0;32m<ipython-input-2-5ba5bb6fb123>\u001b[0m in \u001b[0;36m<module>\u001b[0;34m\u001b[0m\n\u001b[1;32m     22\u001b[0m \u001b[0;32mfrom\u001b[0m \u001b[0mmath\u001b[0m \u001b[0;32mimport\u001b[0m \u001b[0msqrt\u001b[0m\u001b[0;34m\u001b[0m\u001b[0m\n\u001b[1;32m     23\u001b[0m \u001b[0;34m\u001b[0m\u001b[0m\n\u001b[0;32m---> 24\u001b[0;31m \u001b[0;32mfrom\u001b[0m \u001b[0mbokeh\u001b[0m\u001b[0;34m.\u001b[0m\u001b[0mplotting\u001b[0m \u001b[0;32mimport\u001b[0m \u001b[0mfigure\u001b[0m\u001b[0;34m,\u001b[0m \u001b[0moutput_file\u001b[0m\u001b[0;34m,\u001b[0m \u001b[0mshow\u001b[0m\u001b[0;34m\u001b[0m\u001b[0m\n\u001b[0m\u001b[1;32m     25\u001b[0m \u001b[0;32mfrom\u001b[0m \u001b[0mbokeh\u001b[0m\u001b[0;34m.\u001b[0m\u001b[0mmodels\u001b[0m \u001b[0;32mimport\u001b[0m \u001b[0mSingleIntervalTicker\u001b[0m\u001b[0;34m,\u001b[0m \u001b[0mLinearAxis\u001b[0m\u001b[0;34m\u001b[0m\u001b[0m\n",
      "\u001b[0;31mImportError\u001b[0m: No module named 'bokeh'"
     ]
    }
   ],
   "source": [
    "import pyspark\n",
    "from pyspark.sql.functions import *\n",
    "from pyspark.ml.feature import StringIndexer, IndexToString, RFormula, OneHotEncoderEstimator, VectorAssembler\n",
    "from pyspark.ml.classification import LogisticRegression\n",
    "from pyspark.ml.evaluation import MulticlassClassificationEvaluator\n",
    "from pyspark.ml import Pipeline, Model\n",
    "\n",
    "\n",
    "\n",
    "#required imports\n",
    "\n",
    "import numpy as np\n",
    "import matplotlib.pyplot as plt\n",
    "import pandas as pd\n",
    "import seaborn as sn\n",
    "from sklearn.preprocessing import LabelEncoder\n",
    "from sklearn import preprocessing\n",
    "from sklearn.preprocessing import StandardScaler\n",
    "from sklearn.preprocessing import Normalizer\n",
    "from sklearn.model_selection import train_test_split\n",
    "from sklearn.metrics import mean_squared_error  \n",
    "from math import sqrt \n",
    "\n",
    "from bokeh.plotting import figure, output_file, show\n",
    "from bokeh.models import SingleIntervalTicker, LinearAxis"
   ]
  },
  {
   "cell_type": "markdown",
   "metadata": {},
   "source": [
    "## RMSE = Root Mean Square Error \n",
    "is a frequently used measure of the differences between values predicted by a model. \n",
    "\n",
    "It is the standard deviation of prediction errors.<br>\n",
    "[RMSE](https://www.statisticshowto.datasciencecentral.com/rmse/) answers the question of how concentrated the data is around the line of best fit.\n",
    "![](img/rmse.png)\n",
    "Where:<br>\n",
    "f = forecasts (expected values or unknown results)<br>\n",
    "o = observed values (known results)"
   ]
  },
  {
   "cell_type": "code",
   "execution_count": 5,
   "metadata": {
    "scrolled": false
   },
   "outputs": [
    {
     "data": {
      "text/html": [
       "<div>\n",
       "<style scoped>\n",
       "    .dataframe tbody tr th:only-of-type {\n",
       "        vertical-align: middle;\n",
       "    }\n",
       "\n",
       "    .dataframe tbody tr th {\n",
       "        vertical-align: top;\n",
       "    }\n",
       "\n",
       "    .dataframe thead th {\n",
       "        text-align: right;\n",
       "    }\n",
       "</style>\n",
       "<table border=\"1\" class=\"dataframe\">\n",
       "  <thead>\n",
       "    <tr style=\"text-align: right;\">\n",
       "      <th></th>\n",
       "      <th>Day</th>\n",
       "      <th>Month</th>\n",
       "      <th>Season</th>\n",
       "      <th>Weekday</th>\n",
       "      <th>Holiday</th>\n",
       "      <th>Daily Weather</th>\n",
       "      <th>Daily Weather (Past)</th>\n",
       "      <th>Humidity</th>\n",
       "      <th>Humidity (Past)</th>\n",
       "      <th>Windspeed</th>\n",
       "      <th>Windspeed (Past)</th>\n",
       "      <th>Apparent Temperature (Avg)</th>\n",
       "      <th>Apparent Temperature (Avg) (Past)</th>\n",
       "      <th>Rented Bikes</th>\n",
       "      <th>Rented Bikes (Future)</th>\n",
       "    </tr>\n",
       "  </thead>\n",
       "  <tbody>\n",
       "    <tr>\n",
       "      <th>0</th>\n",
       "      <td>1</td>\n",
       "      <td>January</td>\n",
       "      <td>Winter</td>\n",
       "      <td>Monday</td>\n",
       "      <td>False</td>\n",
       "      <td>partly-cloudy-day</td>\n",
       "      <td>fog</td>\n",
       "      <td>0.88</td>\n",
       "      <td>0.94</td>\n",
       "      <td>1.59</td>\n",
       "      <td>0.55</td>\n",
       "      <td>46.740</td>\n",
       "      <td>36.295</td>\n",
       "      <td>281</td>\n",
       "      <td>279</td>\n",
       "    </tr>\n",
       "    <tr>\n",
       "      <th>1</th>\n",
       "      <td>2</td>\n",
       "      <td>January</td>\n",
       "      <td>Winter</td>\n",
       "      <td>Tuesday</td>\n",
       "      <td>False</td>\n",
       "      <td>partly-cloudy-day</td>\n",
       "      <td>partly-cloudy-day</td>\n",
       "      <td>0.86</td>\n",
       "      <td>0.88</td>\n",
       "      <td>2.07</td>\n",
       "      <td>1.59</td>\n",
       "      <td>42.150</td>\n",
       "      <td>46.740</td>\n",
       "      <td>279</td>\n",
       "      <td>274</td>\n",
       "    </tr>\n",
       "    <tr>\n",
       "      <th>2</th>\n",
       "      <td>3</td>\n",
       "      <td>January</td>\n",
       "      <td>Winter</td>\n",
       "      <td>Wednesday</td>\n",
       "      <td>False</td>\n",
       "      <td>clear-day</td>\n",
       "      <td>partly-cloudy-day</td>\n",
       "      <td>0.86</td>\n",
       "      <td>0.86</td>\n",
       "      <td>4.13</td>\n",
       "      <td>2.07</td>\n",
       "      <td>45.450</td>\n",
       "      <td>42.150</td>\n",
       "      <td>274</td>\n",
       "      <td>161</td>\n",
       "    </tr>\n",
       "    <tr>\n",
       "      <th>3</th>\n",
       "      <td>4</td>\n",
       "      <td>January</td>\n",
       "      <td>Winter</td>\n",
       "      <td>Thursday</td>\n",
       "      <td>False</td>\n",
       "      <td>rain</td>\n",
       "      <td>clear-day</td>\n",
       "      <td>0.87</td>\n",
       "      <td>0.86</td>\n",
       "      <td>3.60</td>\n",
       "      <td>4.13</td>\n",
       "      <td>46.200</td>\n",
       "      <td>45.450</td>\n",
       "      <td>161</td>\n",
       "      <td>270</td>\n",
       "    </tr>\n",
       "    <tr>\n",
       "      <th>4</th>\n",
       "      <td>5</td>\n",
       "      <td>January</td>\n",
       "      <td>Winter</td>\n",
       "      <td>Friday</td>\n",
       "      <td>False</td>\n",
       "      <td>partly-cloudy-day</td>\n",
       "      <td>rain</td>\n",
       "      <td>0.81</td>\n",
       "      <td>0.87</td>\n",
       "      <td>7.43</td>\n",
       "      <td>3.60</td>\n",
       "      <td>56.085</td>\n",
       "      <td>46.200</td>\n",
       "      <td>270</td>\n",
       "      <td>62</td>\n",
       "    </tr>\n",
       "  </tbody>\n",
       "</table>\n",
       "</div>"
      ],
      "text/plain": [
       "   Day    Month  Season    Weekday  Holiday      Daily Weather  \\\n",
       "0    1  January  Winter     Monday    False  partly-cloudy-day   \n",
       "1    2  January  Winter    Tuesday    False  partly-cloudy-day   \n",
       "2    3  January  Winter  Wednesday    False          clear-day   \n",
       "3    4  January  Winter   Thursday    False               rain   \n",
       "4    5  January  Winter     Friday    False  partly-cloudy-day   \n",
       "\n",
       "  Daily Weather (Past)  Humidity  Humidity (Past)  Windspeed  \\\n",
       "0                  fog      0.88             0.94       1.59   \n",
       "1    partly-cloudy-day      0.86             0.88       2.07   \n",
       "2    partly-cloudy-day      0.86             0.86       4.13   \n",
       "3            clear-day      0.87             0.86       3.60   \n",
       "4                 rain      0.81             0.87       7.43   \n",
       "\n",
       "   Windspeed (Past)  Apparent Temperature (Avg)  \\\n",
       "0              0.55                      46.740   \n",
       "1              1.59                      42.150   \n",
       "2              2.07                      45.450   \n",
       "3              4.13                      46.200   \n",
       "4              3.60                      56.085   \n",
       "\n",
       "   Apparent Temperature (Avg) (Past)  Rented Bikes  Rented Bikes (Future)  \n",
       "0                             36.295           281                    279  \n",
       "1                             46.740           279                    274  \n",
       "2                             42.150           274                    161  \n",
       "3                             45.450           161                    270  \n",
       "4                             46.200           270                     62  "
      ]
     },
     "execution_count": 5,
     "metadata": {},
     "output_type": "execute_result"
    }
   ],
   "source": [
    "#load features\n",
    "features = pd.read_csv(\"features.csv\")\n",
    "features.head()"
   ]
  },
  {
   "cell_type": "code",
   "execution_count": 4,
   "metadata": {},
   "outputs": [
    {
     "name": "stdout",
     "output_type": "stream",
     "text": [
      "<class 'pandas.core.frame.DataFrame'>\n",
      "RangeIndex: 1514 entries, 0 to 1513\n",
      "Data columns (total 15 columns):\n",
      "Day                                  1514 non-null int64\n",
      "Month                                1514 non-null object\n",
      "Season                               1514 non-null object\n",
      "Weekday                              1514 non-null object\n",
      "Holiday                              1514 non-null bool\n",
      "Daily Weather                        1514 non-null object\n",
      "Daily Weather (Past)                 1514 non-null object\n",
      "Humidity                             1514 non-null float64\n",
      "Humidity (Past)                      1514 non-null float64\n",
      "Windspeed                            1514 non-null float64\n",
      "Windspeed (Past)                     1514 non-null float64\n",
      "Apparent Temperature (Avg)           1514 non-null float64\n",
      "Apparent Temperature (Avg) (Past)    1514 non-null float64\n",
      "Rented Bikes                         1514 non-null int64\n",
      "Rented Bikes (Future)                1514 non-null int64\n",
      "dtypes: bool(1), float64(6), int64(3), object(5)\n",
      "memory usage: 167.2+ KB\n"
     ]
    }
   ],
   "source": [
    "features.info()"
   ]
  },
  {
   "cell_type": "code",
   "execution_count": 6,
   "metadata": {
    "scrolled": true
   },
   "outputs": [],
   "source": [
    "#target variable\n",
    "label = features['Rented Bikes (Future)'].tolist()"
   ]
  },
  {
   "cell_type": "code",
   "execution_count": 7,
   "metadata": {},
   "outputs": [
    {
     "data": {
      "text/plain": [
       "1514"
      ]
     },
     "execution_count": 7,
     "metadata": {},
     "output_type": "execute_result"
    }
   ],
   "source": [
    "len(label)"
   ]
  },
  {
   "cell_type": "code",
   "execution_count": 1335,
   "metadata": {},
   "outputs": [
    {
     "data": {
      "text/html": [
       "<div>\n",
       "<style scoped>\n",
       "    .dataframe tbody tr th:only-of-type {\n",
       "        vertical-align: middle;\n",
       "    }\n",
       "\n",
       "    .dataframe tbody tr th {\n",
       "        vertical-align: top;\n",
       "    }\n",
       "\n",
       "    .dataframe thead th {\n",
       "        text-align: right;\n",
       "    }\n",
       "</style>\n",
       "<table border=\"1\" class=\"dataframe\">\n",
       "  <thead>\n",
       "    <tr style=\"text-align: right;\">\n",
       "      <th></th>\n",
       "      <th>Day</th>\n",
       "      <th>Month</th>\n",
       "      <th>Season</th>\n",
       "      <th>Weekday</th>\n",
       "      <th>Holiday</th>\n",
       "      <th>Daily Weather</th>\n",
       "      <th>Daily Weather (Past)</th>\n",
       "      <th>Humidity</th>\n",
       "      <th>Humidity (Past)</th>\n",
       "      <th>Windspeed</th>\n",
       "      <th>Windspeed (Past)</th>\n",
       "      <th>Apparent Temperature (Avg)</th>\n",
       "      <th>Apparent Temperature (Avg) (Past)</th>\n",
       "      <th>Rented Bikes</th>\n",
       "      <th>Rented Bikes (Future)</th>\n",
       "    </tr>\n",
       "  </thead>\n",
       "  <tbody>\n",
       "    <tr>\n",
       "      <th>0</th>\n",
       "      <td>1</td>\n",
       "      <td>January</td>\n",
       "      <td>Winter</td>\n",
       "      <td>Monday</td>\n",
       "      <td>0</td>\n",
       "      <td>partly-cloudy-day</td>\n",
       "      <td>fog</td>\n",
       "      <td>0.88</td>\n",
       "      <td>0.94</td>\n",
       "      <td>1.59</td>\n",
       "      <td>0.55</td>\n",
       "      <td>46.740</td>\n",
       "      <td>36.295</td>\n",
       "      <td>281</td>\n",
       "      <td>279</td>\n",
       "    </tr>\n",
       "    <tr>\n",
       "      <th>1</th>\n",
       "      <td>2</td>\n",
       "      <td>January</td>\n",
       "      <td>Winter</td>\n",
       "      <td>Tuesday</td>\n",
       "      <td>0</td>\n",
       "      <td>partly-cloudy-day</td>\n",
       "      <td>partly-cloudy-day</td>\n",
       "      <td>0.86</td>\n",
       "      <td>0.88</td>\n",
       "      <td>2.07</td>\n",
       "      <td>1.59</td>\n",
       "      <td>42.150</td>\n",
       "      <td>46.740</td>\n",
       "      <td>279</td>\n",
       "      <td>274</td>\n",
       "    </tr>\n",
       "    <tr>\n",
       "      <th>2</th>\n",
       "      <td>3</td>\n",
       "      <td>January</td>\n",
       "      <td>Winter</td>\n",
       "      <td>Wednesday</td>\n",
       "      <td>0</td>\n",
       "      <td>clear-day</td>\n",
       "      <td>partly-cloudy-day</td>\n",
       "      <td>0.86</td>\n",
       "      <td>0.86</td>\n",
       "      <td>4.13</td>\n",
       "      <td>2.07</td>\n",
       "      <td>45.450</td>\n",
       "      <td>42.150</td>\n",
       "      <td>274</td>\n",
       "      <td>161</td>\n",
       "    </tr>\n",
       "    <tr>\n",
       "      <th>3</th>\n",
       "      <td>4</td>\n",
       "      <td>January</td>\n",
       "      <td>Winter</td>\n",
       "      <td>Thursday</td>\n",
       "      <td>0</td>\n",
       "      <td>rain</td>\n",
       "      <td>clear-day</td>\n",
       "      <td>0.87</td>\n",
       "      <td>0.86</td>\n",
       "      <td>3.60</td>\n",
       "      <td>4.13</td>\n",
       "      <td>46.200</td>\n",
       "      <td>45.450</td>\n",
       "      <td>161</td>\n",
       "      <td>270</td>\n",
       "    </tr>\n",
       "    <tr>\n",
       "      <th>4</th>\n",
       "      <td>5</td>\n",
       "      <td>January</td>\n",
       "      <td>Winter</td>\n",
       "      <td>Friday</td>\n",
       "      <td>0</td>\n",
       "      <td>partly-cloudy-day</td>\n",
       "      <td>rain</td>\n",
       "      <td>0.81</td>\n",
       "      <td>0.87</td>\n",
       "      <td>7.43</td>\n",
       "      <td>3.60</td>\n",
       "      <td>56.085</td>\n",
       "      <td>46.200</td>\n",
       "      <td>270</td>\n",
       "      <td>62</td>\n",
       "    </tr>\n",
       "  </tbody>\n",
       "</table>\n",
       "</div>"
      ],
      "text/plain": [
       "   Day    Month  Season    Weekday  Holiday      Daily Weather  \\\n",
       "0    1  January  Winter     Monday        0  partly-cloudy-day   \n",
       "1    2  January  Winter    Tuesday        0  partly-cloudy-day   \n",
       "2    3  January  Winter  Wednesday        0          clear-day   \n",
       "3    4  January  Winter   Thursday        0               rain   \n",
       "4    5  January  Winter     Friday        0  partly-cloudy-day   \n",
       "\n",
       "  Daily Weather (Past)  Humidity  Humidity (Past)  Windspeed  \\\n",
       "0                  fog      0.88             0.94       1.59   \n",
       "1    partly-cloudy-day      0.86             0.88       2.07   \n",
       "2    partly-cloudy-day      0.86             0.86       4.13   \n",
       "3            clear-day      0.87             0.86       3.60   \n",
       "4                 rain      0.81             0.87       7.43   \n",
       "\n",
       "   Windspeed (Past)  Apparent Temperature (Avg)  \\\n",
       "0              0.55                      46.740   \n",
       "1              1.59                      42.150   \n",
       "2              2.07                      45.450   \n",
       "3              4.13                      46.200   \n",
       "4              3.60                      56.085   \n",
       "\n",
       "   Apparent Temperature (Avg) (Past)  Rented Bikes  Rented Bikes (Future)  \n",
       "0                             36.295           281                    279  \n",
       "1                             46.740           279                    274  \n",
       "2                             42.150           274                    161  \n",
       "3                             45.450           161                    270  \n",
       "4                             46.200           270                     62  "
      ]
     },
     "execution_count": 1335,
     "metadata": {},
     "output_type": "execute_result"
    }
   ],
   "source": [
    "#transorm non-numerical labels to numerical labels\n",
    "le = LabelEncoder()\n",
    "features.loc[:,'Holiday'] = le.fit_transform(features['Holiday'])\n",
    "features.head()"
   ]
  },
  {
   "cell_type": "code",
   "execution_count": 1336,
   "metadata": {
    "scrolled": true
   },
   "outputs": [],
   "source": [
    "#transorm non-numerical labels to numerical labels\n",
    "cleanup_nums = {\"Month\":   {\"January\": 1, \"February\": 2, \"March\": 3, \"April\": 4, \"May\": 5, \"June\": 6, \"July\": 7, \"August\": 8, \"September\": 9, \"October\": 10, \"November\": 11, \"December\": 12},\n",
    "               \"Season\": {\"Spring\": 1, \"Summer\": 2, \"Autumn\": 3, \"Winter\": 4},\n",
    "               \"Weekday\": {\"Monday\": 1, \"Tuesday\": 2, \"Wednesday\": 3, \"Thursday\": 4,\n",
    "                                  \"Friday\": 5, \"Saturday\": 6, \"Sunday\":7 },\n",
    "               \"Daily Weather\": {\"clear-day\": 1, \"partly-cloudy-day\": 2,\"cloudy\":3,\"wind\":4, \"rain\": 5, \"fog\": 6, \"snow\": 7},\n",
    "               \"Daily Weather (Past)\": {\"clear-day\": 1, \"partly-cloudy-day\": 2,\"cloudy\":3,\"wind\":4, \"rain\": 5,\"fog\": 6, \"snow\": 7} }"
   ]
  },
  {
   "cell_type": "code",
   "execution_count": 1337,
   "metadata": {},
   "outputs": [],
   "source": [
    "features.replace(cleanup_nums, inplace=True)"
   ]
  },
  {
   "cell_type": "code",
   "execution_count": 1338,
   "metadata": {},
   "outputs": [
    {
     "data": {
      "text/html": [
       "<div>\n",
       "<style scoped>\n",
       "    .dataframe tbody tr th:only-of-type {\n",
       "        vertical-align: middle;\n",
       "    }\n",
       "\n",
       "    .dataframe tbody tr th {\n",
       "        vertical-align: top;\n",
       "    }\n",
       "\n",
       "    .dataframe thead th {\n",
       "        text-align: right;\n",
       "    }\n",
       "</style>\n",
       "<table border=\"1\" class=\"dataframe\">\n",
       "  <thead>\n",
       "    <tr style=\"text-align: right;\">\n",
       "      <th></th>\n",
       "      <th>Day</th>\n",
       "      <th>Month</th>\n",
       "      <th>Season</th>\n",
       "      <th>Weekday</th>\n",
       "      <th>Holiday</th>\n",
       "      <th>Daily Weather</th>\n",
       "      <th>Daily Weather (Past)</th>\n",
       "      <th>Humidity</th>\n",
       "      <th>Humidity (Past)</th>\n",
       "      <th>Windspeed</th>\n",
       "      <th>Windspeed (Past)</th>\n",
       "      <th>Apparent Temperature (Avg)</th>\n",
       "      <th>Apparent Temperature (Avg) (Past)</th>\n",
       "      <th>Rented Bikes</th>\n",
       "      <th>Rented Bikes (Future)</th>\n",
       "    </tr>\n",
       "  </thead>\n",
       "  <tbody>\n",
       "    <tr>\n",
       "      <th>0</th>\n",
       "      <td>1</td>\n",
       "      <td>1</td>\n",
       "      <td>4</td>\n",
       "      <td>1</td>\n",
       "      <td>0</td>\n",
       "      <td>2</td>\n",
       "      <td>6</td>\n",
       "      <td>0.88</td>\n",
       "      <td>0.94</td>\n",
       "      <td>1.59</td>\n",
       "      <td>0.55</td>\n",
       "      <td>46.740</td>\n",
       "      <td>36.295</td>\n",
       "      <td>281</td>\n",
       "      <td>279</td>\n",
       "    </tr>\n",
       "    <tr>\n",
       "      <th>1</th>\n",
       "      <td>2</td>\n",
       "      <td>1</td>\n",
       "      <td>4</td>\n",
       "      <td>2</td>\n",
       "      <td>0</td>\n",
       "      <td>2</td>\n",
       "      <td>2</td>\n",
       "      <td>0.86</td>\n",
       "      <td>0.88</td>\n",
       "      <td>2.07</td>\n",
       "      <td>1.59</td>\n",
       "      <td>42.150</td>\n",
       "      <td>46.740</td>\n",
       "      <td>279</td>\n",
       "      <td>274</td>\n",
       "    </tr>\n",
       "    <tr>\n",
       "      <th>2</th>\n",
       "      <td>3</td>\n",
       "      <td>1</td>\n",
       "      <td>4</td>\n",
       "      <td>3</td>\n",
       "      <td>0</td>\n",
       "      <td>1</td>\n",
       "      <td>2</td>\n",
       "      <td>0.86</td>\n",
       "      <td>0.86</td>\n",
       "      <td>4.13</td>\n",
       "      <td>2.07</td>\n",
       "      <td>45.450</td>\n",
       "      <td>42.150</td>\n",
       "      <td>274</td>\n",
       "      <td>161</td>\n",
       "    </tr>\n",
       "    <tr>\n",
       "      <th>3</th>\n",
       "      <td>4</td>\n",
       "      <td>1</td>\n",
       "      <td>4</td>\n",
       "      <td>4</td>\n",
       "      <td>0</td>\n",
       "      <td>5</td>\n",
       "      <td>1</td>\n",
       "      <td>0.87</td>\n",
       "      <td>0.86</td>\n",
       "      <td>3.60</td>\n",
       "      <td>4.13</td>\n",
       "      <td>46.200</td>\n",
       "      <td>45.450</td>\n",
       "      <td>161</td>\n",
       "      <td>270</td>\n",
       "    </tr>\n",
       "    <tr>\n",
       "      <th>4</th>\n",
       "      <td>5</td>\n",
       "      <td>1</td>\n",
       "      <td>4</td>\n",
       "      <td>5</td>\n",
       "      <td>0</td>\n",
       "      <td>2</td>\n",
       "      <td>5</td>\n",
       "      <td>0.81</td>\n",
       "      <td>0.87</td>\n",
       "      <td>7.43</td>\n",
       "      <td>3.60</td>\n",
       "      <td>56.085</td>\n",
       "      <td>46.200</td>\n",
       "      <td>270</td>\n",
       "      <td>62</td>\n",
       "    </tr>\n",
       "  </tbody>\n",
       "</table>\n",
       "</div>"
      ],
      "text/plain": [
       "   Day  Month  Season  Weekday  Holiday  Daily Weather  Daily Weather (Past)  \\\n",
       "0    1      1       4        1        0              2                     6   \n",
       "1    2      1       4        2        0              2                     2   \n",
       "2    3      1       4        3        0              1                     2   \n",
       "3    4      1       4        4        0              5                     1   \n",
       "4    5      1       4        5        0              2                     5   \n",
       "\n",
       "   Humidity  Humidity (Past)  Windspeed  Windspeed (Past)  \\\n",
       "0      0.88             0.94       1.59              0.55   \n",
       "1      0.86             0.88       2.07              1.59   \n",
       "2      0.86             0.86       4.13              2.07   \n",
       "3      0.87             0.86       3.60              4.13   \n",
       "4      0.81             0.87       7.43              3.60   \n",
       "\n",
       "   Apparent Temperature (Avg)  Apparent Temperature (Avg) (Past)  \\\n",
       "0                      46.740                             36.295   \n",
       "1                      42.150                             46.740   \n",
       "2                      45.450                             42.150   \n",
       "3                      46.200                             45.450   \n",
       "4                      56.085                             46.200   \n",
       "\n",
       "   Rented Bikes  Rented Bikes (Future)  \n",
       "0           281                    279  \n",
       "1           279                    274  \n",
       "2           274                    161  \n",
       "3           161                    270  \n",
       "4           270                     62  "
      ]
     },
     "execution_count": 1338,
     "metadata": {},
     "output_type": "execute_result"
    }
   ],
   "source": [
    "features.head()"
   ]
  },
  {
   "cell_type": "code",
   "execution_count": 1339,
   "metadata": {},
   "outputs": [
    {
     "data": {
      "text/plain": [
       "(1514, 15)"
      ]
     },
     "execution_count": 1339,
     "metadata": {},
     "output_type": "execute_result"
    }
   ],
   "source": [
    "features.shape"
   ]
  },
  {
   "cell_type": "code",
   "execution_count": 1342,
   "metadata": {},
   "outputs": [
    {
     "data": {
      "text/html": [
       "<div>\n",
       "<style scoped>\n",
       "    .dataframe tbody tr th:only-of-type {\n",
       "        vertical-align: middle;\n",
       "    }\n",
       "\n",
       "    .dataframe tbody tr th {\n",
       "        vertical-align: top;\n",
       "    }\n",
       "\n",
       "    .dataframe thead th {\n",
       "        text-align: right;\n",
       "    }\n",
       "</style>\n",
       "<table border=\"1\" class=\"dataframe\">\n",
       "  <thead>\n",
       "    <tr style=\"text-align: right;\">\n",
       "      <th></th>\n",
       "      <th>Day</th>\n",
       "      <th>Month</th>\n",
       "      <th>Season</th>\n",
       "      <th>Weekday</th>\n",
       "      <th>Daily Weather</th>\n",
       "      <th>Daily Weather (Past)</th>\n",
       "      <th>Humidity</th>\n",
       "      <th>Humidity (Past)</th>\n",
       "      <th>Windspeed</th>\n",
       "      <th>Windspeed (Past)</th>\n",
       "      <th>Apparent Temperature (Avg)</th>\n",
       "      <th>Apparent Temperature (Avg) (Past)</th>\n",
       "      <th>Rented Bikes</th>\n",
       "      <th>Rented Bikes (Future)</th>\n",
       "    </tr>\n",
       "  </thead>\n",
       "  <tbody>\n",
       "    <tr>\n",
       "      <th>0</th>\n",
       "      <td>1</td>\n",
       "      <td>1</td>\n",
       "      <td>4</td>\n",
       "      <td>1</td>\n",
       "      <td>2</td>\n",
       "      <td>6</td>\n",
       "      <td>0.88</td>\n",
       "      <td>0.94</td>\n",
       "      <td>1.59</td>\n",
       "      <td>0.55</td>\n",
       "      <td>46.740</td>\n",
       "      <td>36.295</td>\n",
       "      <td>281</td>\n",
       "      <td>279</td>\n",
       "    </tr>\n",
       "    <tr>\n",
       "      <th>1</th>\n",
       "      <td>2</td>\n",
       "      <td>1</td>\n",
       "      <td>4</td>\n",
       "      <td>2</td>\n",
       "      <td>2</td>\n",
       "      <td>2</td>\n",
       "      <td>0.86</td>\n",
       "      <td>0.88</td>\n",
       "      <td>2.07</td>\n",
       "      <td>1.59</td>\n",
       "      <td>42.150</td>\n",
       "      <td>46.740</td>\n",
       "      <td>279</td>\n",
       "      <td>274</td>\n",
       "    </tr>\n",
       "    <tr>\n",
       "      <th>2</th>\n",
       "      <td>3</td>\n",
       "      <td>1</td>\n",
       "      <td>4</td>\n",
       "      <td>3</td>\n",
       "      <td>1</td>\n",
       "      <td>2</td>\n",
       "      <td>0.86</td>\n",
       "      <td>0.86</td>\n",
       "      <td>4.13</td>\n",
       "      <td>2.07</td>\n",
       "      <td>45.450</td>\n",
       "      <td>42.150</td>\n",
       "      <td>274</td>\n",
       "      <td>161</td>\n",
       "    </tr>\n",
       "    <tr>\n",
       "      <th>3</th>\n",
       "      <td>4</td>\n",
       "      <td>1</td>\n",
       "      <td>4</td>\n",
       "      <td>4</td>\n",
       "      <td>5</td>\n",
       "      <td>1</td>\n",
       "      <td>0.87</td>\n",
       "      <td>0.86</td>\n",
       "      <td>3.60</td>\n",
       "      <td>4.13</td>\n",
       "      <td>46.200</td>\n",
       "      <td>45.450</td>\n",
       "      <td>161</td>\n",
       "      <td>270</td>\n",
       "    </tr>\n",
       "    <tr>\n",
       "      <th>4</th>\n",
       "      <td>5</td>\n",
       "      <td>1</td>\n",
       "      <td>4</td>\n",
       "      <td>5</td>\n",
       "      <td>2</td>\n",
       "      <td>5</td>\n",
       "      <td>0.81</td>\n",
       "      <td>0.87</td>\n",
       "      <td>7.43</td>\n",
       "      <td>3.60</td>\n",
       "      <td>56.085</td>\n",
       "      <td>46.200</td>\n",
       "      <td>270</td>\n",
       "      <td>62</td>\n",
       "    </tr>\n",
       "  </tbody>\n",
       "</table>\n",
       "</div>"
      ],
      "text/plain": [
       "   Day  Month  Season  Weekday  Daily Weather  Daily Weather (Past)  Humidity  \\\n",
       "0    1      1       4        1              2                     6      0.88   \n",
       "1    2      1       4        2              2                     2      0.86   \n",
       "2    3      1       4        3              1                     2      0.86   \n",
       "3    4      1       4        4              5                     1      0.87   \n",
       "4    5      1       4        5              2                     5      0.81   \n",
       "\n",
       "   Humidity (Past)  Windspeed  Windspeed (Past)  Apparent Temperature (Avg)  \\\n",
       "0             0.94       1.59              0.55                      46.740   \n",
       "1             0.88       2.07              1.59                      42.150   \n",
       "2             0.86       4.13              2.07                      45.450   \n",
       "3             0.86       3.60              4.13                      46.200   \n",
       "4             0.87       7.43              3.60                      56.085   \n",
       "\n",
       "   Apparent Temperature (Avg) (Past)  Rented Bikes  Rented Bikes (Future)  \n",
       "0                             36.295           281                    279  \n",
       "1                             46.740           279                    274  \n",
       "2                             42.150           274                    161  \n",
       "3                             45.450           161                    270  \n",
       "4                             46.200           270                     62  "
      ]
     },
     "execution_count": 1342,
     "metadata": {},
     "output_type": "execute_result"
    }
   ],
   "source": [
    "#Feature Matrix with past and today data\n",
    "#X=features.loc[:,['Day','Month','Season','Daily Weather','Daily Weather (Past)','Humidity','Humidity (Past)','Windspeed', 'Windspeed (Past)', 'Apparent Temperature (Avg)','Apparent Temperature (Avg) (Past)','Rented Bikes (Future)']]\n",
    "X=features.loc[:,['Day','Month','Season','Weekday', 'Daily Weather','Daily Weather (Past)','Humidity','Humidity (Past)', 'Windspeed', 'Windspeed (Past)', 'Apparent Temperature (Avg)','Apparent Temperature (Avg) (Past)','Rented Bikes','Rented Bikes (Future)']]\n",
    "X.head()"
   ]
  },
  {
   "cell_type": "code",
   "execution_count": 1343,
   "metadata": {},
   "outputs": [],
   "source": [
    "X['label'] = label"
   ]
  },
  {
   "cell_type": "code",
   "execution_count": 1344,
   "metadata": {},
   "outputs": [],
   "source": [
    "#_4 test1\n",
    "#X.to_csv('raw_files/encoded_last_5.csv')\n"
   ]
  },
  {
   "cell_type": "code",
   "execution_count": 1616,
   "metadata": {},
   "outputs": [],
   "source": [
    "\n",
    "\n",
    "# Below code is Spark 2+\n",
    "spark = pyspark.sql.SparkSession.builder.appName('test').getOrCreate()\n",
    "df = spark.read.csv('raw_files/encoded_last_5.csv', header = True, inferSchema = True)\n",
    "df_bis=df.toPandas()"
   ]
  },
  {
   "cell_type": "code",
   "execution_count": 1617,
   "metadata": {},
   "outputs": [
    {
     "name": "stdout",
     "output_type": "stream",
     "text": [
      "+---+---+-----+------+-------+-------------+--------------------+--------+---------------+---------+----------------+--------------------------+---------------------------------+------------+---------------------+-----+\n",
      "|_c0|Day|Month|Season|Weekday|Daily Weather|Daily Weather (Past)|Humidity|Humidity (Past)|Windspeed|Windspeed (Past)|Apparent Temperature (Avg)|Apparent Temperature (Avg) (Past)|Rented Bikes|Rented Bikes (Future)|label|\n",
      "+---+---+-----+------+-------+-------------+--------------------+--------+---------------+---------+----------------+--------------------------+---------------------------------+------------+---------------------+-----+\n",
      "|  0|  1|    1|     4|      1|            2|                   6|    0.88|           0.94|     1.59|            0.55|                     46.74|                           36.295|         281|                  279|  279|\n",
      "|  1|  2|    1|     4|      2|            2|                   2|    0.86|           0.88|     2.07|            1.59|                     42.15|                            46.74|         279|                  274|  274|\n",
      "|  2|  3|    1|     4|      3|            1|                   2|    0.86|           0.86|     4.13|            2.07|                     45.45|                            42.15|         274|                  161|  161|\n",
      "|  3|  4|    1|     4|      4|            5|                   1|    0.87|           0.86|      3.6|            4.13|                      46.2|                            45.45|         161|                  270|  270|\n",
      "|  4|  5|    1|     4|      5|            2|                   5|    0.81|           0.87|     7.43|             3.6|                    56.085|                             46.2|         270|                   62|   62|\n",
      "+---+---+-----+------+-------+-------------+--------------------+--------+---------------+---------+----------------+--------------------------+---------------------------------+------------+---------------------+-----+\n",
      "only showing top 5 rows\n",
      "\n"
     ]
    }
   ],
   "source": [
    "df.show(5)"
   ]
  },
  {
   "cell_type": "code",
   "execution_count": 1618,
   "metadata": {},
   "outputs": [
    {
     "data": {
      "text/plain": [
       "['_c0',\n",
       " 'Day',\n",
       " 'Month',\n",
       " 'Season',\n",
       " 'Weekday',\n",
       " 'Daily Weather',\n",
       " 'Daily Weather (Past)',\n",
       " 'Humidity',\n",
       " 'Humidity (Past)',\n",
       " 'Windspeed',\n",
       " 'Windspeed (Past)',\n",
       " 'Apparent Temperature (Avg)',\n",
       " 'Apparent Temperature (Avg) (Past)',\n",
       " 'Rented Bikes',\n",
       " 'Rented Bikes (Future)',\n",
       " 'label']"
      ]
     },
     "execution_count": 1618,
     "metadata": {},
     "output_type": "execute_result"
    }
   ],
   "source": [
    "df.columns"
   ]
  },
  {
   "cell_type": "code",
   "execution_count": 1619,
   "metadata": {},
   "outputs": [],
   "source": [
    "#cols = df.columns\n",
    "#categoricalColumns = [, \"Daily Weather (Past)\"]\n",
    "\n",
    "#cols = ['Day','Month','Season','Weekday', 'Daily Weather','Daily Weather (Past)','Humidity','Humidity (Past)', 'Windspeed', 'Windspeed (Past)', 'Apparent Temperature (Avg)','Apparent Temperature (Avg) (Past)','Rented Bikes']\n",
    "\n",
    "\n",
    "\n",
    "\n",
    "#(best RMSE for decision tree) \n",
    "#cols = [ \"Humidity\", \"Weekday\",\"Month\", \"Apparent Temperature (Avg)\", \"Rented Bikes\"]\n",
    "\n",
    "#(best RMSE for random forest) \n",
    "cols = ['Day','Month','Season','Weekday', 'Daily Weather','Daily Weather (Past)','Humidity','Humidity (Past)', 'Windspeed', 'Windspeed (Past)', 'Apparent Temperature (Avg)','Apparent Temperature (Avg) (Past)','Rented Bikes']\n",
    "\n",
    "#(best RMSE for Gradient boost) \n",
    "#cols = ['Humidity (Past)','Weekday','Rented Bikes']\n",
    "\n",
    "stages = [] # stages in our Pipeline\n",
    "\n",
    "\n",
    "assembler = VectorAssembler(inputCols= cols , outputCol=\"features\").setHandleInvalid(\"skip\")\n",
    "\n",
    "preppedDataDF = assembler.transform(df)\n",
    "\n",
    "#scaler = StandardScaler(inputCol=\"features\"  , outputCol=\"scaledFeatures\",\n",
    "                        #withStd=True, withMean=False)\n",
    "\n",
    "# Compute summary statistics by fitting the StandardScaler\n",
    "#scalerModel = scaler.fit(preppedDataDF)\n",
    "# Normalize each feature to have unit standard deviation.\n",
    "#preppedDataDF = scalerModel.transform(preppedDataDF)"
   ]
  },
  {
   "cell_type": "code",
   "execution_count": 1620,
   "metadata": {},
   "outputs": [
    {
     "name": "stdout",
     "output_type": "stream",
     "text": [
      "+---+---+-----+------+-------+-------------+--------------------+--------+---------------+---------+----------------+--------------------------+---------------------------------+------------+---------------------+-----+--------------------+\n",
      "|_c0|Day|Month|Season|Weekday|Daily Weather|Daily Weather (Past)|Humidity|Humidity (Past)|Windspeed|Windspeed (Past)|Apparent Temperature (Avg)|Apparent Temperature (Avg) (Past)|Rented Bikes|Rented Bikes (Future)|label|            features|\n",
      "+---+---+-----+------+-------+-------------+--------------------+--------+---------------+---------+----------------+--------------------------+---------------------------------+------------+---------------------+-----+--------------------+\n",
      "|  0|  1|    1|     4|      1|            2|                   6|    0.88|           0.94|     1.59|            0.55|                     46.74|                           36.295|         281|                  279|  279|[1.0,1.0,4.0,1.0,...|\n",
      "|  1|  2|    1|     4|      2|            2|                   2|    0.86|           0.88|     2.07|            1.59|                     42.15|                            46.74|         279|                  274|  274|[2.0,1.0,4.0,2.0,...|\n",
      "|  2|  3|    1|     4|      3|            1|                   2|    0.86|           0.86|     4.13|            2.07|                     45.45|                            42.15|         274|                  161|  161|[3.0,1.0,4.0,3.0,...|\n",
      "|  3|  4|    1|     4|      4|            5|                   1|    0.87|           0.86|      3.6|            4.13|                      46.2|                            45.45|         161|                  270|  270|[4.0,1.0,4.0,4.0,...|\n",
      "|  4|  5|    1|     4|      5|            2|                   5|    0.81|           0.87|     7.43|             3.6|                    56.085|                             46.2|         270|                   62|   62|[5.0,1.0,4.0,5.0,...|\n",
      "+---+---+-----+------+-------+-------------+--------------------+--------+---------------+---------+----------------+--------------------------+---------------------------------+------------+---------------------+-----+--------------------+\n",
      "only showing top 5 rows\n",
      "\n"
     ]
    }
   ],
   "source": [
    "preppedDataDF.show(5)"
   ]
  },
  {
   "cell_type": "code",
   "execution_count": 1621,
   "metadata": {},
   "outputs": [
    {
     "name": "stdout",
     "output_type": "stream",
     "text": [
      "root\n",
      " |-- _c0: integer (nullable = true)\n",
      " |-- Day: integer (nullable = true)\n",
      " |-- Month: integer (nullable = true)\n",
      " |-- Season: integer (nullable = true)\n",
      " |-- Weekday: integer (nullable = true)\n",
      " |-- Daily Weather: integer (nullable = true)\n",
      " |-- Daily Weather (Past): integer (nullable = true)\n",
      " |-- Humidity: double (nullable = true)\n",
      " |-- Humidity (Past): double (nullable = true)\n",
      " |-- Windspeed: double (nullable = true)\n",
      " |-- Windspeed (Past): double (nullable = true)\n",
      " |-- Apparent Temperature (Avg): double (nullable = true)\n",
      " |-- Apparent Temperature (Avg) (Past): double (nullable = true)\n",
      " |-- Rented Bikes: integer (nullable = true)\n",
      " |-- Rented Bikes (Future): integer (nullable = true)\n",
      " |-- label: integer (nullable = true)\n",
      " |-- features: vector (nullable = true)\n",
      "\n"
     ]
    }
   ],
   "source": [
    "preppedDataDF.printSchema()"
   ]
  },
  {
   "cell_type": "code",
   "execution_count": 1622,
   "metadata": {},
   "outputs": [
    {
     "data": {
      "text/plain": [
       "DataFrame[features: vector, label: int, Day: int]"
      ]
     },
     "metadata": {},
     "output_type": "display_data"
    }
   ],
   "source": [
    "# Keep relevant columns\n",
    "selectedcols = [\"features\", \"label\",\"Day\"]\n",
    "dataset = preppedDataDF.select(selectedcols)\n",
    "display(dataset)\n",
    "\n"
   ]
  },
  {
   "cell_type": "code",
   "execution_count": 1623,
   "metadata": {},
   "outputs": [
    {
     "name": "stdout",
     "output_type": "stream",
     "text": [
      "+--------------------+-----+---+\n",
      "|            features|label|Day|\n",
      "+--------------------+-----+---+\n",
      "|[1.0,1.0,4.0,1.0,...|  279|  1|\n",
      "|[2.0,1.0,4.0,2.0,...|  274|  2|\n",
      "|[3.0,1.0,4.0,3.0,...|  161|  3|\n",
      "|[4.0,1.0,4.0,4.0,...|  270|  4|\n",
      "|[5.0,1.0,4.0,5.0,...|   62|  5|\n",
      "+--------------------+-----+---+\n",
      "only showing top 5 rows\n",
      "\n"
     ]
    }
   ],
   "source": [
    "dataset.show(5)"
   ]
  },
  {
   "cell_type": "code",
   "execution_count": 1256,
   "metadata": {},
   "outputs": [],
   "source": [
    "from pyspark.mllib.util import MLUtils\n",
    "from pyspark.ml.feature import StandardScaler\n",
    "### Randomly split data into training and test sets. set seed for reproducibility\n",
    "#(trainingData, testData) = dataset.randomSplit([0.7, 0.3], seed=100)\n",
    "#print(trainingData.count())\n",
    "#print(testData.count())"
   ]
  },
  {
   "cell_type": "code",
   "execution_count": 1624,
   "metadata": {},
   "outputs": [
    {
     "name": "stdout",
     "output_type": "stream",
     "text": [
      "1055\n",
      "450\n"
     ]
    }
   ],
   "source": [
    "# create a dummy df with 500 rows and 2 columns\n",
    "N = dataset.count()\n",
    "\n",
    "\n",
    "# sort ascending and take first 100 rows for df1\n",
    "trainingData= dataset.sort('Day').limit(1055)\n",
    "\n",
    "# sort descending and take 400 rows for df2\n",
    "testData = dataset.sort('Day', ascending=False).limit(450)\n",
    "\n",
    "print(trainingData.count())\n",
    "print(testData.count())"
   ]
  },
  {
   "cell_type": "code",
   "execution_count": 1605,
   "metadata": {
    "scrolled": true
   },
   "outputs": [
    {
     "name": "stdout",
     "output_type": "stream",
     "text": [
      "+----------------+-----+---+\n",
      "|        features|label|Day|\n",
      "+----------------+-----+---+\n",
      "|[0.94,1.0,281.0]|  279|  1|\n",
      "|[0.88,2.0,279.0]|  274|  2|\n",
      "|[0.86,3.0,274.0]|  161|  3|\n",
      "|[0.86,4.0,161.0]|  270|  4|\n",
      "|[0.87,5.0,270.0]|   62|  5|\n",
      "+----------------+-----+---+\n",
      "only showing top 5 rows\n",
      "\n"
     ]
    }
   ],
   "source": [
    "trainingData.show(5)"
   ]
  },
  {
   "cell_type": "code",
   "execution_count": null,
   "metadata": {},
   "outputs": [],
   "source": []
  },
  {
   "cell_type": "markdown",
   "metadata": {},
   "source": [
    "  #  Generaliszed linear regression\n",
    "  \n",
    "  Contrasted with linear regression where the output is assumed to follow a Gaussian distribution, generalized linear models (GLMs) are specifications of linear models where the response variable Yi follows some distribution from the exponential family of distributions. \n",
    "  \n",
    "  Spark currently only supports up to 4096 features through its GeneralizedLinearRegression interface"
   ]
  },
  {
   "cell_type": "code",
   "execution_count": null,
   "metadata": {},
   "outputs": [],
   "source": [
    "from pyspark.ml.regression import GeneralizedLinearRegression\n",
    "\n",
    "glr = GeneralizedLinearRegression(family=\"Poisson\", link=\"identity\", maxIter=10, regParam=0.3)\n",
    "#\"Gamma\"--> RMSE =100.975\n",
    "#\"Poisson\"--> RMSE =98.315\n",
    "\n",
    "\n",
    "# Fit the model\n",
    "model = glr.fit(dataset)\n",
    "\n",
    "# Print the coefficients and intercept for generalized linear regression model\n",
    "print(\"Coefficients: \" + str(model.coefficients))\n",
    "print(\"Intercept: \" + str(model.intercept))\n",
    "\n",
    "# Summarize the model over the training set and print out some metrics\n",
    "summary = model.summary\n",
    "print(\"Coefficient Standard Errors: \" + str(summary.coefficientStandardErrors))\n",
    "print(\"T Values: \" + str(summary.tValues))\n",
    "print(\"P Values: \" + str(summary.pValues))\n",
    "print(\"Dispersion: \" + str(summary.dispersion))\n",
    "print(\"Null Deviance: \" + str(summary.nullDeviance))\n",
    "print(\"Residual Degree Of Freedom Null: \" + str(summary.residualDegreeOfFreedomNull))\n",
    "print(\"Deviance: \" + str(summary.deviance))\n",
    "print(\"Residual Degree Of Freedom: \" + str(summary.residualDegreeOfFreedom))\n",
    "print(\"AIC: \" + str(summary.aic))\n",
    "print(\"Deviance Residuals: \")\n",
    "summary.residuals().show()"
   ]
  },
  {
   "cell_type": "code",
   "execution_count": null,
   "metadata": {},
   "outputs": [],
   "source": [
    "predictions = model.transform(testData)\n",
    "predictions.select(\"label\",\"features\",\"prediction\").toPandas().head()\n"
   ]
  },
  {
   "cell_type": "code",
   "execution_count": null,
   "metadata": {},
   "outputs": [],
   "source": [
    "dfs_glr= predictions.toPandas()\n",
    "a=dfs_glr.loc[:,'label']\n",
    "b=dfs_glr.loc[:,'prediction']\n",
    "rmse=sqrt(mean_squared_error(a, b))  \n",
    "\"The root mean square error of the model is {0:.3f}\".format(rmse) "
   ]
  },
  {
   "cell_type": "code",
   "execution_count": null,
   "metadata": {},
   "outputs": [],
   "source": [
    "label"
   ]
  },
  {
   "cell_type": "markdown",
   "metadata": {},
   "source": [
    "# Decision tree regression"
   ]
  },
  {
   "cell_type": "code",
   "execution_count": 1510,
   "metadata": {
    "scrolled": true
   },
   "outputs": [
    {
     "name": "stdout",
     "output_type": "stream",
     "text": [
      "Root Mean Squared Error (RMSE) on test data = 54.431\n",
      "DecisionTreeRegressionModel (uid=DecisionTreeRegressor_d73f021d2b15) of depth 5 with 61 nodes\n"
     ]
    },
    {
     "data": {
      "text/html": [
       "<div>\n",
       "<style scoped>\n",
       "    .dataframe tbody tr th:only-of-type {\n",
       "        vertical-align: middle;\n",
       "    }\n",
       "\n",
       "    .dataframe tbody tr th {\n",
       "        vertical-align: top;\n",
       "    }\n",
       "\n",
       "    .dataframe thead th {\n",
       "        text-align: right;\n",
       "    }\n",
       "</style>\n",
       "<table border=\"1\" class=\"dataframe\">\n",
       "  <thead>\n",
       "    <tr style=\"text-align: right;\">\n",
       "      <th></th>\n",
       "      <th>prediction</th>\n",
       "      <th>label</th>\n",
       "      <th>Day</th>\n",
       "    </tr>\n",
       "  </thead>\n",
       "  <tbody>\n",
       "    <tr>\n",
       "      <th>0</th>\n",
       "      <td>301.000000</td>\n",
       "      <td>313</td>\n",
       "      <td>1065</td>\n",
       "    </tr>\n",
       "    <tr>\n",
       "      <th>1</th>\n",
       "      <td>301.000000</td>\n",
       "      <td>267</td>\n",
       "      <td>1066</td>\n",
       "    </tr>\n",
       "    <tr>\n",
       "      <th>2</th>\n",
       "      <td>237.000000</td>\n",
       "      <td>233</td>\n",
       "      <td>1067</td>\n",
       "    </tr>\n",
       "    <tr>\n",
       "      <th>3</th>\n",
       "      <td>178.000000</td>\n",
       "      <td>151</td>\n",
       "      <td>1068</td>\n",
       "    </tr>\n",
       "    <tr>\n",
       "      <th>4</th>\n",
       "      <td>49.666667</td>\n",
       "      <td>35</td>\n",
       "      <td>1069</td>\n",
       "    </tr>\n",
       "  </tbody>\n",
       "</table>\n",
       "</div>"
      ],
      "text/plain": [
       "   prediction  label   Day\n",
       "0  301.000000    313  1065\n",
       "1  301.000000    267  1066\n",
       "2  237.000000    233  1067\n",
       "3  178.000000    151  1068\n",
       "4   49.666667     35  1069"
      ]
     },
     "execution_count": 1510,
     "metadata": {},
     "output_type": "execute_result"
    }
   ],
   "source": [
    "from pyspark.ml import Pipeline\n",
    "from pyspark.ml.regression import DecisionTreeRegressor\n",
    "from pyspark.ml.feature import VectorIndexer\n",
    "from pyspark.ml.evaluation import RegressionEvaluator\n",
    "\n",
    "\n",
    "\n",
    "# Automatically identify categorical features, and index them.\n",
    "# We specify maxCategories so features with > 4 distinct values are treated as continuous.\n",
    "featureIndexer =\\\n",
    "    VectorIndexer(inputCol=\"features\", outputCol=\"indexedFeatures\", maxCategories=4).fit(trainingData)\n",
    "\n",
    "\n",
    "# Train a DecisionTree model.\n",
    "dt = DecisionTreeRegressor(featuresCol=\"indexedFeatures\",impurity='variance')\n",
    " \n",
    "# Chain indexer and tree in a Pipeline\n",
    "pipeline = Pipeline(stages=[featureIndexer, dt])\n",
    "\n",
    "# Train model.  This also runs the indexer.\n",
    "model = pipeline.fit(trainingData)\n",
    "\n",
    "# Make predictions.\n",
    "predictions_dt_test = model.transform(testData)\n",
    "# Select example rows to display.\n",
    "pred_dt_test= predictions_dt_test.select(\"prediction\", \"label\" ,\"Day\").orderBy('Day', ascending=True).toPandas()\n",
    "\n",
    "\n",
    "# Select example rows to display.\n",
    "#predictions.select(\"prediction\", \"label\", \"features\").show(5)\n",
    "\n",
    "# Select (prediction, true label) and compute test error\n",
    "evaluator = RegressionEvaluator(\n",
    "    labelCol=\"label\", predictionCol=\"prediction\", metricName=\"rmse\")\n",
    "rmse = evaluator.evaluate(predictions_dt_test)\n",
    "print(\"Root Mean Squared Error (RMSE) on test data = %g\" % rmse)\n",
    "\n",
    "treeModel = model.stages[1]\n",
    "# summary only\n",
    "print(treeModel)\n",
    "pred_dt_test.head()"
   ]
  },
  {
   "cell_type": "code",
   "execution_count": 1469,
   "metadata": {},
   "outputs": [
    {
     "data": {
      "text/plain": [
       "1055"
      ]
     },
     "execution_count": 1469,
     "metadata": {},
     "output_type": "execute_result"
    }
   ],
   "source": [
    "trainingData.count()"
   ]
  },
  {
   "cell_type": "code",
   "execution_count": 1511,
   "metadata": {},
   "outputs": [
    {
     "name": "stdout",
     "output_type": "stream",
     "text": [
      "Root Mean Squared Error (RMSE) on training data = 50.7867\n"
     ]
    },
    {
     "data": {
      "text/html": [
       "<div>\n",
       "<style scoped>\n",
       "    .dataframe tbody tr th:only-of-type {\n",
       "        vertical-align: middle;\n",
       "    }\n",
       "\n",
       "    .dataframe tbody tr th {\n",
       "        vertical-align: top;\n",
       "    }\n",
       "\n",
       "    .dataframe thead th {\n",
       "        text-align: right;\n",
       "    }\n",
       "</style>\n",
       "<table border=\"1\" class=\"dataframe\">\n",
       "  <thead>\n",
       "    <tr style=\"text-align: right;\">\n",
       "      <th></th>\n",
       "      <th>prediction</th>\n",
       "      <th>label</th>\n",
       "      <th>Day</th>\n",
       "    </tr>\n",
       "  </thead>\n",
       "  <tbody>\n",
       "    <tr>\n",
       "      <th>0</th>\n",
       "      <td>303.368421</td>\n",
       "      <td>279</td>\n",
       "      <td>1</td>\n",
       "    </tr>\n",
       "    <tr>\n",
       "      <th>1</th>\n",
       "      <td>303.368421</td>\n",
       "      <td>274</td>\n",
       "      <td>2</td>\n",
       "    </tr>\n",
       "    <tr>\n",
       "      <th>2</th>\n",
       "      <td>303.368421</td>\n",
       "      <td>161</td>\n",
       "      <td>3</td>\n",
       "    </tr>\n",
       "    <tr>\n",
       "      <th>3</th>\n",
       "      <td>242.647059</td>\n",
       "      <td>270</td>\n",
       "      <td>4</td>\n",
       "    </tr>\n",
       "    <tr>\n",
       "      <th>4</th>\n",
       "      <td>55.225806</td>\n",
       "      <td>62</td>\n",
       "      <td>5</td>\n",
       "    </tr>\n",
       "  </tbody>\n",
       "</table>\n",
       "</div>"
      ],
      "text/plain": [
       "   prediction  label  Day\n",
       "0  303.368421    279    1\n",
       "1  303.368421    274    2\n",
       "2  303.368421    161    3\n",
       "3  242.647059    270    4\n",
       "4   55.225806     62    5"
      ]
     },
     "execution_count": 1511,
     "metadata": {},
     "output_type": "execute_result"
    }
   ],
   "source": [
    "predictions_dt_training = model.transform(trainingData)\n",
    "# Select example rows to display.\n",
    "pred_dt_training= predictions_dt_training.select(\"prediction\", \"label\" ,\"Day\").orderBy('Day', ascending=True).toPandas()\n",
    "\n",
    "\n",
    "# Select example rows to display.\n",
    "#predictions.select(\"prediction\", \"label\", \"features\").show(5)\n",
    "\n",
    "# Select (prediction, true label) and compute test error\n",
    "evaluator = RegressionEvaluator(\n",
    "    labelCol=\"label\", predictionCol=\"prediction\", metricName=\"rmse\")\n",
    "rmse = evaluator.evaluate(predictions_dt_training)\n",
    "print(\"Root Mean Squared Error (RMSE) on training data = %g\" % rmse)\n",
    "\n",
    "#treeModel = model.stages[1]\n",
    "# summary only\n",
    "pred_dt_training.head()"
   ]
  },
  {
   "cell_type": "code",
   "execution_count": 1512,
   "metadata": {},
   "outputs": [
    {
     "data": {
      "text/plain": [
       "array([1.000e+00, 2.000e+00, 3.000e+00, ..., 1.053e+03, 1.054e+03,\n",
       "       1.055e+03])"
      ]
     },
     "execution_count": 1512,
     "metadata": {},
     "output_type": "execute_result"
    }
   ],
   "source": [
    "pred_dt_training.values[:,2]"
   ]
  },
  {
   "cell_type": "code",
   "execution_count": 1513,
   "metadata": {},
   "outputs": [
    {
     "data": {
      "text/plain": [
       "Row(_c0=0, Day=1, Month=1, Season=4, Weekday=1, Daily Weather=2, Daily Weather (Past)=6, Humidity=0.88, Humidity (Past)=0.94, Windspeed=1.59, Windspeed (Past)=0.55, Apparent Temperature (Avg)=46.74, Apparent Temperature (Avg) (Past)=36.295, Rented Bikes=281, Rented Bikes (Future)=279, label=279)"
      ]
     },
     "execution_count": 1513,
     "metadata": {},
     "output_type": "execute_result"
    }
   ],
   "source": [
    "df.head()"
   ]
  },
  {
   "cell_type": "code",
   "execution_count": 1514,
   "metadata": {},
   "outputs": [
    {
     "data": {
      "text/html": [
       "<div>\n",
       "<style scoped>\n",
       "    .dataframe tbody tr th:only-of-type {\n",
       "        vertical-align: middle;\n",
       "    }\n",
       "\n",
       "    .dataframe tbody tr th {\n",
       "        vertical-align: top;\n",
       "    }\n",
       "\n",
       "    .dataframe thead th {\n",
       "        text-align: right;\n",
       "    }\n",
       "</style>\n",
       "<table border=\"1\" class=\"dataframe\">\n",
       "  <thead>\n",
       "    <tr style=\"text-align: right;\">\n",
       "      <th></th>\n",
       "      <th>_c0</th>\n",
       "      <th>Day</th>\n",
       "      <th>Month</th>\n",
       "      <th>Season</th>\n",
       "      <th>Weekday</th>\n",
       "      <th>Daily Weather</th>\n",
       "      <th>Daily Weather (Past)</th>\n",
       "      <th>Humidity</th>\n",
       "      <th>Humidity (Past)</th>\n",
       "      <th>Windspeed</th>\n",
       "      <th>Windspeed (Past)</th>\n",
       "      <th>Apparent Temperature (Avg)</th>\n",
       "      <th>Apparent Temperature (Avg) (Past)</th>\n",
       "      <th>Rented Bikes</th>\n",
       "      <th>Rented Bikes (Future)</th>\n",
       "      <th>label_x</th>\n",
       "      <th>prediction</th>\n",
       "      <th>label_y</th>\n",
       "    </tr>\n",
       "  </thead>\n",
       "  <tbody>\n",
       "    <tr>\n",
       "      <th>0</th>\n",
       "      <td>0</td>\n",
       "      <td>1</td>\n",
       "      <td>1</td>\n",
       "      <td>4</td>\n",
       "      <td>1</td>\n",
       "      <td>2</td>\n",
       "      <td>6</td>\n",
       "      <td>0.88</td>\n",
       "      <td>0.94</td>\n",
       "      <td>1.59</td>\n",
       "      <td>0.55</td>\n",
       "      <td>46.740</td>\n",
       "      <td>36.295</td>\n",
       "      <td>281</td>\n",
       "      <td>279</td>\n",
       "      <td>279</td>\n",
       "      <td>303.368421</td>\n",
       "      <td>279.0</td>\n",
       "    </tr>\n",
       "    <tr>\n",
       "      <th>1</th>\n",
       "      <td>1</td>\n",
       "      <td>2</td>\n",
       "      <td>1</td>\n",
       "      <td>4</td>\n",
       "      <td>2</td>\n",
       "      <td>2</td>\n",
       "      <td>2</td>\n",
       "      <td>0.86</td>\n",
       "      <td>0.88</td>\n",
       "      <td>2.07</td>\n",
       "      <td>1.59</td>\n",
       "      <td>42.150</td>\n",
       "      <td>46.740</td>\n",
       "      <td>279</td>\n",
       "      <td>274</td>\n",
       "      <td>274</td>\n",
       "      <td>303.368421</td>\n",
       "      <td>274.0</td>\n",
       "    </tr>\n",
       "    <tr>\n",
       "      <th>2</th>\n",
       "      <td>2</td>\n",
       "      <td>3</td>\n",
       "      <td>1</td>\n",
       "      <td>4</td>\n",
       "      <td>3</td>\n",
       "      <td>1</td>\n",
       "      <td>2</td>\n",
       "      <td>0.86</td>\n",
       "      <td>0.86</td>\n",
       "      <td>4.13</td>\n",
       "      <td>2.07</td>\n",
       "      <td>45.450</td>\n",
       "      <td>42.150</td>\n",
       "      <td>274</td>\n",
       "      <td>161</td>\n",
       "      <td>161</td>\n",
       "      <td>303.368421</td>\n",
       "      <td>161.0</td>\n",
       "    </tr>\n",
       "    <tr>\n",
       "      <th>3</th>\n",
       "      <td>3</td>\n",
       "      <td>4</td>\n",
       "      <td>1</td>\n",
       "      <td>4</td>\n",
       "      <td>4</td>\n",
       "      <td>5</td>\n",
       "      <td>1</td>\n",
       "      <td>0.87</td>\n",
       "      <td>0.86</td>\n",
       "      <td>3.60</td>\n",
       "      <td>4.13</td>\n",
       "      <td>46.200</td>\n",
       "      <td>45.450</td>\n",
       "      <td>161</td>\n",
       "      <td>270</td>\n",
       "      <td>270</td>\n",
       "      <td>242.647059</td>\n",
       "      <td>270.0</td>\n",
       "    </tr>\n",
       "    <tr>\n",
       "      <th>4</th>\n",
       "      <td>4</td>\n",
       "      <td>5</td>\n",
       "      <td>1</td>\n",
       "      <td>4</td>\n",
       "      <td>5</td>\n",
       "      <td>2</td>\n",
       "      <td>5</td>\n",
       "      <td>0.81</td>\n",
       "      <td>0.87</td>\n",
       "      <td>7.43</td>\n",
       "      <td>3.60</td>\n",
       "      <td>56.085</td>\n",
       "      <td>46.200</td>\n",
       "      <td>270</td>\n",
       "      <td>62</td>\n",
       "      <td>62</td>\n",
       "      <td>55.225806</td>\n",
       "      <td>62.0</td>\n",
       "    </tr>\n",
       "  </tbody>\n",
       "</table>\n",
       "</div>"
      ],
      "text/plain": [
       "   _c0  Day  Month  Season  Weekday  Daily Weather  Daily Weather (Past)  \\\n",
       "0    0    1      1       4        1              2                     6   \n",
       "1    1    2      1       4        2              2                     2   \n",
       "2    2    3      1       4        3              1                     2   \n",
       "3    3    4      1       4        4              5                     1   \n",
       "4    4    5      1       4        5              2                     5   \n",
       "\n",
       "   Humidity  Humidity (Past)  Windspeed  Windspeed (Past)  \\\n",
       "0      0.88             0.94       1.59              0.55   \n",
       "1      0.86             0.88       2.07              1.59   \n",
       "2      0.86             0.86       4.13              2.07   \n",
       "3      0.87             0.86       3.60              4.13   \n",
       "4      0.81             0.87       7.43              3.60   \n",
       "\n",
       "   Apparent Temperature (Avg)  Apparent Temperature (Avg) (Past)  \\\n",
       "0                      46.740                             36.295   \n",
       "1                      42.150                             46.740   \n",
       "2                      45.450                             42.150   \n",
       "3                      46.200                             45.450   \n",
       "4                      56.085                             46.200   \n",
       "\n",
       "   Rented Bikes  Rented Bikes (Future)  label_x  prediction  label_y  \n",
       "0           281                    279      279  303.368421    279.0  \n",
       "1           279                    274      274  303.368421    274.0  \n",
       "2           274                    161      161  303.368421    161.0  \n",
       "3           161                    270      270  242.647059    270.0  \n",
       "4           270                     62       62   55.225806     62.0  "
      ]
     },
     "execution_count": 1514,
     "metadata": {},
     "output_type": "execute_result"
    }
   ],
   "source": [
    "output_dt_bis = pd.merge(pred_dt_test,pred_dt_training, how='outer').sort_values('Day', ascending=True)\n",
    "output_dt = pd.merge(df_bis, output_dt_bis, how='outer', on='Day')\n",
    "output_dt.head()"
   ]
  },
  {
   "cell_type": "code",
   "execution_count": 290,
   "metadata": {},
   "outputs": [],
   "source": [
    "#output_dt.values[:,1]"
   ]
  },
  {
   "cell_type": "code",
   "execution_count": null,
   "metadata": {},
   "outputs": [],
   "source": [
    "plt.figure(figsize=(26,8))\n",
    "\n",
    "plt.subplot(131)\n",
    "plt.scatter(output_dt.values[:,1], output_dt.values[:,2], color = 'blue',label='Real future Value')  \n",
    "plt.legend()\n",
    "plt.xticks(np.arange(0, 1000, step=100))\n",
    "plt.yticks(np.arange(0, 2000, step=100))\n",
    "plt.title(\"Actual data\")\n",
    "plt.ylabel(\"predicted row id\")\n",
    "plt.xlabel(\"Usage value\")\n",
    "\n",
    "\n",
    "\n",
    "plt.subplot(132)\n",
    "plt.scatter(output_dt.values[:,0], output_dt.values[:,2], color = 'red',label='Algorthm prediction') \n",
    "plt.legend()\n",
    "plt.xticks(np.arange(0, 1000, step=100))\n",
    "plt.yticks(np.arange(0, 2000, step=100))\n",
    "plt.title(\"Decision tree prediction\")\n",
    "plt.ylabel(\"predicted row id\")\n",
    "plt.xlabel(\"Usage value\")\n",
    "\n",
    "plt.show()"
   ]
  },
  {
   "cell_type": "code",
   "execution_count": null,
   "metadata": {},
   "outputs": [],
   "source": []
  },
  {
   "cell_type": "code",
   "execution_count": null,
   "metadata": {},
   "outputs": [],
   "source": []
  },
  {
   "cell_type": "code",
   "execution_count": 1443,
   "metadata": {},
   "outputs": [
    {
     "data": {
      "text/plain": [
       "<matplotlib.axes._subplots.AxesSubplot at 0x1a27a2e9b0>"
      ]
     },
     "execution_count": 1443,
     "metadata": {},
     "output_type": "execute_result"
    },
    {
     "data": {
      "image/png": "[encoded data removed]",
      "text/plain": [
       "<Figure size 432x288 with 2 Axes>"
      ]
     },
     "metadata": {
      "needs_background": "light"
     },
     "output_type": "display_data"
    }
   ],
   "source": [
    "# Calculate correlations\n",
    "heat_dt=output_dt.loc[:,['Rented Bikes','prediction','Rented Bikes (Future)']]\n",
    "heat_dt= heat_dt.rename(index=str, columns={\"Rented Bikes\": \"current bike usage\", \"Rented Bikes (Future)\": \"real future usage\"})\n",
    "corr = heat_dt.corr()\n",
    " \n",
    "# Heatmap\n",
    "sns.heatmap(corr)"
   ]
  },
  {
   "cell_type": "code",
   "execution_count": 1471,
   "metadata": {},
   "outputs": [
    {
     "data": {
      "text/plain": [
       "<seaborn.axisgrid.FacetGrid at 0x1a28f77780>"
      ]
     },
     "execution_count": 1471,
     "metadata": {},
     "output_type": "execute_result"
    },
    {
     "data": {
      "image/png": "[encoded data removed]",
      "text/plain": [
       "<Figure size 360x360 with 1 Axes>"
      ]
     },
     "metadata": {
      "needs_background": "light"
     },
     "output_type": "display_data"
    }
   ],
   "source": [
    "import seaborn as sns\n",
    "\n",
    "sns.lmplot(x='prediction', y='real future usage', data=heat_dt)"
   ]
  },
  {
   "cell_type": "code",
   "execution_count": 1399,
   "metadata": {},
   "outputs": [
    {
     "data": {
      "text/html": [
       "<div>\n",
       "<style scoped>\n",
       "    .dataframe tbody tr th:only-of-type {\n",
       "        vertical-align: middle;\n",
       "    }\n",
       "\n",
       "    .dataframe tbody tr th {\n",
       "        vertical-align: top;\n",
       "    }\n",
       "\n",
       "    .dataframe thead th {\n",
       "        text-align: right;\n",
       "    }\n",
       "</style>\n",
       "<table border=\"1\" class=\"dataframe\">\n",
       "  <thead>\n",
       "    <tr style=\"text-align: right;\">\n",
       "      <th></th>\n",
       "      <th>prediction</th>\n",
       "      <th>label</th>\n",
       "      <th>_c0</th>\n",
       "      <th>Day</th>\n",
       "    </tr>\n",
       "  </thead>\n",
       "  <tbody>\n",
       "    <tr>\n",
       "      <th>0</th>\n",
       "      <td>389.0</td>\n",
       "      <td>360</td>\n",
       "      <td>1253</td>\n",
       "      <td>1254</td>\n",
       "    </tr>\n",
       "    <tr>\n",
       "      <th>1</th>\n",
       "      <td>108.0</td>\n",
       "      <td>102</td>\n",
       "      <td>1259</td>\n",
       "      <td>1260</td>\n",
       "    </tr>\n",
       "    <tr>\n",
       "      <th>2</th>\n",
       "      <td>350.0</td>\n",
       "      <td>421</td>\n",
       "      <td>177</td>\n",
       "      <td>178</td>\n",
       "    </tr>\n",
       "    <tr>\n",
       "      <th>3</th>\n",
       "      <td>436.0</td>\n",
       "      <td>410</td>\n",
       "      <td>486</td>\n",
       "      <td>487</td>\n",
       "    </tr>\n",
       "    <tr>\n",
       "      <th>4</th>\n",
       "      <td>406.0</td>\n",
       "      <td>838</td>\n",
       "      <td>185</td>\n",
       "      <td>186</td>\n",
       "    </tr>\n",
       "  </tbody>\n",
       "</table>\n",
       "</div>"
      ],
      "text/plain": [
       "   prediction  label   _c0   Day\n",
       "0       389.0    360  1253  1254\n",
       "1       108.0    102  1259  1260\n",
       "2       350.0    421   177   178\n",
       "3       436.0    410   486   487\n",
       "4       406.0    838   185   186"
      ]
     },
     "execution_count": 1399,
     "metadata": {},
     "output_type": "execute_result"
    }
   ],
   "source": [
    "pred_dt.head()\n",
    "#pred_dt.count()\n",
    "\n"
   ]
  },
  {
   "cell_type": "code",
   "execution_count": null,
   "metadata": {},
   "outputs": [],
   "source": []
  },
  {
   "cell_type": "code",
   "execution_count": null,
   "metadata": {},
   "outputs": [],
   "source": []
  },
  {
   "cell_type": "code",
   "execution_count": 1515,
   "metadata": {},
   "outputs": [
    {
     "data": {
      "text/plain": [
       "Text(0.5,1,'feature importancy')"
      ]
     },
     "execution_count": 1515,
     "metadata": {},
     "output_type": "execute_result"
    },
    {
     "data": {
      "image/png": "[encoded data removed]",
      "text/plain": [
       "<Figure size 432x288 with 1 Axes>"
      ]
     },
     "metadata": {
      "needs_background": "light"
     },
     "output_type": "display_data"
    }
   ],
   "source": [
    "#treeModel.featureImportances\n",
    "from pandas.io.json import json_normalize\n",
    "#remove Month, Humidity(past), Season, Daily weather, Daily weather(Past), Weekday\n",
    "#print(json_normalize(dict(zip(df_bis.columns, treeModel.featureImportances))))\n",
    "\n",
    "jdata = dict(zip(cols, treeModel.featureImportances))\n",
    "\n",
    "df = pd.DataFrame.from_dict(json_normalize(jdata), orient='columns')\n",
    "\n",
    "dfsum=pd.melt(df)# Count Plot (a.k.a. Bar Plot)\n",
    "df\n",
    "\n",
    "dfsum['value'] *= 100\n",
    "\n",
    "ax = dfsum.plot(kind='barh')\n",
    "ax.set_xlabel('imporance (%)')\n",
    "ax.set_ylabel(\"feature\")\n",
    "ax.set_yticklabels(dfsum.variable)\n",
    "ax.set_title(\"feature importancy\")"
   ]
  },
  {
   "cell_type": "code",
   "execution_count": null,
   "metadata": {},
   "outputs": [],
   "source": []
  },
  {
   "cell_type": "code",
   "execution_count": null,
   "metadata": {},
   "outputs": [],
   "source": []
  },
  {
   "cell_type": "code",
   "execution_count": 1380,
   "metadata": {},
   "outputs": [],
   "source": [
    "x1 = output_dt.values[:,1].astype(int) #day\n",
    "x3 = pred_dt_training.values[:,2].astype(int) #day\n",
    "x2 = pred_dt_test.values[:,2].astype(int) #day\n",
    "\n",
    "\n",
    "y1 = output_dt.loc[:,'label_x'] #actual\n",
    "y3 = pred_dt_training.values[:,0].astype(int) #prediction train\n",
    "y2 = pred_dt_test.values[:,0] #prediction test\n",
    "\n",
    "\n",
    "\n",
    "# output to static HTML file\n",
    "output_file(\"DecisionTree.html\")\n",
    "p = figure(\n",
    "   tools=\"pan,box_zoom,wheel_zoom,reset,save\",\n",
    "    title=\"Decsion Tree Regression Prediction\",\n",
    "    y_range=[1, 850],\n",
    "    x_range=[0, 1600],\n",
    "   x_axis_label='Days', y_axis_label='Frequency',\n",
    "    plot_width=2000, plot_height=350,\n",
    "    x_axis_type=None,\n",
    "    toolbar_location=\"left\"\n",
    ")\n",
    "#set xticks\n",
    "tickerx = SingleIntervalTicker(interval=1, num_minor_ticks=1)\n",
    "xaxis = LinearAxis(ticker=tickerx)\n",
    "p.add_layout(xaxis, 'below')\n",
    "# add a line renderer with legend and line thickness\n",
    "p.ray(x=1212, y=0, length=800, angle=1.57079633, color='purple')\n",
    "p.line(x1, y1, legend=\"Actual\", line_color=\"green\")\n",
    "p.line(x2, y2, legend=\"Predicted Test\", line_color=\"blue\")\n",
    "p.line(x3, y3, legend=\"Predicted Training\", line_color=\"red\")\n",
    "p.xaxis.major_label_orientation = 'vertical'\n",
    "# show the results\n",
    "show(p)"
   ]
  },
  {
   "cell_type": "code",
   "execution_count": 216,
   "metadata": {},
   "outputs": [
    {
     "data": {
      "image/png": "[encoded data removed]",
      "text/plain": [
       "<Figure size 1872x576 with 1 Axes>"
      ]
     },
     "metadata": {
      "needs_background": "light"
     },
     "output_type": "display_data"
    }
   ],
   "source": [
    "plt.figure(figsize=(26,8))\n",
    "plt.subplot(121)\n",
    "plt.scatter(output_dt.values[:,0], output_dt.values[:,2], color = 'red',label='Prediction') \n",
    "plt.scatter(output_dt.values[:,10], output_dt.values[:,2], color = 'blue',label='Real future value')\n",
    "plt.legend()\n",
    "plt.yticks(np.arange(0, 2000, step=100))\n",
    "plt.title(\"Decision tree\")\n",
    "plt.ylabel(\"predicted row id\")\n",
    "plt.xlabel(\"Usage value\")\n",
    "plt.show()"
   ]
  },
  {
   "cell_type": "markdown",
   "metadata": {},
   "source": [
    "# Random forest regression"
   ]
  },
  {
   "cell_type": "code",
   "execution_count": 1625,
   "metadata": {},
   "outputs": [
    {
     "name": "stdout",
     "output_type": "stream",
     "text": [
      "Root Mean Squared Error (RMSE) on test data = 60.0444\n",
      "RandomForestRegressionModel (uid=RandomForestRegressor_34aeefd074b6) with 30 trees\n"
     ]
    },
    {
     "data": {
      "text/html": [
       "<div>\n",
       "<style scoped>\n",
       "    .dataframe tbody tr th:only-of-type {\n",
       "        vertical-align: middle;\n",
       "    }\n",
       "\n",
       "    .dataframe tbody tr th {\n",
       "        vertical-align: top;\n",
       "    }\n",
       "\n",
       "    .dataframe thead th {\n",
       "        text-align: right;\n",
       "    }\n",
       "</style>\n",
       "<table border=\"1\" class=\"dataframe\">\n",
       "  <thead>\n",
       "    <tr style=\"text-align: right;\">\n",
       "      <th></th>\n",
       "      <th>prediction</th>\n",
       "      <th>label</th>\n",
       "      <th>Day</th>\n",
       "    </tr>\n",
       "  </thead>\n",
       "  <tbody>\n",
       "    <tr>\n",
       "      <th>0</th>\n",
       "      <td>302.133333</td>\n",
       "      <td>313</td>\n",
       "      <td>1065</td>\n",
       "    </tr>\n",
       "    <tr>\n",
       "      <th>1</th>\n",
       "      <td>280.900000</td>\n",
       "      <td>267</td>\n",
       "      <td>1066</td>\n",
       "    </tr>\n",
       "    <tr>\n",
       "      <th>2</th>\n",
       "      <td>260.166667</td>\n",
       "      <td>233</td>\n",
       "      <td>1067</td>\n",
       "    </tr>\n",
       "    <tr>\n",
       "      <th>3</th>\n",
       "      <td>228.866667</td>\n",
       "      <td>151</td>\n",
       "      <td>1068</td>\n",
       "    </tr>\n",
       "    <tr>\n",
       "      <th>4</th>\n",
       "      <td>119.100000</td>\n",
       "      <td>35</td>\n",
       "      <td>1069</td>\n",
       "    </tr>\n",
       "  </tbody>\n",
       "</table>\n",
       "</div>"
      ],
      "text/plain": [
       "   prediction  label   Day\n",
       "0  302.133333    313  1065\n",
       "1  280.900000    267  1066\n",
       "2  260.166667    233  1067\n",
       "3  228.866667    151  1068\n",
       "4  119.100000     35  1069"
      ]
     },
     "execution_count": 1625,
     "metadata": {},
     "output_type": "execute_result"
    }
   ],
   "source": [
    "from pyspark.ml import Pipeline\n",
    "from pyspark.ml.regression import RandomForestRegressor\n",
    "from pyspark.ml.feature import VectorIndexer\n",
    "from pyspark.ml.evaluation import RegressionEvaluator\n",
    "\n",
    "\n",
    "# Automatically identify categorical features, and index them.\n",
    "# Set maxCategories so features with > 4 distinct values are treated as continuous.\n",
    "featureIndexer =\\\n",
    "    VectorIndexer(inputCol=\"features\", outputCol=\"indexedFeatures\", maxCategories=4).fit(dataset)\n",
    "\n",
    "\n",
    "\n",
    "# Train a RandomForest model.\n",
    "rf = RandomForestRegressor(featuresCol=\"indexedFeatures\",numTrees=30, maxDepth=30)\n",
    "#20 tree : RMSE= 67.47\n",
    "#20 tree : RMSE= 71.47\n",
    "#numTrees=10, maxDepth=10, maxBins=32; RMSE= 64.34\n",
    "#numTrees=15, maxDepth=15, maxBins=30; RMSE= 64.19\n",
    "\n",
    "# Chain indexer and forest in a Pipeline\n",
    "pipeline = Pipeline(stages=[featureIndexer, rf])\n",
    "\n",
    "# Train model.  This also runs the indexer.\n",
    "model = pipeline.fit(trainingData)\n",
    "\n",
    "# Make predictions.\n",
    "predictions_rd_test = model.transform(testData)\n",
    "\n",
    "# Select example rows to display.\n",
    "pred_rd_test= predictions_rd_test.select(\"prediction\", \"label\" ,\"Day\").orderBy('Day', ascending=True).toPandas()\n",
    "pred_rd_test.head()\n",
    "\n",
    "# Select (prediction, true label) and compute test error\n",
    "evaluator = RegressionEvaluator(\n",
    "    labelCol=\"label\", predictionCol=\"prediction\", metricName=\"rmse\")\n",
    "rmse = evaluator.evaluate(predictions_rd_test)\n",
    "print(\"Root Mean Squared Error (RMSE) on test data = %g\" % rmse)\n",
    "\n",
    "rfModel = model.stages[1]\n",
    "print(rfModel)  # summary only\n",
    "\n",
    "pred_rd_test.head()"
   ]
  },
  {
   "cell_type": "code",
   "execution_count": 1626,
   "metadata": {},
   "outputs": [
    {
     "name": "stdout",
     "output_type": "stream",
     "text": [
      "Root Mean Squared Error (RMSE) on test data = 22.3064\n",
      "RandomForestRegressionModel (uid=RandomForestRegressor_34aeefd074b6) with 30 trees\n"
     ]
    },
    {
     "data": {
      "text/html": [
       "<div>\n",
       "<style scoped>\n",
       "    .dataframe tbody tr th:only-of-type {\n",
       "        vertical-align: middle;\n",
       "    }\n",
       "\n",
       "    .dataframe tbody tr th {\n",
       "        vertical-align: top;\n",
       "    }\n",
       "\n",
       "    .dataframe thead th {\n",
       "        text-align: right;\n",
       "    }\n",
       "</style>\n",
       "<table border=\"1\" class=\"dataframe\">\n",
       "  <thead>\n",
       "    <tr style=\"text-align: right;\">\n",
       "      <th></th>\n",
       "      <th>prediction</th>\n",
       "      <th>label</th>\n",
       "      <th>Day</th>\n",
       "    </tr>\n",
       "  </thead>\n",
       "  <tbody>\n",
       "    <tr>\n",
       "      <th>0</th>\n",
       "      <td>291.800000</td>\n",
       "      <td>279</td>\n",
       "      <td>1</td>\n",
       "    </tr>\n",
       "    <tr>\n",
       "      <th>1</th>\n",
       "      <td>277.433333</td>\n",
       "      <td>274</td>\n",
       "      <td>2</td>\n",
       "    </tr>\n",
       "    <tr>\n",
       "      <th>2</th>\n",
       "      <td>203.433333</td>\n",
       "      <td>161</td>\n",
       "      <td>3</td>\n",
       "    </tr>\n",
       "    <tr>\n",
       "      <th>3</th>\n",
       "      <td>268.900000</td>\n",
       "      <td>270</td>\n",
       "      <td>4</td>\n",
       "    </tr>\n",
       "    <tr>\n",
       "      <th>4</th>\n",
       "      <td>63.700000</td>\n",
       "      <td>62</td>\n",
       "      <td>5</td>\n",
       "    </tr>\n",
       "  </tbody>\n",
       "</table>\n",
       "</div>"
      ],
      "text/plain": [
       "   prediction  label  Day\n",
       "0  291.800000    279    1\n",
       "1  277.433333    274    2\n",
       "2  203.433333    161    3\n",
       "3  268.900000    270    4\n",
       "4   63.700000     62    5"
      ]
     },
     "execution_count": 1626,
     "metadata": {},
     "output_type": "execute_result"
    }
   ],
   "source": [
    "# Make predictions.\n",
    "predictions_rd_training = model.transform(trainingData)\n",
    "\n",
    "# Select example rows to display.\n",
    "pred_rd_training= predictions_rd_training.select(\"prediction\", \"label\" ,\"Day\").orderBy('Day', ascending=True).toPandas()\n",
    "pred_rd_training.head()\n",
    "\n",
    "# Select (prediction, true label) and compute test error\n",
    "evaluator = RegressionEvaluator(\n",
    "    labelCol=\"label\", predictionCol=\"prediction\", metricName=\"rmse\")\n",
    "rmse = evaluator.evaluate(predictions_rd_training)\n",
    "print(\"Root Mean Squared Error (RMSE) on test data = %g\" % rmse)\n",
    "\n",
    "rfModel = model.stages[1]\n",
    "print(rfModel)  # summary only\n",
    "\n",
    "pred_rd_training.head()"
   ]
  },
  {
   "cell_type": "code",
   "execution_count": 1569,
   "metadata": {},
   "outputs": [
    {
     "data": {
      "text/plain": [
       "[Text(0,0,'Humidity (Past)'), Text(0,0,'Rented Bikes'), Text(0,0,'Weekday')]"
      ]
     },
     "execution_count": 1569,
     "metadata": {},
     "output_type": "execute_result"
    },
    {
     "data": {
      "image/png": "[encoded data removed]",
      "text/plain": [
       "<Figure size 432x288 with 1 Axes>"
      ]
     },
     "metadata": {
      "needs_background": "light"
     },
     "output_type": "display_data"
    }
   ],
   "source": [
    "#treeModel.featureImportances\n",
    "from pandas.io.json import json_normalize\n",
    "#remove Month, Humidity(past), Season, Daily weather, Daily weather(Past), Weekday\n",
    "#print(json_normalize(dict(zip(df_bis.columns, treeModel.featureImportances))))\n",
    "\n",
    "jdata = dict(zip(cols, rfModel.featureImportances))\n",
    "\n",
    "df = pd.DataFrame.from_dict(json_normalize(jdata), orient='columns')\n",
    "\n",
    "dfsum=pd.melt(df)# Count Plot (a.k.a. Bar Plot)\n",
    "\n",
    "\n",
    "dfsum['value'] *= 100\n",
    "\n",
    "ax = dfsum.plot(kind='barh')\n",
    "ax.set_xlabel('importance (%)')\n",
    "ax.set_ylabel(\"feature\")\n",
    "ax.set_yticklabels(dfsum.variable)"
   ]
  },
  {
   "cell_type": "code",
   "execution_count": null,
   "metadata": {},
   "outputs": [],
   "source": []
  },
  {
   "cell_type": "code",
   "execution_count": 1627,
   "metadata": {},
   "outputs": [
    {
     "data": {
      "text/html": [
       "<div>\n",
       "<style scoped>\n",
       "    .dataframe tbody tr th:only-of-type {\n",
       "        vertical-align: middle;\n",
       "    }\n",
       "\n",
       "    .dataframe tbody tr th {\n",
       "        vertical-align: top;\n",
       "    }\n",
       "\n",
       "    .dataframe thead th {\n",
       "        text-align: right;\n",
       "    }\n",
       "</style>\n",
       "<table border=\"1\" class=\"dataframe\">\n",
       "  <thead>\n",
       "    <tr style=\"text-align: right;\">\n",
       "      <th></th>\n",
       "      <th>_c0</th>\n",
       "      <th>Day</th>\n",
       "      <th>Month</th>\n",
       "      <th>Season</th>\n",
       "      <th>Weekday</th>\n",
       "      <th>Daily Weather</th>\n",
       "      <th>Daily Weather (Past)</th>\n",
       "      <th>Humidity</th>\n",
       "      <th>Humidity (Past)</th>\n",
       "      <th>Windspeed</th>\n",
       "      <th>Windspeed (Past)</th>\n",
       "      <th>Apparent Temperature (Avg)</th>\n",
       "      <th>Apparent Temperature (Avg) (Past)</th>\n",
       "      <th>Rented Bikes</th>\n",
       "      <th>Rented Bikes (Future)</th>\n",
       "      <th>label_x</th>\n",
       "      <th>prediction</th>\n",
       "      <th>label_y</th>\n",
       "    </tr>\n",
       "  </thead>\n",
       "  <tbody>\n",
       "    <tr>\n",
       "      <th>0</th>\n",
       "      <td>0</td>\n",
       "      <td>1</td>\n",
       "      <td>1</td>\n",
       "      <td>4</td>\n",
       "      <td>1</td>\n",
       "      <td>2</td>\n",
       "      <td>6</td>\n",
       "      <td>0.88</td>\n",
       "      <td>0.94</td>\n",
       "      <td>1.59</td>\n",
       "      <td>0.55</td>\n",
       "      <td>46.740</td>\n",
       "      <td>36.295</td>\n",
       "      <td>281</td>\n",
       "      <td>279</td>\n",
       "      <td>279</td>\n",
       "      <td>291.800000</td>\n",
       "      <td>279.0</td>\n",
       "    </tr>\n",
       "    <tr>\n",
       "      <th>1</th>\n",
       "      <td>1</td>\n",
       "      <td>2</td>\n",
       "      <td>1</td>\n",
       "      <td>4</td>\n",
       "      <td>2</td>\n",
       "      <td>2</td>\n",
       "      <td>2</td>\n",
       "      <td>0.86</td>\n",
       "      <td>0.88</td>\n",
       "      <td>2.07</td>\n",
       "      <td>1.59</td>\n",
       "      <td>42.150</td>\n",
       "      <td>46.740</td>\n",
       "      <td>279</td>\n",
       "      <td>274</td>\n",
       "      <td>274</td>\n",
       "      <td>277.433333</td>\n",
       "      <td>274.0</td>\n",
       "    </tr>\n",
       "    <tr>\n",
       "      <th>2</th>\n",
       "      <td>2</td>\n",
       "      <td>3</td>\n",
       "      <td>1</td>\n",
       "      <td>4</td>\n",
       "      <td>3</td>\n",
       "      <td>1</td>\n",
       "      <td>2</td>\n",
       "      <td>0.86</td>\n",
       "      <td>0.86</td>\n",
       "      <td>4.13</td>\n",
       "      <td>2.07</td>\n",
       "      <td>45.450</td>\n",
       "      <td>42.150</td>\n",
       "      <td>274</td>\n",
       "      <td>161</td>\n",
       "      <td>161</td>\n",
       "      <td>203.433333</td>\n",
       "      <td>161.0</td>\n",
       "    </tr>\n",
       "    <tr>\n",
       "      <th>3</th>\n",
       "      <td>3</td>\n",
       "      <td>4</td>\n",
       "      <td>1</td>\n",
       "      <td>4</td>\n",
       "      <td>4</td>\n",
       "      <td>5</td>\n",
       "      <td>1</td>\n",
       "      <td>0.87</td>\n",
       "      <td>0.86</td>\n",
       "      <td>3.60</td>\n",
       "      <td>4.13</td>\n",
       "      <td>46.200</td>\n",
       "      <td>45.450</td>\n",
       "      <td>161</td>\n",
       "      <td>270</td>\n",
       "      <td>270</td>\n",
       "      <td>268.900000</td>\n",
       "      <td>270.0</td>\n",
       "    </tr>\n",
       "    <tr>\n",
       "      <th>4</th>\n",
       "      <td>4</td>\n",
       "      <td>5</td>\n",
       "      <td>1</td>\n",
       "      <td>4</td>\n",
       "      <td>5</td>\n",
       "      <td>2</td>\n",
       "      <td>5</td>\n",
       "      <td>0.81</td>\n",
       "      <td>0.87</td>\n",
       "      <td>7.43</td>\n",
       "      <td>3.60</td>\n",
       "      <td>56.085</td>\n",
       "      <td>46.200</td>\n",
       "      <td>270</td>\n",
       "      <td>62</td>\n",
       "      <td>62</td>\n",
       "      <td>63.700000</td>\n",
       "      <td>62.0</td>\n",
       "    </tr>\n",
       "  </tbody>\n",
       "</table>\n",
       "</div>"
      ],
      "text/plain": [
       "   _c0  Day  Month  Season  Weekday  Daily Weather  Daily Weather (Past)  \\\n",
       "0    0    1      1       4        1              2                     6   \n",
       "1    1    2      1       4        2              2                     2   \n",
       "2    2    3      1       4        3              1                     2   \n",
       "3    3    4      1       4        4              5                     1   \n",
       "4    4    5      1       4        5              2                     5   \n",
       "\n",
       "   Humidity  Humidity (Past)  Windspeed  Windspeed (Past)  \\\n",
       "0      0.88             0.94       1.59              0.55   \n",
       "1      0.86             0.88       2.07              1.59   \n",
       "2      0.86             0.86       4.13              2.07   \n",
       "3      0.87             0.86       3.60              4.13   \n",
       "4      0.81             0.87       7.43              3.60   \n",
       "\n",
       "   Apparent Temperature (Avg)  Apparent Temperature (Avg) (Past)  \\\n",
       "0                      46.740                             36.295   \n",
       "1                      42.150                             46.740   \n",
       "2                      45.450                             42.150   \n",
       "3                      46.200                             45.450   \n",
       "4                      56.085                             46.200   \n",
       "\n",
       "   Rented Bikes  Rented Bikes (Future)  label_x  prediction  label_y  \n",
       "0           281                    279      279  291.800000    279.0  \n",
       "1           279                    274      274  277.433333    274.0  \n",
       "2           274                    161      161  203.433333    161.0  \n",
       "3           161                    270      270  268.900000    270.0  \n",
       "4           270                     62       62   63.700000     62.0  "
      ]
     },
     "execution_count": 1627,
     "metadata": {},
     "output_type": "execute_result"
    }
   ],
   "source": [
    "output_rd_bis = pd.merge(pred_rd_test,pred_rd_training, how='outer').sort_values('Day', ascending=True)\n",
    "output_rd = pd.merge(df_bis, output_rd_bis, how='outer', on='Day')\n",
    "output_rd.head()"
   ]
  },
  {
   "cell_type": "code",
   "execution_count": 550,
   "metadata": {},
   "outputs": [],
   "source": []
  },
  {
   "cell_type": "code",
   "execution_count": 194,
   "metadata": {},
   "outputs": [],
   "source": [
    "# 450 samples"
   ]
  },
  {
   "cell_type": "code",
   "execution_count": null,
   "metadata": {},
   "outputs": [],
   "source": [
    "plt.figure(figsize=(26,8))\n",
    "\n",
    "plt.subplot(131)\n",
    "plt.scatter(output.values[:,10], output.values[:,2], color = 'blue',label='Actual Value')  \n",
    "plt.legend()\n",
    "plt.xticks(np.arange(0, 1000, step=100))\n",
    "plt.yticks(np.arange(0, 2000, step=100))\n",
    "plt.title(\"Actual data\")\n",
    "plt.ylabel(\"predicted row id\")\n",
    "plt.xlabel(\"Usage value\")\n",
    "\n",
    "\n",
    "\n",
    "plt.subplot(132)\n",
    "plt.scatter(output.values[:,0], output.values[:,2], color = 'red',label='Real future Value') \n",
    "plt.legend()\n",
    "plt.xticks(np.arange(0, 1000, step=100))\n",
    "plt.yticks(np.arange(0, 2000, step=100))\n",
    "plt.title(\"Random forest Prediction\")\n",
    "plt.ylabel(\"predicted row id\")\n",
    "plt.xlabel(\"Usage value\")\n",
    "\n",
    "plt.show()"
   ]
  },
  {
   "cell_type": "code",
   "execution_count": 1220,
   "metadata": {},
   "outputs": [
    {
     "data": {
      "text/plain": [
       "<seaborn.axisgrid.FacetGrid at 0x1a2637eef0>"
      ]
     },
     "execution_count": 1220,
     "metadata": {},
     "output_type": "execute_result"
    },
    {
     "data": {
      "image/png": "[encoded data removed]",
      "text/plain": [
       "<Figure size 360x360 with 1 Axes>"
      ]
     },
     "metadata": {
      "needs_background": "light"
     },
     "output_type": "display_data"
    }
   ],
   "source": []
  },
  {
   "cell_type": "code",
   "execution_count": 1628,
   "metadata": {},
   "outputs": [
    {
     "data": {
      "text/plain": [
       "<matplotlib.axes._subplots.AxesSubplot at 0x1a29e1b198>"
      ]
     },
     "execution_count": 1628,
     "metadata": {},
     "output_type": "execute_result"
    },
    {
     "data": {
      "image/png": "[encoded data removed]",
      "text/plain": [
       "<Figure size 432x288 with 2 Axes>"
      ]
     },
     "metadata": {
      "needs_background": "light"
     },
     "output_type": "display_data"
    }
   ],
   "source": [
    "# Calculate correlations\n",
    "heat_rd=output_rd.loc[:,['Rented Bikes','prediction','Rented Bikes (Future)']]\n",
    "heat_rd= heat_rd.rename(index=str, columns={\"Rented Bikes\": \"current bike usage\", \"Rented Bikes (Future)\": \"real future usage\"})\n",
    "corr = heat_rd.corr()\n",
    " \n",
    "# Heatmap\n",
    "sns.heatmap(corr)\n"
   ]
  },
  {
   "cell_type": "code",
   "execution_count": 1631,
   "metadata": {},
   "outputs": [
    {
     "data": {
      "text/plain": [
       "<seaborn.axisgrid.FacetGrid at 0x1a2a3fccc0>"
      ]
     },
     "execution_count": 1631,
     "metadata": {},
     "output_type": "execute_result"
    },
    {
     "data": {
      "image/png": "[encoded data removed]",
      "text/plain": [
       "<Figure size 360x360 with 1 Axes>"
      ]
     },
     "metadata": {
      "needs_background": "light"
     },
     "output_type": "display_data"
    }
   ],
   "source": [
    "sns.lmplot(x='prediction', y='real future usage', data=heat_rd)"
   ]
  },
  {
   "cell_type": "code",
   "execution_count": 1222,
   "metadata": {},
   "outputs": [],
   "source": [
    "x1 = output_rd.values[:,1].astype(int) #day\n",
    "x3 = pred_rd_training.values[:,2].astype(int) #day\n",
    "x2 = pred_rd_test.values[:,2].astype(int) #day\n",
    "\n",
    "\n",
    "y1 = output_rd.loc[:,'label_x'] #actual\n",
    "y3 = pred_rd_training.values[:,0].astype(int) #prediction train\n",
    "y2 = pred_rd_test.values[:,0] #prediction test\n",
    "\n",
    "\n",
    "\n",
    "# output to static HTML file\n",
    "output_file(\"RandomForest.html\")\n",
    "p = figure(\n",
    "   tools=\"pan,box_zoom,wheel_zoom,reset,save\",\n",
    "    title=\"Random Forest Regression Prediction\",\n",
    "    y_range=[1, 850],\n",
    "    x_range=[0, 1600],\n",
    "   x_axis_label='Days', y_axis_label='Frequency',\n",
    "    plot_width=2000, plot_height=350,\n",
    "    x_axis_type=None,\n",
    "    toolbar_location=\"left\"\n",
    ")\n",
    "#set xticks\n",
    "tickerx = SingleIntervalTicker(interval=1, num_minor_ticks=1)\n",
    "xaxis = LinearAxis(ticker=tickerx)\n",
    "p.add_layout(xaxis, 'below')\n",
    "# add a line renderer with legend and line thickness\n",
    "p.ray(x=1212, y=0, length=800, angle=1.57079633, color='purple')\n",
    "p.line(x1, y1, legend=\"Actual\", line_color=\"green\")\n",
    "p.line(x2, y2, legend=\"Predicted Test\", line_color=\"blue\")\n",
    "p.line(x3, y3, legend=\"Predicted Training\", line_color=\"red\")\n",
    "p.xaxis.major_label_orientation = 'vertical'\n",
    "# show the results\n",
    "show(p)\n"
   ]
  },
  {
   "cell_type": "code",
   "execution_count": null,
   "metadata": {},
   "outputs": [],
   "source": [
    "plt.figure(figsize=(26,8))\n",
    "plt.subplot(121)\n",
    "plt.scatter(output.values[:,0], output.values[:,2], color = 'red',label='Prediction') \n",
    "plt.scatter(output.values[:,10], output.values[:,2], color = 'blue',label='Real future value')\n",
    "plt.legend()\n",
    "plt.yticks(np.arange(0, 2000, step=100))\n",
    "plt.title(\"Random forest\")\n",
    "plt.ylabel(\"predicted row id\")\n",
    "plt.xlabel(\"Usage value\")\n",
    "plt.show()"
   ]
  },
  {
   "cell_type": "markdown",
   "metadata": {},
   "source": [
    "# Gradient-boosted tree regression"
   ]
  },
  {
   "cell_type": "code",
   "execution_count": 1606,
   "metadata": {},
   "outputs": [
    {
     "name": "stdout",
     "output_type": "stream",
     "text": [
      "Root Mean Squared Error (RMSE) on test data = 63.2672\n",
      "GBTRegressionModel (uid=GBTRegressor_207c82c709c5) with 20 trees\n"
     ]
    },
    {
     "data": {
      "text/html": [
       "<div>\n",
       "<style scoped>\n",
       "    .dataframe tbody tr th:only-of-type {\n",
       "        vertical-align: middle;\n",
       "    }\n",
       "\n",
       "    .dataframe tbody tr th {\n",
       "        vertical-align: top;\n",
       "    }\n",
       "\n",
       "    .dataframe thead th {\n",
       "        text-align: right;\n",
       "    }\n",
       "</style>\n",
       "<table border=\"1\" class=\"dataframe\">\n",
       "  <thead>\n",
       "    <tr style=\"text-align: right;\">\n",
       "      <th></th>\n",
       "      <th>prediction</th>\n",
       "      <th>label</th>\n",
       "      <th>Day</th>\n",
       "    </tr>\n",
       "  </thead>\n",
       "  <tbody>\n",
       "    <tr>\n",
       "      <th>0</th>\n",
       "      <td>319.650631</td>\n",
       "      <td>313</td>\n",
       "      <td>1065</td>\n",
       "    </tr>\n",
       "    <tr>\n",
       "      <th>1</th>\n",
       "      <td>299.428519</td>\n",
       "      <td>267</td>\n",
       "      <td>1066</td>\n",
       "    </tr>\n",
       "    <tr>\n",
       "      <th>2</th>\n",
       "      <td>308.468905</td>\n",
       "      <td>233</td>\n",
       "      <td>1067</td>\n",
       "    </tr>\n",
       "    <tr>\n",
       "      <th>3</th>\n",
       "      <td>264.182482</td>\n",
       "      <td>151</td>\n",
       "      <td>1068</td>\n",
       "    </tr>\n",
       "    <tr>\n",
       "      <th>4</th>\n",
       "      <td>73.031700</td>\n",
       "      <td>35</td>\n",
       "      <td>1069</td>\n",
       "    </tr>\n",
       "  </tbody>\n",
       "</table>\n",
       "</div>"
      ],
      "text/plain": [
       "   prediction  label   Day\n",
       "0  319.650631    313  1065\n",
       "1  299.428519    267  1066\n",
       "2  308.468905    233  1067\n",
       "3  264.182482    151  1068\n",
       "4   73.031700     35  1069"
      ]
     },
     "execution_count": 1606,
     "metadata": {},
     "output_type": "execute_result"
    }
   ],
   "source": [
    "from pyspark.ml import Pipeline\n",
    "from pyspark.ml.regression import GBTRegressor\n",
    "from pyspark.ml.feature import VectorIndexer\n",
    "from pyspark.ml.evaluation import RegressionEvaluator\n",
    "\n",
    "\n",
    "\n",
    "# Automatically identify categorical features, and index them.\n",
    "# Set maxCategories so features with > 4 distinct values are treated as continuous.\n",
    "featureIndexer =\\\n",
    "    VectorIndexer(inputCol=\"features\", outputCol=\"indexedFeatures\", maxCategories=4).fit(dataset)\n",
    "\n",
    "\n",
    "# Train a GBT model.\n",
    "gbt = GBTRegressor(featuresCol=\"indexedFeatures\")\n",
    "#40 tree : RMSE= 67.47\n",
    "#10 tree: RMSE= 66\n",
    "#100 tree : RMSE= 67.6202\n",
    "\n",
    "# Chain indexer and GBT in a Pipeline\n",
    "pipeline = Pipeline(stages=[featureIndexer, gbt])\n",
    "\n",
    "# Train model.  This also runs the indexer.\n",
    "model = pipeline.fit(trainingData)\n",
    "\n",
    "# Make predictions.\n",
    "predictions_tr_test = model.transform(testData)\n",
    "\n",
    "# Select example rows to display.\n",
    "pred_tr_test= predictions_tr_test.select(\"prediction\", \"label\" ,\"Day\").orderBy('Day', ascending=True).toPandas()\n",
    "\n",
    "\n",
    "# Select (prediction, true label) and compute test error\n",
    "evaluator = RegressionEvaluator(\n",
    "    labelCol=\"label\", predictionCol=\"prediction\", metricName=\"rmse\")\n",
    "rmse = evaluator.evaluate(predictions_tr_test)\n",
    "print(\"Root Mean Squared Error (RMSE) on test data = %g\" % rmse)\n",
    "\n",
    "gbtModel = model.stages[1]\n",
    "print(gbtModel)  # summary only\n",
    "\n",
    "pred_tr_test.head()"
   ]
  },
  {
   "cell_type": "code",
   "execution_count": 1607,
   "metadata": {},
   "outputs": [
    {
     "name": "stdout",
     "output_type": "stream",
     "text": [
      "Root Mean Squared Error (RMSE) on test data = 42.3448\n",
      "GBTRegressionModel (uid=GBTRegressor_207c82c709c5) with 20 trees\n"
     ]
    },
    {
     "data": {
      "text/html": [
       "<div>\n",
       "<style scoped>\n",
       "    .dataframe tbody tr th:only-of-type {\n",
       "        vertical-align: middle;\n",
       "    }\n",
       "\n",
       "    .dataframe tbody tr th {\n",
       "        vertical-align: top;\n",
       "    }\n",
       "\n",
       "    .dataframe thead th {\n",
       "        text-align: right;\n",
       "    }\n",
       "</style>\n",
       "<table border=\"1\" class=\"dataframe\">\n",
       "  <thead>\n",
       "    <tr style=\"text-align: right;\">\n",
       "      <th></th>\n",
       "      <th>prediction</th>\n",
       "      <th>label</th>\n",
       "      <th>Day</th>\n",
       "    </tr>\n",
       "  </thead>\n",
       "  <tbody>\n",
       "    <tr>\n",
       "      <th>0</th>\n",
       "      <td>307.462537</td>\n",
       "      <td>279</td>\n",
       "      <td>1</td>\n",
       "    </tr>\n",
       "    <tr>\n",
       "      <th>1</th>\n",
       "      <td>267.849053</td>\n",
       "      <td>274</td>\n",
       "      <td>2</td>\n",
       "    </tr>\n",
       "    <tr>\n",
       "      <th>2</th>\n",
       "      <td>269.820232</td>\n",
       "      <td>161</td>\n",
       "      <td>3</td>\n",
       "    </tr>\n",
       "    <tr>\n",
       "      <th>3</th>\n",
       "      <td>225.799070</td>\n",
       "      <td>270</td>\n",
       "      <td>4</td>\n",
       "    </tr>\n",
       "    <tr>\n",
       "      <th>4</th>\n",
       "      <td>58.701847</td>\n",
       "      <td>62</td>\n",
       "      <td>5</td>\n",
       "    </tr>\n",
       "  </tbody>\n",
       "</table>\n",
       "</div>"
      ],
      "text/plain": [
       "   prediction  label  Day\n",
       "0  307.462537    279    1\n",
       "1  267.849053    274    2\n",
       "2  269.820232    161    3\n",
       "3  225.799070    270    4\n",
       "4   58.701847     62    5"
      ]
     },
     "execution_count": 1607,
     "metadata": {},
     "output_type": "execute_result"
    }
   ],
   "source": [
    "# Make predictions.\n",
    "predictions_tr_training = model.transform(trainingData)\n",
    "\n",
    "# Select example rows to display.\n",
    "pred_tr_training= predictions_tr_training.select(\"prediction\", \"label\" ,\"Day\").orderBy('Day', ascending=True).toPandas()\n",
    "\n",
    "\n",
    "# Select (prediction, true label) and compute test error\n",
    "evaluator = RegressionEvaluator(\n",
    "    labelCol=\"label\", predictionCol=\"prediction\", metricName=\"rmse\")\n",
    "rmse = evaluator.evaluate(predictions_tr_training)\n",
    "print(\"Root Mean Squared Error (RMSE) on test data = %g\" % rmse)\n",
    "\n",
    "gbtModel = model.stages[1]\n",
    "print(gbtModel)  # summary only\n",
    "\n",
    "pred_tr_training.head()"
   ]
  },
  {
   "cell_type": "code",
   "execution_count": 1608,
   "metadata": {},
   "outputs": [
    {
     "data": {
      "text/html": [
       "<div>\n",
       "<style scoped>\n",
       "    .dataframe tbody tr th:only-of-type {\n",
       "        vertical-align: middle;\n",
       "    }\n",
       "\n",
       "    .dataframe tbody tr th {\n",
       "        vertical-align: top;\n",
       "    }\n",
       "\n",
       "    .dataframe thead th {\n",
       "        text-align: right;\n",
       "    }\n",
       "</style>\n",
       "<table border=\"1\" class=\"dataframe\">\n",
       "  <thead>\n",
       "    <tr style=\"text-align: right;\">\n",
       "      <th></th>\n",
       "      <th>prediction</th>\n",
       "      <th>label_x</th>\n",
       "      <th>_c0</th>\n",
       "      <th>Day</th>\n",
       "      <th>Month</th>\n",
       "      <th>Season</th>\n",
       "      <th>Weekday</th>\n",
       "      <th>Daily Weather</th>\n",
       "      <th>Daily Weather (Past)</th>\n",
       "      <th>Humidity</th>\n",
       "      <th>Humidity (Past)</th>\n",
       "      <th>Windspeed</th>\n",
       "      <th>Windspeed (Past)</th>\n",
       "      <th>Apparent Temperature (Avg)</th>\n",
       "      <th>Apparent Temperature (Avg) (Past)</th>\n",
       "      <th>Rented Bikes</th>\n",
       "      <th>Rented Bikes (Future)</th>\n",
       "      <th>label_y</th>\n",
       "    </tr>\n",
       "  </thead>\n",
       "  <tbody>\n",
       "    <tr>\n",
       "      <th>0</th>\n",
       "      <td>377.656539</td>\n",
       "      <td>360</td>\n",
       "      <td>1253</td>\n",
       "      <td>1254</td>\n",
       "      <td>6</td>\n",
       "      <td>2</td>\n",
       "      <td>1</td>\n",
       "      <td>1</td>\n",
       "      <td>2</td>\n",
       "      <td>0.50</td>\n",
       "      <td>0.51</td>\n",
       "      <td>0.75</td>\n",
       "      <td>2.63</td>\n",
       "      <td>69.465</td>\n",
       "      <td>65.360</td>\n",
       "      <td>360</td>\n",
       "      <td>387</td>\n",
       "      <td>387</td>\n",
       "    </tr>\n",
       "    <tr>\n",
       "      <th>1</th>\n",
       "      <td>94.178009</td>\n",
       "      <td>102</td>\n",
       "      <td>1259</td>\n",
       "      <td>1260</td>\n",
       "      <td>7</td>\n",
       "      <td>2</td>\n",
       "      <td>7</td>\n",
       "      <td>1</td>\n",
       "      <td>2</td>\n",
       "      <td>0.51</td>\n",
       "      <td>0.58</td>\n",
       "      <td>8.14</td>\n",
       "      <td>9.95</td>\n",
       "      <td>74.225</td>\n",
       "      <td>69.730</td>\n",
       "      <td>102</td>\n",
       "      <td>383</td>\n",
       "      <td>383</td>\n",
       "    </tr>\n",
       "    <tr>\n",
       "      <th>2</th>\n",
       "      <td>376.827900</td>\n",
       "      <td>421</td>\n",
       "      <td>177</td>\n",
       "      <td>178</td>\n",
       "      <td>7</td>\n",
       "      <td>2</td>\n",
       "      <td>3</td>\n",
       "      <td>2</td>\n",
       "      <td>1</td>\n",
       "      <td>0.52</td>\n",
       "      <td>0.57</td>\n",
       "      <td>2.63</td>\n",
       "      <td>2.22</td>\n",
       "      <td>78.645</td>\n",
       "      <td>76.140</td>\n",
       "      <td>421</td>\n",
       "      <td>350</td>\n",
       "      <td>350</td>\n",
       "    </tr>\n",
       "    <tr>\n",
       "      <th>3</th>\n",
       "      <td>391.374272</td>\n",
       "      <td>410</td>\n",
       "      <td>486</td>\n",
       "      <td>487</td>\n",
       "      <td>5</td>\n",
       "      <td>1</td>\n",
       "      <td>4</td>\n",
       "      <td>1</td>\n",
       "      <td>1</td>\n",
       "      <td>0.53</td>\n",
       "      <td>0.58</td>\n",
       "      <td>2.21</td>\n",
       "      <td>1.86</td>\n",
       "      <td>56.195</td>\n",
       "      <td>53.620</td>\n",
       "      <td>410</td>\n",
       "      <td>368</td>\n",
       "      <td>368</td>\n",
       "    </tr>\n",
       "    <tr>\n",
       "      <th>4</th>\n",
       "      <td>412.926105</td>\n",
       "      <td>838</td>\n",
       "      <td>185</td>\n",
       "      <td>186</td>\n",
       "      <td>7</td>\n",
       "      <td>2</td>\n",
       "      <td>4</td>\n",
       "      <td>2</td>\n",
       "      <td>2</td>\n",
       "      <td>0.55</td>\n",
       "      <td>0.69</td>\n",
       "      <td>1.77</td>\n",
       "      <td>4.07</td>\n",
       "      <td>62.970</td>\n",
       "      <td>60.415</td>\n",
       "      <td>838</td>\n",
       "      <td>359</td>\n",
       "      <td>359</td>\n",
       "    </tr>\n",
       "  </tbody>\n",
       "</table>\n",
       "</div>"
      ],
      "text/plain": [
       "   prediction  label_x   _c0   Day  Month  Season  Weekday  Daily Weather  \\\n",
       "0  377.656539      360  1253  1254      6       2        1              1   \n",
       "1   94.178009      102  1259  1260      7       2        7              1   \n",
       "2  376.827900      421   177   178      7       2        3              2   \n",
       "3  391.374272      410   486   487      5       1        4              1   \n",
       "4  412.926105      838   185   186      7       2        4              2   \n",
       "\n",
       "   Daily Weather (Past)  Humidity  Humidity (Past)  Windspeed  \\\n",
       "0                     2      0.50             0.51       0.75   \n",
       "1                     2      0.51             0.58       8.14   \n",
       "2                     1      0.52             0.57       2.63   \n",
       "3                     1      0.53             0.58       2.21   \n",
       "4                     2      0.55             0.69       1.77   \n",
       "\n",
       "   Windspeed (Past)  Apparent Temperature (Avg)  \\\n",
       "0              2.63                      69.465   \n",
       "1              9.95                      74.225   \n",
       "2              2.22                      78.645   \n",
       "3              1.86                      56.195   \n",
       "4              4.07                      62.970   \n",
       "\n",
       "   Apparent Temperature (Avg) (Past)  Rented Bikes  Rented Bikes (Future)  \\\n",
       "0                             65.360           360                    387   \n",
       "1                             69.730           102                    383   \n",
       "2                             76.140           421                    350   \n",
       "3                             53.620           410                    368   \n",
       "4                             60.415           838                    359   \n",
       "\n",
       "   label_y  \n",
       "0      387  \n",
       "1      383  \n",
       "2      350  \n",
       "3      368  \n",
       "4      359  "
      ]
     },
     "execution_count": 1608,
     "metadata": {},
     "output_type": "execute_result"
    }
   ],
   "source": [
    "output_tr = pd.merge(pred_tr,df_bis,how='left', on='_c0')\n",
    "output_tr.head()"
   ]
  },
  {
   "cell_type": "code",
   "execution_count": 1609,
   "metadata": {},
   "outputs": [
    {
     "data": {
      "text/plain": [
       "[Text(0,0,'Humidity (Past)'), Text(0,0,'Rented Bikes'), Text(0,0,'Weekday')]"
      ]
     },
     "execution_count": 1609,
     "metadata": {},
     "output_type": "execute_result"
    },
    {
     "data": {
      "image/png": "[encoded data removed]",
      "text/plain": [
       "<Figure size 432x288 with 1 Axes>"
      ]
     },
     "metadata": {
      "needs_background": "light"
     },
     "output_type": "display_data"
    }
   ],
   "source": [
    "#treeModel.featureImportances\n",
    "from pandas.io.json import json_normalize\n",
    "#remove Month, Humidity(past), Season, Daily weather, Daily weather(Past), Weekday\n",
    "#print(json_normalize(dict(zip(df_bis.columns, treeModel.featureImportances))))\n",
    "\n",
    "jdata = dict(zip(cols, gbtModel.featureImportances))\n",
    "\n",
    "df = pd.DataFrame.from_dict(json_normalize(jdata), orient='columns')\n",
    "\n",
    "dfsum=pd.melt(df)# Count Plot (a.k.a. Bar Plot)\n",
    "\n",
    "\n",
    "dfsum['value'] *= 100\n",
    "\n",
    "ax = dfsum.plot(kind='barh')\n",
    "ax.set_xlabel('importance (%)')\n",
    "ax.set_ylabel(\"feature\")\n",
    "ax.set_yticklabels(dfsum.variable)"
   ]
  },
  {
   "cell_type": "code",
   "execution_count": 1610,
   "metadata": {},
   "outputs": [
    {
     "data": {
      "text/html": [
       "<div>\n",
       "<style scoped>\n",
       "    .dataframe tbody tr th:only-of-type {\n",
       "        vertical-align: middle;\n",
       "    }\n",
       "\n",
       "    .dataframe tbody tr th {\n",
       "        vertical-align: top;\n",
       "    }\n",
       "\n",
       "    .dataframe thead th {\n",
       "        text-align: right;\n",
       "    }\n",
       "</style>\n",
       "<table border=\"1\" class=\"dataframe\">\n",
       "  <thead>\n",
       "    <tr style=\"text-align: right;\">\n",
       "      <th></th>\n",
       "      <th>_c0</th>\n",
       "      <th>Day</th>\n",
       "      <th>Month</th>\n",
       "      <th>Season</th>\n",
       "      <th>Weekday</th>\n",
       "      <th>Daily Weather</th>\n",
       "      <th>Daily Weather (Past)</th>\n",
       "      <th>Humidity</th>\n",
       "      <th>Humidity (Past)</th>\n",
       "      <th>Windspeed</th>\n",
       "      <th>Windspeed (Past)</th>\n",
       "      <th>Apparent Temperature (Avg)</th>\n",
       "      <th>Apparent Temperature (Avg) (Past)</th>\n",
       "      <th>Rented Bikes</th>\n",
       "      <th>Rented Bikes (Future)</th>\n",
       "      <th>label_x</th>\n",
       "      <th>prediction</th>\n",
       "      <th>label_y</th>\n",
       "    </tr>\n",
       "  </thead>\n",
       "  <tbody>\n",
       "    <tr>\n",
       "      <th>0</th>\n",
       "      <td>0</td>\n",
       "      <td>1</td>\n",
       "      <td>1</td>\n",
       "      <td>4</td>\n",
       "      <td>1</td>\n",
       "      <td>2</td>\n",
       "      <td>6</td>\n",
       "      <td>0.88</td>\n",
       "      <td>0.94</td>\n",
       "      <td>1.59</td>\n",
       "      <td>0.55</td>\n",
       "      <td>46.740</td>\n",
       "      <td>36.295</td>\n",
       "      <td>281</td>\n",
       "      <td>279</td>\n",
       "      <td>279</td>\n",
       "      <td>307.462537</td>\n",
       "      <td>279.0</td>\n",
       "    </tr>\n",
       "    <tr>\n",
       "      <th>1</th>\n",
       "      <td>1</td>\n",
       "      <td>2</td>\n",
       "      <td>1</td>\n",
       "      <td>4</td>\n",
       "      <td>2</td>\n",
       "      <td>2</td>\n",
       "      <td>2</td>\n",
       "      <td>0.86</td>\n",
       "      <td>0.88</td>\n",
       "      <td>2.07</td>\n",
       "      <td>1.59</td>\n",
       "      <td>42.150</td>\n",
       "      <td>46.740</td>\n",
       "      <td>279</td>\n",
       "      <td>274</td>\n",
       "      <td>274</td>\n",
       "      <td>267.849053</td>\n",
       "      <td>274.0</td>\n",
       "    </tr>\n",
       "    <tr>\n",
       "      <th>2</th>\n",
       "      <td>2</td>\n",
       "      <td>3</td>\n",
       "      <td>1</td>\n",
       "      <td>4</td>\n",
       "      <td>3</td>\n",
       "      <td>1</td>\n",
       "      <td>2</td>\n",
       "      <td>0.86</td>\n",
       "      <td>0.86</td>\n",
       "      <td>4.13</td>\n",
       "      <td>2.07</td>\n",
       "      <td>45.450</td>\n",
       "      <td>42.150</td>\n",
       "      <td>274</td>\n",
       "      <td>161</td>\n",
       "      <td>161</td>\n",
       "      <td>269.820232</td>\n",
       "      <td>161.0</td>\n",
       "    </tr>\n",
       "    <tr>\n",
       "      <th>3</th>\n",
       "      <td>3</td>\n",
       "      <td>4</td>\n",
       "      <td>1</td>\n",
       "      <td>4</td>\n",
       "      <td>4</td>\n",
       "      <td>5</td>\n",
       "      <td>1</td>\n",
       "      <td>0.87</td>\n",
       "      <td>0.86</td>\n",
       "      <td>3.60</td>\n",
       "      <td>4.13</td>\n",
       "      <td>46.200</td>\n",
       "      <td>45.450</td>\n",
       "      <td>161</td>\n",
       "      <td>270</td>\n",
       "      <td>270</td>\n",
       "      <td>225.799070</td>\n",
       "      <td>270.0</td>\n",
       "    </tr>\n",
       "    <tr>\n",
       "      <th>4</th>\n",
       "      <td>4</td>\n",
       "      <td>5</td>\n",
       "      <td>1</td>\n",
       "      <td>4</td>\n",
       "      <td>5</td>\n",
       "      <td>2</td>\n",
       "      <td>5</td>\n",
       "      <td>0.81</td>\n",
       "      <td>0.87</td>\n",
       "      <td>7.43</td>\n",
       "      <td>3.60</td>\n",
       "      <td>56.085</td>\n",
       "      <td>46.200</td>\n",
       "      <td>270</td>\n",
       "      <td>62</td>\n",
       "      <td>62</td>\n",
       "      <td>58.701847</td>\n",
       "      <td>62.0</td>\n",
       "    </tr>\n",
       "  </tbody>\n",
       "</table>\n",
       "</div>"
      ],
      "text/plain": [
       "   _c0  Day  Month  Season  Weekday  Daily Weather  Daily Weather (Past)  \\\n",
       "0    0    1      1       4        1              2                     6   \n",
       "1    1    2      1       4        2              2                     2   \n",
       "2    2    3      1       4        3              1                     2   \n",
       "3    3    4      1       4        4              5                     1   \n",
       "4    4    5      1       4        5              2                     5   \n",
       "\n",
       "   Humidity  Humidity (Past)  Windspeed  Windspeed (Past)  \\\n",
       "0      0.88             0.94       1.59              0.55   \n",
       "1      0.86             0.88       2.07              1.59   \n",
       "2      0.86             0.86       4.13              2.07   \n",
       "3      0.87             0.86       3.60              4.13   \n",
       "4      0.81             0.87       7.43              3.60   \n",
       "\n",
       "   Apparent Temperature (Avg)  Apparent Temperature (Avg) (Past)  \\\n",
       "0                      46.740                             36.295   \n",
       "1                      42.150                             46.740   \n",
       "2                      45.450                             42.150   \n",
       "3                      46.200                             45.450   \n",
       "4                      56.085                             46.200   \n",
       "\n",
       "   Rented Bikes  Rented Bikes (Future)  label_x  prediction  label_y  \n",
       "0           281                    279      279  307.462537    279.0  \n",
       "1           279                    274      274  267.849053    274.0  \n",
       "2           274                    161      161  269.820232    161.0  \n",
       "3           161                    270      270  225.799070    270.0  \n",
       "4           270                     62       62   58.701847     62.0  "
      ]
     },
     "execution_count": 1610,
     "metadata": {},
     "output_type": "execute_result"
    }
   ],
   "source": [
    "output_tr_bis = pd.merge(pred_tr_test,pred_tr_training, how='outer').sort_values('Day', ascending=True)\n",
    "output_tr = pd.merge(df_bis, output_tr_bis, how='outer', on='Day')\n",
    "output_tr.head()"
   ]
  },
  {
   "cell_type": "code",
   "execution_count": null,
   "metadata": {},
   "outputs": [],
   "source": [
    "plt.figure(figsize=(26,8))\n",
    "\n",
    "plt.subplot(131)\n",
    "plt.scatter(output_tr.values[:,10], output_tr.values[:,2], color = 'blue',label='Actual Value')  \n",
    "plt.legend()\n",
    "plt.xticks(np.arange(0, 1000, step=100))\n",
    "plt.yticks(np.arange(0, 2000, step=100))\n",
    "plt.title(\"Actual data\")\n",
    "plt.ylabel(\"predicted row id\")\n",
    "plt.xlabel(\"Usage value\")\n",
    "\n",
    "\n",
    "\n",
    "plt.subplot(132)\n",
    "plt.scatter(output_tr.values[:,0], output_tr.values[:,2], color = 'red',label='Real future Value') \n",
    "plt.legend()\n",
    "plt.xticks(np.arange(0, 1000, step=100))\n",
    "plt.yticks(np.arange(0, 2000, step=100))\n",
    "plt.title(\"Grdient boosted regression\")\n",
    "plt.ylabel(\"predicted row id\")\n",
    "plt.xlabel(\"Usage value\")\n",
    "\n",
    "plt.show()"
   ]
  },
  {
   "cell_type": "code",
   "execution_count": 1265,
   "metadata": {},
   "outputs": [
    {
     "data": {
      "text/plain": [
       "<seaborn.axisgrid.FacetGrid at 0x1a26e5afd0>"
      ]
     },
     "execution_count": 1265,
     "metadata": {},
     "output_type": "execute_result"
    },
    {
     "data": {
      "image/png": "[encoded data removed]",
      "text/plain": [
       "<Figure size 360x360 with 1 Axes>"
      ]
     },
     "metadata": {
      "needs_background": "light"
     },
     "output_type": "display_data"
    }
   ],
   "source": []
  },
  {
   "cell_type": "code",
   "execution_count": 1611,
   "metadata": {},
   "outputs": [
    {
     "data": {
      "text/plain": [
       "<matplotlib.axes._subplots.AxesSubplot at 0x1a2a0c92e8>"
      ]
     },
     "execution_count": 1611,
     "metadata": {},
     "output_type": "execute_result"
    },
    {
     "data": {
      "image/png": "[encoded data removed]",
      "text/plain": [
       "<Figure size 432x288 with 2 Axes>"
      ]
     },
     "metadata": {
      "needs_background": "light"
     },
     "output_type": "display_data"
    }
   ],
   "source": [
    "# Calculate correlations\n",
    "heat_tr=output_tr.loc[:,['Rented Bikes','prediction','Rented Bikes (Future)']]\n",
    "heat_tr= heat_tr.rename(index=str, columns={\"Rented Bikes\": \"current bike usage\", \"Rented Bikes (Future)\": \"real future usage\"})\n",
    "corr = heat_tr.corr()\n",
    " \n",
    "# Heatmap\n",
    "sns.heatmap(corr)\n",
    "\n",
    "\n",
    "\n"
   ]
  },
  {
   "cell_type": "code",
   "execution_count": 1613,
   "metadata": {},
   "outputs": [
    {
     "data": {
      "text/plain": [
       "<seaborn.axisgrid.FacetGrid at 0x1a291356d8>"
      ]
     },
     "execution_count": 1613,
     "metadata": {},
     "output_type": "execute_result"
    },
    {
     "data": {
      "image/png": "[encoded data removed]",
      "text/plain": [
       "<Figure size 360x360 with 1 Axes>"
      ]
     },
     "metadata": {
      "needs_background": "light"
     },
     "output_type": "display_data"
    }
   ],
   "source": [
    "sns.lmplot(x='prediction', y='real future usage', data=heat_tr)"
   ]
  },
  {
   "cell_type": "code",
   "execution_count": 1267,
   "metadata": {},
   "outputs": [],
   "source": [
    "x1 = output_tr.values[:,1].astype(int) #day\n",
    "x3 = pred_tr_training.values[:,2].astype(int) #day\n",
    "x2 = pred_tr_test.values[:,2].astype(int) #day\n",
    "\n",
    "\n",
    "y1 = output_tr.loc[:,'label_x'] #actual\n",
    "y3 = pred_tr_training.values[:,0].astype(int) #prediction train\n",
    "y2 = pred_tr_test.values[:,0] #prediction test\n",
    "\n",
    "\n",
    "\n",
    "# output to static HTML file\n",
    "output_file(\"GradientBooseted.html\")\n",
    "p = figure(\n",
    "   tools=\"pan,box_zoom,wheel_zoom,reset,save\",\n",
    "    title=\"Gradient-boosted tree Prediction\",\n",
    "    y_range=[1, 850],\n",
    "    x_range=[0, 1600],\n",
    "   x_axis_label='Days', y_axis_label='Frequency',\n",
    "    plot_width=2000, plot_height=350,\n",
    "    x_axis_type=None,\n",
    "    toolbar_location=\"left\"\n",
    ")\n",
    "#set xticks\n",
    "tickerx = SingleIntervalTicker(interval=1, num_minor_ticks=1)\n",
    "xaxis = LinearAxis(ticker=tickerx)\n",
    "p.add_layout(xaxis, 'below')\n",
    "# add a line renderer with legend and line thickness\n",
    "p.ray(x=1212, y=0, length=800, angle=1.57079633, color='purple')\n",
    "p.line(x1, y1, legend=\"Actual\", line_color=\"green\")\n",
    "p.line(x2, y2, legend=\"Predicted Test\", line_color=\"blue\")\n",
    "p.line(x3, y3, legend=\"Predicted Training\", line_color=\"red\")\n",
    "p.xaxis.major_label_orientation = 'vertical'\n",
    "# show the results\n",
    "show(p)\n"
   ]
  },
  {
   "cell_type": "code",
   "execution_count": 229,
   "metadata": {},
   "outputs": [
    {
     "data": {
      "image/png": "[encoded data removed]",
      "text/plain": [
       "<Figure size 1872x576 with 1 Axes>"
      ]
     },
     "metadata": {
      "needs_background": "light"
     },
     "output_type": "display_data"
    }
   ],
   "source": [
    "plt.figure(figsize=(26,8))\n",
    "plt.subplot(121)\n",
    "plt.scatter(output_tr.values[:,0], output_tr.values[:,2], color = 'red',label='Prediction') \n",
    "plt.scatter(output_tr.values[:,10], output_tr.values[:,2], color = 'blue',label='Real future value')\n",
    "plt.legend()\n",
    "plt.yticks(np.arange(0, 2000, step=100))\n",
    "plt.title(\"Gradient boosted\")\n",
    "plt.ylabel(\"predicted row id\")\n",
    "plt.xlabel(\"Usage value\")\n",
    "plt.show()"
   ]
  },
  {
   "cell_type": "code",
   "execution_count": 1293,
   "metadata": {},
   "outputs": [],
   "source": [
    "pandaDf = trainingData.toPandas()\n",
    "\n",
    "X = pandaDf['features'].values.reshape(-1,1)\n",
    "y = pandaDf['label'].values.reshape(-1,1)\n",
    "\n"
   ]
  },
  {
   "cell_type": "markdown",
   "metadata": {},
   "source": [
    "# Multi-layer perceptron"
   ]
  },
  {
   "cell_type": "code",
   "execution_count": 1294,
   "metadata": {},
   "outputs": [
    {
     "ename": "ValueError",
     "evalue": "setting an array element with a sequence.",
     "output_type": "error",
     "traceback": [
      "\u001b[0;31m---------------------------------------------------------------------------\u001b[0m",
      "\u001b[0;31mValueError\u001b[0m                                Traceback (most recent call last)",
      "\u001b[0;32m<ipython-input-1294-ed8e0cfab2ca>\u001b[0m in \u001b[0;36m<module>\u001b[0;34m\u001b[0m\n\u001b[1;32m     19\u001b[0m \u001b[0;34m\u001b[0m\u001b[0m\n\u001b[1;32m     20\u001b[0m \u001b[0mstart\u001b[0m \u001b[0;34m=\u001b[0m \u001b[0mdt\u001b[0m\u001b[0;34m.\u001b[0m\u001b[0mdatetime\u001b[0m\u001b[0;34m.\u001b[0m\u001b[0mnow\u001b[0m\u001b[0;34m(\u001b[0m\u001b[0;34m)\u001b[0m\u001b[0;34m\u001b[0m\u001b[0m\n\u001b[0;32m---> 21\u001b[0;31m \u001b[0mnn_1_10\u001b[0m\u001b[0;34m.\u001b[0m\u001b[0mfit\u001b[0m\u001b[0;34m(\u001b[0m\u001b[0mX\u001b[0m\u001b[0;34m,\u001b[0m \u001b[0my\u001b[0m\u001b[0;34m)\u001b[0m\u001b[0;34m\u001b[0m\u001b[0m\n\u001b[0m\u001b[1;32m     22\u001b[0m \u001b[0mend\u001b[0m \u001b[0;34m=\u001b[0m \u001b[0mdt\u001b[0m\u001b[0;34m.\u001b[0m\u001b[0mdatetime\u001b[0m\u001b[0;34m.\u001b[0m\u001b[0mnow\u001b[0m\u001b[0;34m(\u001b[0m\u001b[0;34m)\u001b[0m\u001b[0;34m\u001b[0m\u001b[0m\n\u001b[1;32m     23\u001b[0m \u001b[0;34m\u001b[0m\u001b[0m\n",
      "\u001b[0;32m/anaconda3/envs/geotwo/lib/python3.5/site-packages/sklearn/neural_network/multilayer_perceptron.py\u001b[0m in \u001b[0;36mfit\u001b[0;34m(self, X, y)\u001b[0m\n\u001b[1;32m    975\u001b[0m         \"\"\"\n\u001b[1;32m    976\u001b[0m         return self._fit(X, y, incremental=(self.warm_start and\n\u001b[0;32m--> 977\u001b[0;31m                                             hasattr(self, \"classes_\")))\n\u001b[0m\u001b[1;32m    978\u001b[0m \u001b[0;34m\u001b[0m\u001b[0m\n\u001b[1;32m    979\u001b[0m     \u001b[0;34m@\u001b[0m\u001b[0mproperty\u001b[0m\u001b[0;34m\u001b[0m\u001b[0m\n",
      "\u001b[0;32m/anaconda3/envs/geotwo/lib/python3.5/site-packages/sklearn/neural_network/multilayer_perceptron.py\u001b[0m in \u001b[0;36m_fit\u001b[0;34m(self, X, y, incremental)\u001b[0m\n\u001b[1;32m    322\u001b[0m                              hidden_layer_sizes)\n\u001b[1;32m    323\u001b[0m \u001b[0;34m\u001b[0m\u001b[0m\n\u001b[0;32m--> 324\u001b[0;31m         \u001b[0mX\u001b[0m\u001b[0;34m,\u001b[0m \u001b[0my\u001b[0m \u001b[0;34m=\u001b[0m \u001b[0mself\u001b[0m\u001b[0;34m.\u001b[0m\u001b[0m_validate_input\u001b[0m\u001b[0;34m(\u001b[0m\u001b[0mX\u001b[0m\u001b[0;34m,\u001b[0m \u001b[0my\u001b[0m\u001b[0;34m,\u001b[0m \u001b[0mincremental\u001b[0m\u001b[0;34m)\u001b[0m\u001b[0;34m\u001b[0m\u001b[0m\n\u001b[0m\u001b[1;32m    325\u001b[0m         \u001b[0mn_samples\u001b[0m\u001b[0;34m,\u001b[0m \u001b[0mn_features\u001b[0m \u001b[0;34m=\u001b[0m \u001b[0mX\u001b[0m\u001b[0;34m.\u001b[0m\u001b[0mshape\u001b[0m\u001b[0;34m\u001b[0m\u001b[0m\n\u001b[1;32m    326\u001b[0m \u001b[0;34m\u001b[0m\u001b[0m\n",
      "\u001b[0;32m/anaconda3/envs/geotwo/lib/python3.5/site-packages/sklearn/neural_network/multilayer_perceptron.py\u001b[0m in \u001b[0;36m_validate_input\u001b[0;34m(self, X, y, incremental)\u001b[0m\n\u001b[1;32m    912\u001b[0m     \u001b[0;32mdef\u001b[0m \u001b[0m_validate_input\u001b[0m\u001b[0;34m(\u001b[0m\u001b[0mself\u001b[0m\u001b[0;34m,\u001b[0m \u001b[0mX\u001b[0m\u001b[0;34m,\u001b[0m \u001b[0my\u001b[0m\u001b[0;34m,\u001b[0m \u001b[0mincremental\u001b[0m\u001b[0;34m)\u001b[0m\u001b[0;34m:\u001b[0m\u001b[0;34m\u001b[0m\u001b[0m\n\u001b[1;32m    913\u001b[0m         X, y = check_X_y(X, y, accept_sparse=['csr', 'csc', 'coo'],\n\u001b[0;32m--> 914\u001b[0;31m                          multi_output=True)\n\u001b[0m\u001b[1;32m    915\u001b[0m         \u001b[0;32mif\u001b[0m \u001b[0my\u001b[0m\u001b[0;34m.\u001b[0m\u001b[0mndim\u001b[0m \u001b[0;34m==\u001b[0m \u001b[0;36m2\u001b[0m \u001b[0;32mand\u001b[0m \u001b[0my\u001b[0m\u001b[0;34m.\u001b[0m\u001b[0mshape\u001b[0m\u001b[0;34m[\u001b[0m\u001b[0;36m1\u001b[0m\u001b[0;34m]\u001b[0m \u001b[0;34m==\u001b[0m \u001b[0;36m1\u001b[0m\u001b[0;34m:\u001b[0m\u001b[0;34m\u001b[0m\u001b[0m\n\u001b[1;32m    916\u001b[0m             \u001b[0my\u001b[0m \u001b[0;34m=\u001b[0m \u001b[0mcolumn_or_1d\u001b[0m\u001b[0;34m(\u001b[0m\u001b[0my\u001b[0m\u001b[0;34m,\u001b[0m \u001b[0mwarn\u001b[0m\u001b[0;34m=\u001b[0m\u001b[0;32mTrue\u001b[0m\u001b[0;34m)\u001b[0m\u001b[0;34m\u001b[0m\u001b[0m\n",
      "\u001b[0;32m/anaconda3/envs/geotwo/lib/python3.5/site-packages/sklearn/utils/validation.py\u001b[0m in \u001b[0;36mcheck_X_y\u001b[0;34m(X, y, accept_sparse, accept_large_sparse, dtype, order, copy, force_all_finite, ensure_2d, allow_nd, multi_output, ensure_min_samples, ensure_min_features, y_numeric, warn_on_dtype, estimator)\u001b[0m\n\u001b[1;32m    754\u001b[0m                     \u001b[0mensure_min_features\u001b[0m\u001b[0;34m=\u001b[0m\u001b[0mensure_min_features\u001b[0m\u001b[0;34m,\u001b[0m\u001b[0;34m\u001b[0m\u001b[0m\n\u001b[1;32m    755\u001b[0m                     \u001b[0mwarn_on_dtype\u001b[0m\u001b[0;34m=\u001b[0m\u001b[0mwarn_on_dtype\u001b[0m\u001b[0;34m,\u001b[0m\u001b[0;34m\u001b[0m\u001b[0m\n\u001b[0;32m--> 756\u001b[0;31m                     estimator=estimator)\n\u001b[0m\u001b[1;32m    757\u001b[0m     \u001b[0;32mif\u001b[0m \u001b[0mmulti_output\u001b[0m\u001b[0;34m:\u001b[0m\u001b[0;34m\u001b[0m\u001b[0m\n\u001b[1;32m    758\u001b[0m         y = check_array(y, 'csr', force_all_finite=True, ensure_2d=False,\n",
      "\u001b[0;32m/anaconda3/envs/geotwo/lib/python3.5/site-packages/sklearn/utils/validation.py\u001b[0m in \u001b[0;36mcheck_array\u001b[0;34m(array, accept_sparse, accept_large_sparse, dtype, order, copy, force_all_finite, ensure_2d, allow_nd, ensure_min_samples, ensure_min_features, warn_on_dtype, estimator)\u001b[0m\n\u001b[1;32m    525\u001b[0m             \u001b[0;32mtry\u001b[0m\u001b[0;34m:\u001b[0m\u001b[0;34m\u001b[0m\u001b[0m\n\u001b[1;32m    526\u001b[0m                 \u001b[0mwarnings\u001b[0m\u001b[0;34m.\u001b[0m\u001b[0msimplefilter\u001b[0m\u001b[0;34m(\u001b[0m\u001b[0;34m'error'\u001b[0m\u001b[0;34m,\u001b[0m \u001b[0mComplexWarning\u001b[0m\u001b[0;34m)\u001b[0m\u001b[0;34m\u001b[0m\u001b[0m\n\u001b[0;32m--> 527\u001b[0;31m                 \u001b[0marray\u001b[0m \u001b[0;34m=\u001b[0m \u001b[0mnp\u001b[0m\u001b[0;34m.\u001b[0m\u001b[0masarray\u001b[0m\u001b[0;34m(\u001b[0m\u001b[0marray\u001b[0m\u001b[0;34m,\u001b[0m \u001b[0mdtype\u001b[0m\u001b[0;34m=\u001b[0m\u001b[0mdtype\u001b[0m\u001b[0;34m,\u001b[0m \u001b[0morder\u001b[0m\u001b[0;34m=\u001b[0m\u001b[0morder\u001b[0m\u001b[0;34m)\u001b[0m\u001b[0;34m\u001b[0m\u001b[0m\n\u001b[0m\u001b[1;32m    528\u001b[0m             \u001b[0;32mexcept\u001b[0m \u001b[0mComplexWarning\u001b[0m\u001b[0;34m:\u001b[0m\u001b[0;34m\u001b[0m\u001b[0m\n\u001b[1;32m    529\u001b[0m                 raise ValueError(\"Complex data not supported\\n\"\n",
      "\u001b[0;32m/anaconda3/envs/geotwo/lib/python3.5/site-packages/numpy/core/numeric.py\u001b[0m in \u001b[0;36masarray\u001b[0;34m(a, dtype, order)\u001b[0m\n",
      "\u001b[0;31mValueError\u001b[0m: setting an array element with a sequence."
     ]
    }
   ],
   "source": [
    "from sklearn.neural_network import MLPClassifier\n",
    "import datetime as dt\n",
    "\n",
    "\n",
    "nn_1_10 = MLPClassifier(hidden_layer_sizes=(10),\n",
    "                   activation='logistic',\n",
    "                   solver='sgd',\n",
    "                   alpha=0.001,\n",
    "                   batch_size=50,\n",
    "                   learning_rate='constant',\n",
    "#                   learning_rate='invscaling',\n",
    "                   learning_rate_init=0.001,\n",
    "#                   power_t=0.00001,\n",
    "                   max_iter=1000,\n",
    "                   verbose=True,\n",
    "                   random_state=1)\n",
    "\n",
    "\n",
    "\n",
    "start = dt.datetime.now()\n",
    "nn_1_10.fit(X, y)\n",
    "end = dt.datetime.now()\n",
    "\n",
    "print('It took {} to train the neural network'.format(end-start))\n",
    "\n",
    "y_train_pred = nn_1_10.predict(trainingData)\n",
    "acc = np.sum(y_train == y_train_pred, axis=0) / X_train.shape[0]\n",
    "print('Training accuracy: %.2f%%' % (acc * 100))\n",
    "\n",
    "y_test_pred = nn_1_10.predict(testData)\n",
    "acc = np.sum(y_test == y_test_pred, axis=0) / X_test.shape[0]\n",
    "print('Test accuracy: %.2f%%' % (acc * 100))\n"
   ]
  }
 ],
 "metadata": {
  "kernelspec": {
   "display_name": "py_36_env",
   "language": "python",
   "name": "py_36_env"
  },
  "language_info": {
   "codemirror_mode": {
    "name": "ipython",
    "version": 3
   },
   "file_extension": ".py",
   "mimetype": "text/x-python",
   "name": "python",
   "nbconvert_exporter": "python",
   "pygments_lexer": "ipython3",
   "version": "3.5.5"
  }
 },
 "nbformat": 4,
 "nbformat_minor": 2
}
