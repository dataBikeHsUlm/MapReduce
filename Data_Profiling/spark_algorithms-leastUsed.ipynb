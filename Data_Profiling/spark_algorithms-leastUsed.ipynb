{
 "cells": [
  {
   "cell_type": "markdown",
   "metadata": {},
   "source": [
    "# DATA PREPARATION"
   ]
  },
  {
   "cell_type": "code",
   "execution_count": 2,
   "metadata": {},
   "outputs": [],
   "source": [
    "import pyspark\n",
    "from pyspark.sql.functions import *\n",
    "from pyspark.ml.feature import StringIndexer, IndexToString, RFormula, OneHotEncoderEstimator, VectorAssembler\n",
    "from pyspark.ml.classification import LogisticRegression\n",
    "from pyspark.ml.evaluation import MulticlassClassificationEvaluator\n",
    "from pyspark.ml import Pipeline, Model\n",
    "\n",
    "\n",
    "\n",
    "#required imports\n",
    "\n",
    "import numpy as np\n",
    "import matplotlib.pyplot as plt\n",
    "import pandas as pd\n",
    "import seaborn as sn\n",
    "from sklearn.preprocessing import LabelEncoder\n",
    "from sklearn import preprocessing\n",
    "from sklearn.preprocessing import StandardScaler\n",
    "from sklearn.preprocessing import Normalizer\n",
    "from sklearn.model_selection import train_test_split\n",
    "from sklearn.metrics import mean_squared_error  \n",
    "from math import sqrt \n",
    "\n",
    "#from bokeh.plotting import figure, output_file, show\n",
    "#from bokeh.models import SingleIntervalTicker, LinearAxis"
   ]
  },
  {
   "cell_type": "markdown",
   "metadata": {},
   "source": [
    "## RMSE = Root Mean Square Error \n",
    "is a frequently used measure of the differences between values predicted by a model. \n",
    "\n",
    "It is the standard deviation of prediction errors.<br>\n",
    "[RMSE](https://www.statisticshowto.datasciencecentral.com/rmse/) answers the question of how concentrated the data is around the line of best fit.\n",
    "![](img/rmse.png)\n",
    "Where:<br>\n",
    "f = forecasts (expected values or unknown results)<br>\n",
    "o = observed values (known results)"
   ]
  },
  {
   "cell_type": "code",
   "execution_count": 61,
   "metadata": {
    "scrolled": false
   },
   "outputs": [
    {
     "data": {
      "text/html": [
       "<div>\n",
       "<style scoped>\n",
       "    .dataframe tbody tr th:only-of-type {\n",
       "        vertical-align: middle;\n",
       "    }\n",
       "\n",
       "    .dataframe tbody tr th {\n",
       "        vertical-align: top;\n",
       "    }\n",
       "\n",
       "    .dataframe thead th {\n",
       "        text-align: right;\n",
       "    }\n",
       "</style>\n",
       "<table border=\"1\" class=\"dataframe\">\n",
       "  <thead>\n",
       "    <tr style=\"text-align: right;\">\n",
       "      <th></th>\n",
       "      <th>Day</th>\n",
       "      <th>Month</th>\n",
       "      <th>Season</th>\n",
       "      <th>Weekday</th>\n",
       "      <th>Holiday</th>\n",
       "      <th>Daily Weather</th>\n",
       "      <th>Daily Weather (Past)</th>\n",
       "      <th>Humidity</th>\n",
       "      <th>Humidity (Past)</th>\n",
       "      <th>Windspeed</th>\n",
       "      <th>Windspeed (Past)</th>\n",
       "      <th>Apparent Temperature (Avg)</th>\n",
       "      <th>Apparent Temperature (Avg) (Past)</th>\n",
       "      <th>Rented Bikes</th>\n",
       "      <th>Rented Bikes (Future)</th>\n",
       "    </tr>\n",
       "  </thead>\n",
       "  <tbody>\n",
       "    <tr>\n",
       "      <th>0</th>\n",
       "      <td>1</td>\n",
       "      <td>January</td>\n",
       "      <td>Winter</td>\n",
       "      <td>Monday</td>\n",
       "      <td>False</td>\n",
       "      <td>partly-cloudy-day</td>\n",
       "      <td>fog</td>\n",
       "      <td>0.88</td>\n",
       "      <td>0.94</td>\n",
       "      <td>1.59</td>\n",
       "      <td>0.55</td>\n",
       "      <td>46.740</td>\n",
       "      <td>36.295</td>\n",
       "      <td>281</td>\n",
       "      <td>279</td>\n",
       "    </tr>\n",
       "    <tr>\n",
       "      <th>1</th>\n",
       "      <td>2</td>\n",
       "      <td>January</td>\n",
       "      <td>Winter</td>\n",
       "      <td>Tuesday</td>\n",
       "      <td>False</td>\n",
       "      <td>partly-cloudy-day</td>\n",
       "      <td>partly-cloudy-day</td>\n",
       "      <td>0.86</td>\n",
       "      <td>0.88</td>\n",
       "      <td>2.07</td>\n",
       "      <td>1.59</td>\n",
       "      <td>42.150</td>\n",
       "      <td>46.740</td>\n",
       "      <td>279</td>\n",
       "      <td>274</td>\n",
       "    </tr>\n",
       "    <tr>\n",
       "      <th>2</th>\n",
       "      <td>3</td>\n",
       "      <td>January</td>\n",
       "      <td>Winter</td>\n",
       "      <td>Wednesday</td>\n",
       "      <td>False</td>\n",
       "      <td>clear-day</td>\n",
       "      <td>partly-cloudy-day</td>\n",
       "      <td>0.86</td>\n",
       "      <td>0.86</td>\n",
       "      <td>4.13</td>\n",
       "      <td>2.07</td>\n",
       "      <td>45.450</td>\n",
       "      <td>42.150</td>\n",
       "      <td>274</td>\n",
       "      <td>161</td>\n",
       "    </tr>\n",
       "    <tr>\n",
       "      <th>3</th>\n",
       "      <td>4</td>\n",
       "      <td>January</td>\n",
       "      <td>Winter</td>\n",
       "      <td>Thursday</td>\n",
       "      <td>False</td>\n",
       "      <td>rain</td>\n",
       "      <td>clear-day</td>\n",
       "      <td>0.87</td>\n",
       "      <td>0.86</td>\n",
       "      <td>3.60</td>\n",
       "      <td>4.13</td>\n",
       "      <td>46.200</td>\n",
       "      <td>45.450</td>\n",
       "      <td>161</td>\n",
       "      <td>270</td>\n",
       "    </tr>\n",
       "    <tr>\n",
       "      <th>4</th>\n",
       "      <td>5</td>\n",
       "      <td>January</td>\n",
       "      <td>Winter</td>\n",
       "      <td>Friday</td>\n",
       "      <td>False</td>\n",
       "      <td>partly-cloudy-day</td>\n",
       "      <td>rain</td>\n",
       "      <td>0.81</td>\n",
       "      <td>0.87</td>\n",
       "      <td>7.43</td>\n",
       "      <td>3.60</td>\n",
       "      <td>56.085</td>\n",
       "      <td>46.200</td>\n",
       "      <td>270</td>\n",
       "      <td>62</td>\n",
       "    </tr>\n",
       "  </tbody>\n",
       "</table>\n",
       "</div>"
      ],
      "text/plain": [
       "   Day    Month  Season    Weekday  Holiday      Daily Weather  \\\n",
       "0    1  January  Winter     Monday    False  partly-cloudy-day   \n",
       "1    2  January  Winter    Tuesday    False  partly-cloudy-day   \n",
       "2    3  January  Winter  Wednesday    False          clear-day   \n",
       "3    4  January  Winter   Thursday    False               rain   \n",
       "4    5  January  Winter     Friday    False  partly-cloudy-day   \n",
       "\n",
       "  Daily Weather (Past)  Humidity  Humidity (Past)  Windspeed  \\\n",
       "0                  fog      0.88             0.94       1.59   \n",
       "1    partly-cloudy-day      0.86             0.88       2.07   \n",
       "2    partly-cloudy-day      0.86             0.86       4.13   \n",
       "3            clear-day      0.87             0.86       3.60   \n",
       "4                 rain      0.81             0.87       7.43   \n",
       "\n",
       "   Windspeed (Past)  Apparent Temperature (Avg)  \\\n",
       "0              0.55                      46.740   \n",
       "1              1.59                      42.150   \n",
       "2              2.07                      45.450   \n",
       "3              4.13                      46.200   \n",
       "4              3.60                      56.085   \n",
       "\n",
       "   Apparent Temperature (Avg) (Past)  Rented Bikes  Rented Bikes (Future)  \n",
       "0                             36.295           281                    279  \n",
       "1                             46.740           279                    274  \n",
       "2                             42.150           274                    161  \n",
       "3                             45.450           161                    270  \n",
       "4                             46.200           270                     62  "
      ]
     },
     "execution_count": 61,
     "metadata": {},
     "output_type": "execute_result"
    }
   ],
   "source": [
    "#load features\n",
    "features = pd.read_csv(\"features.csv\")\n",
    "features.head()"
   ]
  },
  {
   "cell_type": "code",
   "execution_count": 109,
   "metadata": {},
   "outputs": [
    {
     "data": {
      "text/html": [
       "<div>\n",
       "<style scoped>\n",
       "    .dataframe tbody tr th:only-of-type {\n",
       "        vertical-align: middle;\n",
       "    }\n",
       "\n",
       "    .dataframe tbody tr th {\n",
       "        vertical-align: top;\n",
       "    }\n",
       "\n",
       "    .dataframe thead th {\n",
       "        text-align: right;\n",
       "    }\n",
       "</style>\n",
       "<table border=\"1\" class=\"dataframe\">\n",
       "  <thead>\n",
       "    <tr style=\"text-align: right;\">\n",
       "      <th></th>\n",
       "      <th>Station ID</th>\n",
       "      <th>Year</th>\n",
       "      <th>Month</th>\n",
       "      <th>Day of Month</th>\n",
       "      <th>Day</th>\n",
       "      <th>Weekday</th>\n",
       "      <th>Season</th>\n",
       "      <th>Holiday</th>\n",
       "      <th>Daily Weather</th>\n",
       "      <th>Daily Weather (Past)</th>\n",
       "      <th>Humidity</th>\n",
       "      <th>Humidity (Past)</th>\n",
       "      <th>Windspeed</th>\n",
       "      <th>Windspeed (Past)</th>\n",
       "      <th>Apparent Temperature (Avg)</th>\n",
       "      <th>Apparent Temperature (Avg) (Past)</th>\n",
       "      <th>Rented Bikes</th>\n",
       "      <th>Rented Bikes (Future)</th>\n",
       "    </tr>\n",
       "  </thead>\n",
       "  <tbody>\n",
       "    <tr>\n",
       "      <th>0</th>\n",
       "      <td>835</td>\n",
       "      <td>2018</td>\n",
       "      <td>10</td>\n",
       "      <td>4</td>\n",
       "      <td>277</td>\n",
       "      <td>4</td>\n",
       "      <td>Autumn</td>\n",
       "      <td>False</td>\n",
       "      <td>fog</td>\n",
       "      <td>partly-cloudy-day</td>\n",
       "      <td>0.88</td>\n",
       "      <td>0.76</td>\n",
       "      <td>6.55</td>\n",
       "      <td>6.33</td>\n",
       "      <td>57.905</td>\n",
       "      <td>57.42</td>\n",
       "      <td>1</td>\n",
       "      <td>19</td>\n",
       "    </tr>\n",
       "    <tr>\n",
       "      <th>1</th>\n",
       "      <td>835</td>\n",
       "      <td>2018</td>\n",
       "      <td>10</td>\n",
       "      <td>18</td>\n",
       "      <td>291</td>\n",
       "      <td>4</td>\n",
       "      <td>Autumn</td>\n",
       "      <td>False</td>\n",
       "      <td>partly-cloudy-day</td>\n",
       "      <td>partly-cloudy-day</td>\n",
       "      <td>0.8</td>\n",
       "      <td>0.9</td>\n",
       "      <td>6.87</td>\n",
       "      <td>2.22</td>\n",
       "      <td>50.035</td>\n",
       "      <td>53.7</td>\n",
       "      <td>19</td>\n",
       "      <td>24</td>\n",
       "    </tr>\n",
       "    <tr>\n",
       "      <th>2</th>\n",
       "      <td>835</td>\n",
       "      <td>2018</td>\n",
       "      <td>10</td>\n",
       "      <td>19</td>\n",
       "      <td>292</td>\n",
       "      <td>5</td>\n",
       "      <td>Autumn</td>\n",
       "      <td>False</td>\n",
       "      <td>partly-cloudy-night</td>\n",
       "      <td>partly-cloudy-day</td>\n",
       "      <td>0.8</td>\n",
       "      <td>0.8</td>\n",
       "      <td>3.14</td>\n",
       "      <td>6.87</td>\n",
       "      <td>51.435</td>\n",
       "      <td>50.035</td>\n",
       "      <td>24</td>\n",
       "      <td>5</td>\n",
       "    </tr>\n",
       "    <tr>\n",
       "      <th>3</th>\n",
       "      <td>835</td>\n",
       "      <td>2018</td>\n",
       "      <td>10</td>\n",
       "      <td>20</td>\n",
       "      <td>293</td>\n",
       "      <td>6</td>\n",
       "      <td>Autumn</td>\n",
       "      <td>False</td>\n",
       "      <td>partly-cloudy-night</td>\n",
       "      <td>partly-cloudy-night</td>\n",
       "      <td>0.8</td>\n",
       "      <td>0.8</td>\n",
       "      <td>3.64</td>\n",
       "      <td>3.14</td>\n",
       "      <td>55.035</td>\n",
       "      <td>51.435</td>\n",
       "      <td>5</td>\n",
       "      <td>12</td>\n",
       "    </tr>\n",
       "    <tr>\n",
       "      <th>4</th>\n",
       "      <td>835</td>\n",
       "      <td>2018</td>\n",
       "      <td>10</td>\n",
       "      <td>21</td>\n",
       "      <td>294</td>\n",
       "      <td>7</td>\n",
       "      <td>Autumn</td>\n",
       "      <td>False</td>\n",
       "      <td>partly-cloudy-night</td>\n",
       "      <td>partly-cloudy-night</td>\n",
       "      <td>0.8</td>\n",
       "      <td>0.8</td>\n",
       "      <td>4.17</td>\n",
       "      <td>3.64</td>\n",
       "      <td>53.105</td>\n",
       "      <td>55.035</td>\n",
       "      <td>12</td>\n",
       "      <td>22</td>\n",
       "    </tr>\n",
       "  </tbody>\n",
       "</table>\n",
       "</div>"
      ],
      "text/plain": [
       "  Station ID  Year Month Day of Month  Day Weekday  Season Holiday  \\\n",
       "0        835  2018    10            4  277       4  Autumn   False   \n",
       "1        835  2018    10           18  291       4  Autumn   False   \n",
       "2        835  2018    10           19  292       5  Autumn   False   \n",
       "3        835  2018    10           20  293       6  Autumn   False   \n",
       "4        835  2018    10           21  294       7  Autumn   False   \n",
       "\n",
       "         Daily Weather Daily Weather (Past) Humidity Humidity (Past)  \\\n",
       "0                  fog    partly-cloudy-day     0.88            0.76   \n",
       "1    partly-cloudy-day    partly-cloudy-day      0.8             0.9   \n",
       "2  partly-cloudy-night    partly-cloudy-day      0.8             0.8   \n",
       "3  partly-cloudy-night  partly-cloudy-night      0.8             0.8   \n",
       "4  partly-cloudy-night  partly-cloudy-night      0.8             0.8   \n",
       "\n",
       "  Windspeed Windspeed (Past) Apparent Temperature (Avg)  \\\n",
       "0      6.55             6.33                     57.905   \n",
       "1      6.87             2.22                     50.035   \n",
       "2      3.14             6.87                     51.435   \n",
       "3      3.64             3.14                     55.035   \n",
       "4      4.17             3.64                     53.105   \n",
       "\n",
       "  Apparent Temperature (Avg) (Past) Rented Bikes Rented Bikes (Future)  \n",
       "0                             57.42            1                    19  \n",
       "1                              53.7           19                    24  \n",
       "2                            50.035           24                     5  \n",
       "3                            51.435            5                    12  \n",
       "4                            55.035           12                    22  "
      ]
     },
     "execution_count": 109,
     "metadata": {},
     "output_type": "execute_result"
    }
   ],
   "source": [
    "#load features\n",
    "features = pd.read_csv(\"raw_files/835_features.csv\")\n",
    "\n",
    "features= features.rename(index=str, columns={\"Day of Week\": \"Weekday\", \"Day of Year\" : 'Day'})\n",
    "features=features.iloc[:].astype('object')\n",
    "features.head()"
   ]
  },
  {
   "cell_type": "code",
   "execution_count": 110,
   "metadata": {
    "scrolled": true
   },
   "outputs": [],
   "source": [
    "#target variable\n",
    "label = features['Rented Bikes (Future)'].tolist()"
   ]
  },
  {
   "cell_type": "code",
   "execution_count": 111,
   "metadata": {},
   "outputs": [
    {
     "data": {
      "text/plain": [
       "145"
      ]
     },
     "execution_count": 111,
     "metadata": {},
     "output_type": "execute_result"
    }
   ],
   "source": [
    "len(label)"
   ]
  },
  {
   "cell_type": "code",
   "execution_count": 112,
   "metadata": {},
   "outputs": [
    {
     "data": {
      "text/html": [
       "<div>\n",
       "<style scoped>\n",
       "    .dataframe tbody tr th:only-of-type {\n",
       "        vertical-align: middle;\n",
       "    }\n",
       "\n",
       "    .dataframe tbody tr th {\n",
       "        vertical-align: top;\n",
       "    }\n",
       "\n",
       "    .dataframe thead th {\n",
       "        text-align: right;\n",
       "    }\n",
       "</style>\n",
       "<table border=\"1\" class=\"dataframe\">\n",
       "  <thead>\n",
       "    <tr style=\"text-align: right;\">\n",
       "      <th></th>\n",
       "      <th>Station ID</th>\n",
       "      <th>Year</th>\n",
       "      <th>Month</th>\n",
       "      <th>Day of Month</th>\n",
       "      <th>Day</th>\n",
       "      <th>Weekday</th>\n",
       "      <th>Season</th>\n",
       "      <th>Holiday</th>\n",
       "      <th>Daily Weather</th>\n",
       "      <th>Daily Weather (Past)</th>\n",
       "      <th>Humidity</th>\n",
       "      <th>Humidity (Past)</th>\n",
       "      <th>Windspeed</th>\n",
       "      <th>Windspeed (Past)</th>\n",
       "      <th>Apparent Temperature (Avg)</th>\n",
       "      <th>Apparent Temperature (Avg) (Past)</th>\n",
       "      <th>Rented Bikes</th>\n",
       "      <th>Rented Bikes (Future)</th>\n",
       "    </tr>\n",
       "  </thead>\n",
       "  <tbody>\n",
       "    <tr>\n",
       "      <th>0</th>\n",
       "      <td>835</td>\n",
       "      <td>2018</td>\n",
       "      <td>10</td>\n",
       "      <td>4</td>\n",
       "      <td>277</td>\n",
       "      <td>4</td>\n",
       "      <td>Autumn</td>\n",
       "      <td>0</td>\n",
       "      <td>fog</td>\n",
       "      <td>partly-cloudy-day</td>\n",
       "      <td>0.88</td>\n",
       "      <td>0.76</td>\n",
       "      <td>6.55</td>\n",
       "      <td>6.33</td>\n",
       "      <td>57.905</td>\n",
       "      <td>57.42</td>\n",
       "      <td>1</td>\n",
       "      <td>19</td>\n",
       "    </tr>\n",
       "    <tr>\n",
       "      <th>1</th>\n",
       "      <td>835</td>\n",
       "      <td>2018</td>\n",
       "      <td>10</td>\n",
       "      <td>18</td>\n",
       "      <td>291</td>\n",
       "      <td>4</td>\n",
       "      <td>Autumn</td>\n",
       "      <td>0</td>\n",
       "      <td>partly-cloudy-day</td>\n",
       "      <td>partly-cloudy-day</td>\n",
       "      <td>0.8</td>\n",
       "      <td>0.9</td>\n",
       "      <td>6.87</td>\n",
       "      <td>2.22</td>\n",
       "      <td>50.035</td>\n",
       "      <td>53.7</td>\n",
       "      <td>19</td>\n",
       "      <td>24</td>\n",
       "    </tr>\n",
       "    <tr>\n",
       "      <th>2</th>\n",
       "      <td>835</td>\n",
       "      <td>2018</td>\n",
       "      <td>10</td>\n",
       "      <td>19</td>\n",
       "      <td>292</td>\n",
       "      <td>5</td>\n",
       "      <td>Autumn</td>\n",
       "      <td>0</td>\n",
       "      <td>partly-cloudy-night</td>\n",
       "      <td>partly-cloudy-day</td>\n",
       "      <td>0.8</td>\n",
       "      <td>0.8</td>\n",
       "      <td>3.14</td>\n",
       "      <td>6.87</td>\n",
       "      <td>51.435</td>\n",
       "      <td>50.035</td>\n",
       "      <td>24</td>\n",
       "      <td>5</td>\n",
       "    </tr>\n",
       "    <tr>\n",
       "      <th>3</th>\n",
       "      <td>835</td>\n",
       "      <td>2018</td>\n",
       "      <td>10</td>\n",
       "      <td>20</td>\n",
       "      <td>293</td>\n",
       "      <td>6</td>\n",
       "      <td>Autumn</td>\n",
       "      <td>0</td>\n",
       "      <td>partly-cloudy-night</td>\n",
       "      <td>partly-cloudy-night</td>\n",
       "      <td>0.8</td>\n",
       "      <td>0.8</td>\n",
       "      <td>3.64</td>\n",
       "      <td>3.14</td>\n",
       "      <td>55.035</td>\n",
       "      <td>51.435</td>\n",
       "      <td>5</td>\n",
       "      <td>12</td>\n",
       "    </tr>\n",
       "    <tr>\n",
       "      <th>4</th>\n",
       "      <td>835</td>\n",
       "      <td>2018</td>\n",
       "      <td>10</td>\n",
       "      <td>21</td>\n",
       "      <td>294</td>\n",
       "      <td>7</td>\n",
       "      <td>Autumn</td>\n",
       "      <td>0</td>\n",
       "      <td>partly-cloudy-night</td>\n",
       "      <td>partly-cloudy-night</td>\n",
       "      <td>0.8</td>\n",
       "      <td>0.8</td>\n",
       "      <td>4.17</td>\n",
       "      <td>3.64</td>\n",
       "      <td>53.105</td>\n",
       "      <td>55.035</td>\n",
       "      <td>12</td>\n",
       "      <td>22</td>\n",
       "    </tr>\n",
       "  </tbody>\n",
       "</table>\n",
       "</div>"
      ],
      "text/plain": [
       "  Station ID  Year Month Day of Month  Day Weekday  Season  Holiday  \\\n",
       "0        835  2018    10            4  277       4  Autumn        0   \n",
       "1        835  2018    10           18  291       4  Autumn        0   \n",
       "2        835  2018    10           19  292       5  Autumn        0   \n",
       "3        835  2018    10           20  293       6  Autumn        0   \n",
       "4        835  2018    10           21  294       7  Autumn        0   \n",
       "\n",
       "         Daily Weather Daily Weather (Past) Humidity Humidity (Past)  \\\n",
       "0                  fog    partly-cloudy-day     0.88            0.76   \n",
       "1    partly-cloudy-day    partly-cloudy-day      0.8             0.9   \n",
       "2  partly-cloudy-night    partly-cloudy-day      0.8             0.8   \n",
       "3  partly-cloudy-night  partly-cloudy-night      0.8             0.8   \n",
       "4  partly-cloudy-night  partly-cloudy-night      0.8             0.8   \n",
       "\n",
       "  Windspeed Windspeed (Past) Apparent Temperature (Avg)  \\\n",
       "0      6.55             6.33                     57.905   \n",
       "1      6.87             2.22                     50.035   \n",
       "2      3.14             6.87                     51.435   \n",
       "3      3.64             3.14                     55.035   \n",
       "4      4.17             3.64                     53.105   \n",
       "\n",
       "  Apparent Temperature (Avg) (Past) Rented Bikes Rented Bikes (Future)  \n",
       "0                             57.42            1                    19  \n",
       "1                              53.7           19                    24  \n",
       "2                            50.035           24                     5  \n",
       "3                            51.435            5                    12  \n",
       "4                            55.035           12                    22  "
      ]
     },
     "execution_count": 112,
     "metadata": {},
     "output_type": "execute_result"
    }
   ],
   "source": [
    "#transorm non-numerical labels to numerical labels\n",
    "le = LabelEncoder()\n",
    "features.loc[:,'Holiday'] = le.fit_transform(features['Holiday'])\n",
    "features.head()"
   ]
  },
  {
   "cell_type": "code",
   "execution_count": 113,
   "metadata": {},
   "outputs": [
    {
     "name": "stdout",
     "output_type": "stream",
     "text": [
      "<class 'pandas.core.frame.DataFrame'>\n",
      "Index: 145 entries, 0 to 144\n",
      "Data columns (total 18 columns):\n",
      "Station ID                           145 non-null object\n",
      "Year                                 145 non-null object\n",
      "Month                                145 non-null object\n",
      "Day of Month                         145 non-null object\n",
      "Day                                  145 non-null object\n",
      "Weekday                              145 non-null object\n",
      "Season                               145 non-null object\n",
      "Holiday                              145 non-null int64\n",
      "Daily Weather                        145 non-null object\n",
      "Daily Weather (Past)                 145 non-null object\n",
      "Humidity                             145 non-null object\n",
      "Humidity (Past)                      145 non-null object\n",
      "Windspeed                            145 non-null object\n",
      "Windspeed (Past)                     145 non-null object\n",
      "Apparent Temperature (Avg)           145 non-null object\n",
      "Apparent Temperature (Avg) (Past)    145 non-null object\n",
      "Rented Bikes                         145 non-null object\n",
      "Rented Bikes (Future)                145 non-null object\n",
      "dtypes: int64(1), object(17)\n",
      "memory usage: 21.5+ KB\n"
     ]
    }
   ],
   "source": [
    "\n",
    "features.info()"
   ]
  },
  {
   "cell_type": "code",
   "execution_count": 77,
   "metadata": {},
   "outputs": [],
   "source": [
    "#s= features[['Month','Rented Bikes','Rented Bikes (Future)','Year','Holiday','Weekday']]\n"
   ]
  },
  {
   "cell_type": "code",
   "execution_count": 96,
   "metadata": {
    "scrolled": true
   },
   "outputs": [],
   "source": [
    "#transorm non-numerical labels to numerical labels\n",
    "cleanup_nums = {\"Month\":   {\"January\": 1, \"February\": 2, \"March\": 3, \"April\": 4, \"May\": 5, \"June\": 6, \"July\": 7, \"August\": 8, \"September\": 9, \"October\": 10, \"November\": 11, \"December\": 12},\n",
    "               \"Season\": {\"Spring\": 1, \"Summer\": 2, \"Autumn\": 3, \"Winter\": 4},\n",
    "               \"Weekday\": {\"Monday\": 1, \"Tuesday\": 2, \"Wednesday\": 3, \"Thursday\": 4,\n",
    "                                  \"Friday\": 5, \"Saturday\": 6, \"Sunday\":7 },\n",
    "               \"Daily Weather\": {\"clear-day\": 1, \"partly-cloudy-day\": 2,\"cloudy\":3,\"wind\":4, \"rain\": 5, \"fog\": 6, \"snow\": 7 ,  \"partly-cloudy-night\":8 },\n",
    "               \"Daily Weather (Past)\": {\"clear-day\": 1, \"partly-cloudy-day\": 2,\"cloudy\":3,\"wind\":4, \"rain\": 5,\"fog\": 6, \"snow\": 7,  \"partly-cloudy-night\":8 } }"
   ]
  },
  {
   "cell_type": "code",
   "execution_count": 114,
   "metadata": {},
   "outputs": [],
   "source": [
    "features.replace(cleanup_nums, inplace=True)"
   ]
  },
  {
   "cell_type": "code",
   "execution_count": 115,
   "metadata": {},
   "outputs": [
    {
     "data": {
      "text/html": [
       "<div>\n",
       "<style scoped>\n",
       "    .dataframe tbody tr th:only-of-type {\n",
       "        vertical-align: middle;\n",
       "    }\n",
       "\n",
       "    .dataframe tbody tr th {\n",
       "        vertical-align: top;\n",
       "    }\n",
       "\n",
       "    .dataframe thead th {\n",
       "        text-align: right;\n",
       "    }\n",
       "</style>\n",
       "<table border=\"1\" class=\"dataframe\">\n",
       "  <thead>\n",
       "    <tr style=\"text-align: right;\">\n",
       "      <th></th>\n",
       "      <th>Station ID</th>\n",
       "      <th>Year</th>\n",
       "      <th>Month</th>\n",
       "      <th>Day of Month</th>\n",
       "      <th>Day</th>\n",
       "      <th>Weekday</th>\n",
       "      <th>Season</th>\n",
       "      <th>Holiday</th>\n",
       "      <th>Daily Weather</th>\n",
       "      <th>Daily Weather (Past)</th>\n",
       "      <th>Humidity</th>\n",
       "      <th>Humidity (Past)</th>\n",
       "      <th>Windspeed</th>\n",
       "      <th>Windspeed (Past)</th>\n",
       "      <th>Apparent Temperature (Avg)</th>\n",
       "      <th>Apparent Temperature (Avg) (Past)</th>\n",
       "      <th>Rented Bikes</th>\n",
       "      <th>Rented Bikes (Future)</th>\n",
       "    </tr>\n",
       "  </thead>\n",
       "  <tbody>\n",
       "    <tr>\n",
       "      <th>0</th>\n",
       "      <td>835</td>\n",
       "      <td>2018</td>\n",
       "      <td>10</td>\n",
       "      <td>4</td>\n",
       "      <td>277</td>\n",
       "      <td>4</td>\n",
       "      <td>3</td>\n",
       "      <td>0</td>\n",
       "      <td>6</td>\n",
       "      <td>2</td>\n",
       "      <td>0.88</td>\n",
       "      <td>0.76</td>\n",
       "      <td>6.55</td>\n",
       "      <td>6.33</td>\n",
       "      <td>57.905</td>\n",
       "      <td>57.42</td>\n",
       "      <td>1</td>\n",
       "      <td>19</td>\n",
       "    </tr>\n",
       "    <tr>\n",
       "      <th>1</th>\n",
       "      <td>835</td>\n",
       "      <td>2018</td>\n",
       "      <td>10</td>\n",
       "      <td>18</td>\n",
       "      <td>291</td>\n",
       "      <td>4</td>\n",
       "      <td>3</td>\n",
       "      <td>0</td>\n",
       "      <td>2</td>\n",
       "      <td>2</td>\n",
       "      <td>0.8</td>\n",
       "      <td>0.9</td>\n",
       "      <td>6.87</td>\n",
       "      <td>2.22</td>\n",
       "      <td>50.035</td>\n",
       "      <td>53.7</td>\n",
       "      <td>19</td>\n",
       "      <td>24</td>\n",
       "    </tr>\n",
       "    <tr>\n",
       "      <th>2</th>\n",
       "      <td>835</td>\n",
       "      <td>2018</td>\n",
       "      <td>10</td>\n",
       "      <td>19</td>\n",
       "      <td>292</td>\n",
       "      <td>5</td>\n",
       "      <td>3</td>\n",
       "      <td>0</td>\n",
       "      <td>8</td>\n",
       "      <td>2</td>\n",
       "      <td>0.8</td>\n",
       "      <td>0.8</td>\n",
       "      <td>3.14</td>\n",
       "      <td>6.87</td>\n",
       "      <td>51.435</td>\n",
       "      <td>50.035</td>\n",
       "      <td>24</td>\n",
       "      <td>5</td>\n",
       "    </tr>\n",
       "    <tr>\n",
       "      <th>3</th>\n",
       "      <td>835</td>\n",
       "      <td>2018</td>\n",
       "      <td>10</td>\n",
       "      <td>20</td>\n",
       "      <td>293</td>\n",
       "      <td>6</td>\n",
       "      <td>3</td>\n",
       "      <td>0</td>\n",
       "      <td>8</td>\n",
       "      <td>8</td>\n",
       "      <td>0.8</td>\n",
       "      <td>0.8</td>\n",
       "      <td>3.64</td>\n",
       "      <td>3.14</td>\n",
       "      <td>55.035</td>\n",
       "      <td>51.435</td>\n",
       "      <td>5</td>\n",
       "      <td>12</td>\n",
       "    </tr>\n",
       "    <tr>\n",
       "      <th>4</th>\n",
       "      <td>835</td>\n",
       "      <td>2018</td>\n",
       "      <td>10</td>\n",
       "      <td>21</td>\n",
       "      <td>294</td>\n",
       "      <td>7</td>\n",
       "      <td>3</td>\n",
       "      <td>0</td>\n",
       "      <td>8</td>\n",
       "      <td>8</td>\n",
       "      <td>0.8</td>\n",
       "      <td>0.8</td>\n",
       "      <td>4.17</td>\n",
       "      <td>3.64</td>\n",
       "      <td>53.105</td>\n",
       "      <td>55.035</td>\n",
       "      <td>12</td>\n",
       "      <td>22</td>\n",
       "    </tr>\n",
       "  </tbody>\n",
       "</table>\n",
       "</div>"
      ],
      "text/plain": [
       "  Station ID  Year  Month Day of Month  Day  Weekday  Season  Holiday  \\\n",
       "0        835  2018     10            4  277        4       3        0   \n",
       "1        835  2018     10           18  291        4       3        0   \n",
       "2        835  2018     10           19  292        5       3        0   \n",
       "3        835  2018     10           20  293        6       3        0   \n",
       "4        835  2018     10           21  294        7       3        0   \n",
       "\n",
       "   Daily Weather  Daily Weather (Past) Humidity Humidity (Past) Windspeed  \\\n",
       "0              6                     2     0.88            0.76      6.55   \n",
       "1              2                     2      0.8             0.9      6.87   \n",
       "2              8                     2      0.8             0.8      3.14   \n",
       "3              8                     8      0.8             0.8      3.64   \n",
       "4              8                     8      0.8             0.8      4.17   \n",
       "\n",
       "  Windspeed (Past) Apparent Temperature (Avg)  \\\n",
       "0             6.33                     57.905   \n",
       "1             2.22                     50.035   \n",
       "2             6.87                     51.435   \n",
       "3             3.14                     55.035   \n",
       "4             3.64                     53.105   \n",
       "\n",
       "  Apparent Temperature (Avg) (Past) Rented Bikes Rented Bikes (Future)  \n",
       "0                             57.42            1                    19  \n",
       "1                              53.7           19                    24  \n",
       "2                            50.035           24                     5  \n",
       "3                            51.435            5                    12  \n",
       "4                            55.035           12                    22  "
      ]
     },
     "execution_count": 115,
     "metadata": {},
     "output_type": "execute_result"
    }
   ],
   "source": [
    "features.head()"
   ]
  },
  {
   "cell_type": "code",
   "execution_count": 116,
   "metadata": {},
   "outputs": [
    {
     "data": {
      "text/plain": [
       "(145, 18)"
      ]
     },
     "execution_count": 116,
     "metadata": {},
     "output_type": "execute_result"
    }
   ],
   "source": [
    "features.shape"
   ]
  },
  {
   "cell_type": "code",
   "execution_count": 117,
   "metadata": {},
   "outputs": [
    {
     "data": {
      "text/html": [
       "<div>\n",
       "<style scoped>\n",
       "    .dataframe tbody tr th:only-of-type {\n",
       "        vertical-align: middle;\n",
       "    }\n",
       "\n",
       "    .dataframe tbody tr th {\n",
       "        vertical-align: top;\n",
       "    }\n",
       "\n",
       "    .dataframe thead th {\n",
       "        text-align: right;\n",
       "    }\n",
       "</style>\n",
       "<table border=\"1\" class=\"dataframe\">\n",
       "  <thead>\n",
       "    <tr style=\"text-align: right;\">\n",
       "      <th></th>\n",
       "      <th>Day</th>\n",
       "      <th>Month</th>\n",
       "      <th>Season</th>\n",
       "      <th>Weekday</th>\n",
       "      <th>Daily Weather</th>\n",
       "      <th>Daily Weather (Past)</th>\n",
       "      <th>Humidity</th>\n",
       "      <th>Humidity (Past)</th>\n",
       "      <th>Windspeed</th>\n",
       "      <th>Windspeed (Past)</th>\n",
       "      <th>Apparent Temperature (Avg)</th>\n",
       "      <th>Apparent Temperature (Avg) (Past)</th>\n",
       "      <th>Rented Bikes</th>\n",
       "      <th>Rented Bikes (Future)</th>\n",
       "    </tr>\n",
       "  </thead>\n",
       "  <tbody>\n",
       "    <tr>\n",
       "      <th>0</th>\n",
       "      <td>277</td>\n",
       "      <td>10</td>\n",
       "      <td>3</td>\n",
       "      <td>4</td>\n",
       "      <td>6</td>\n",
       "      <td>2</td>\n",
       "      <td>0.88</td>\n",
       "      <td>0.76</td>\n",
       "      <td>6.55</td>\n",
       "      <td>6.33</td>\n",
       "      <td>57.905</td>\n",
       "      <td>57.42</td>\n",
       "      <td>1</td>\n",
       "      <td>19</td>\n",
       "    </tr>\n",
       "    <tr>\n",
       "      <th>1</th>\n",
       "      <td>291</td>\n",
       "      <td>10</td>\n",
       "      <td>3</td>\n",
       "      <td>4</td>\n",
       "      <td>2</td>\n",
       "      <td>2</td>\n",
       "      <td>0.8</td>\n",
       "      <td>0.9</td>\n",
       "      <td>6.87</td>\n",
       "      <td>2.22</td>\n",
       "      <td>50.035</td>\n",
       "      <td>53.7</td>\n",
       "      <td>19</td>\n",
       "      <td>24</td>\n",
       "    </tr>\n",
       "    <tr>\n",
       "      <th>2</th>\n",
       "      <td>292</td>\n",
       "      <td>10</td>\n",
       "      <td>3</td>\n",
       "      <td>5</td>\n",
       "      <td>8</td>\n",
       "      <td>2</td>\n",
       "      <td>0.8</td>\n",
       "      <td>0.8</td>\n",
       "      <td>3.14</td>\n",
       "      <td>6.87</td>\n",
       "      <td>51.435</td>\n",
       "      <td>50.035</td>\n",
       "      <td>24</td>\n",
       "      <td>5</td>\n",
       "    </tr>\n",
       "    <tr>\n",
       "      <th>3</th>\n",
       "      <td>293</td>\n",
       "      <td>10</td>\n",
       "      <td>3</td>\n",
       "      <td>6</td>\n",
       "      <td>8</td>\n",
       "      <td>8</td>\n",
       "      <td>0.8</td>\n",
       "      <td>0.8</td>\n",
       "      <td>3.64</td>\n",
       "      <td>3.14</td>\n",
       "      <td>55.035</td>\n",
       "      <td>51.435</td>\n",
       "      <td>5</td>\n",
       "      <td>12</td>\n",
       "    </tr>\n",
       "    <tr>\n",
       "      <th>4</th>\n",
       "      <td>294</td>\n",
       "      <td>10</td>\n",
       "      <td>3</td>\n",
       "      <td>7</td>\n",
       "      <td>8</td>\n",
       "      <td>8</td>\n",
       "      <td>0.8</td>\n",
       "      <td>0.8</td>\n",
       "      <td>4.17</td>\n",
       "      <td>3.64</td>\n",
       "      <td>53.105</td>\n",
       "      <td>55.035</td>\n",
       "      <td>12</td>\n",
       "      <td>22</td>\n",
       "    </tr>\n",
       "  </tbody>\n",
       "</table>\n",
       "</div>"
      ],
      "text/plain": [
       "   Day  Month  Season  Weekday  Daily Weather  Daily Weather (Past) Humidity  \\\n",
       "0  277     10       3        4              6                     2     0.88   \n",
       "1  291     10       3        4              2                     2      0.8   \n",
       "2  292     10       3        5              8                     2      0.8   \n",
       "3  293     10       3        6              8                     8      0.8   \n",
       "4  294     10       3        7              8                     8      0.8   \n",
       "\n",
       "  Humidity (Past) Windspeed Windspeed (Past) Apparent Temperature (Avg)  \\\n",
       "0            0.76      6.55             6.33                     57.905   \n",
       "1             0.9      6.87             2.22                     50.035   \n",
       "2             0.8      3.14             6.87                     51.435   \n",
       "3             0.8      3.64             3.14                     55.035   \n",
       "4             0.8      4.17             3.64                     53.105   \n",
       "\n",
       "  Apparent Temperature (Avg) (Past) Rented Bikes Rented Bikes (Future)  \n",
       "0                             57.42            1                    19  \n",
       "1                              53.7           19                    24  \n",
       "2                            50.035           24                     5  \n",
       "3                            51.435            5                    12  \n",
       "4                            55.035           12                    22  "
      ]
     },
     "execution_count": 117,
     "metadata": {},
     "output_type": "execute_result"
    }
   ],
   "source": [
    "#Feature Matrix with past and today data\n",
    "#X=features.loc[:,['Day','Month','Season','Daily Weather','Daily Weather (Past)','Humidity','Humidity (Past)','Windspeed', 'Windspeed (Past)', 'Apparent Temperature (Avg)','Apparent Temperature (Avg) (Past)','Rented Bikes (Future)']]\n",
    "X=features.loc[:,['Day','Month','Season','Weekday', 'Daily Weather','Daily Weather (Past)','Humidity','Humidity (Past)', 'Windspeed', 'Windspeed (Past)', 'Apparent Temperature (Avg)','Apparent Temperature (Avg) (Past)','Rented Bikes','Rented Bikes (Future)']]\n",
    "X.head()"
   ]
  },
  {
   "cell_type": "code",
   "execution_count": 118,
   "metadata": {},
   "outputs": [],
   "source": [
    "X['label'] = label"
   ]
  },
  {
   "cell_type": "code",
   "execution_count": 119,
   "metadata": {},
   "outputs": [],
   "source": [
    "#_4 test1\n",
    "#X.to_csv('raw_files/encoded_last_least_2.csv')\n"
   ]
  },
  {
   "cell_type": "code",
   "execution_count": 158,
   "metadata": {},
   "outputs": [],
   "source": [
    "\n",
    "\n",
    "# Below code is Spark 2+\n",
    "spark = pyspark.sql.SparkSession.builder.appName('test').getOrCreate()\n",
    "df = spark.read.csv('raw_files/encoded_last_least_2.csv', header = True, inferSchema = True)\n",
    "df_bis=df.toPandas()"
   ]
  },
  {
   "cell_type": "code",
   "execution_count": 159,
   "metadata": {},
   "outputs": [
    {
     "name": "stdout",
     "output_type": "stream",
     "text": [
      "+---+---+-----+------+-------+-------------+--------------------+--------+---------------+---------+----------------+--------------------------+---------------------------------+------------+---------------------+-----+\n",
      "|_c0|Day|Month|Season|Weekday|Daily Weather|Daily Weather (Past)|Humidity|Humidity (Past)|Windspeed|Windspeed (Past)|Apparent Temperature (Avg)|Apparent Temperature (Avg) (Past)|Rented Bikes|Rented Bikes (Future)|label|\n",
      "+---+---+-----+------+-------+-------------+--------------------+--------+---------------+---------+----------------+--------------------------+---------------------------------+------------+---------------------+-----+\n",
      "|  0|277|   10|     3|      4|            6|                   2|    0.88|           0.76|     6.55|            6.33|                    57.905|                            57.42|           1|                   19|   19|\n",
      "|  1|291|   10|     3|      4|            2|                   2|     0.8|            0.9|     6.87|            2.22|                    50.035|                             53.7|          19|                   24|   24|\n",
      "|  2|292|   10|     3|      5|            8|                   2|     0.8|            0.8|     3.14|            6.87|                    51.435|                           50.035|          24|                    5|    5|\n",
      "|  3|293|   10|     3|      6|            8|                   8|     0.8|            0.8|     3.64|            3.14|                    55.035|                           51.435|           5|                   12|   12|\n",
      "|  4|294|   10|     3|      7|            8|                   8|     0.8|            0.8|     4.17|            3.64|                    53.105|                           55.035|          12|                   22|   22|\n",
      "+---+---+-----+------+-------+-------------+--------------------+--------+---------------+---------+----------------+--------------------------+---------------------------------+------------+---------------------+-----+\n",
      "only showing top 5 rows\n",
      "\n"
     ]
    }
   ],
   "source": [
    "df.show(5)"
   ]
  },
  {
   "cell_type": "code",
   "execution_count": 160,
   "metadata": {},
   "outputs": [
    {
     "data": {
      "text/plain": [
       "['_c0',\n",
       " 'Day',\n",
       " 'Month',\n",
       " 'Season',\n",
       " 'Weekday',\n",
       " 'Daily Weather',\n",
       " 'Daily Weather (Past)',\n",
       " 'Humidity',\n",
       " 'Humidity (Past)',\n",
       " 'Windspeed',\n",
       " 'Windspeed (Past)',\n",
       " 'Apparent Temperature (Avg)',\n",
       " 'Apparent Temperature (Avg) (Past)',\n",
       " 'Rented Bikes',\n",
       " 'Rented Bikes (Future)',\n",
       " 'label']"
      ]
     },
     "execution_count": 160,
     "metadata": {},
     "output_type": "execute_result"
    }
   ],
   "source": [
    "df.columns"
   ]
  },
  {
   "cell_type": "code",
   "execution_count": 161,
   "metadata": {},
   "outputs": [],
   "source": [
    "#cols = df.columns\n",
    "#categoricalColumns = [, \"Daily Weather (Past)\"]\n",
    "\n",
    "#cols = ['Day','Month','Season','Weekday', 'Daily Weather','Daily Weather (Past)','Humidity','Humidity (Past)', 'Windspeed', 'Windspeed (Past)', 'Apparent Temperature (Avg)','Apparent Temperature (Avg) (Past)','Rented Bikes']\n",
    "\n",
    "\n",
    "\n",
    "\n",
    "#(best RMSE for decision tree) \n",
    "#cols = [ \"Humidity\", \"Weekday\",\"Month\", \"Apparent Temperature (Avg)\", \"Rented Bikes\"]\n",
    "\n",
    "#(best RMSE for random forest) \n",
    "#cols = ['Day','Month','Season','Weekday', 'Daily Weather','Daily Weather (Past)','Humidity','Humidity (Past)', 'Windspeed', 'Windspeed (Past)', 'Apparent Temperature (Avg)','Apparent Temperature (Avg) (Past)','Rented Bikes']\n",
    "\n",
    "#(best RMSE for Gradient boost) \n",
    "cols = ['Humidity (Past)','Weekday','Rented Bikes']\n",
    "\n",
    "stages = [] # stages in our Pipeline\n",
    "\n",
    "\n",
    "assembler = VectorAssembler(inputCols= cols , outputCol=\"features\").setHandleInvalid(\"skip\")\n",
    "\n",
    "preppedDataDF = assembler.transform(df)\n",
    "\n",
    "#scaler = StandardScaler(inputCol=\"features\"  , outputCol=\"scaledFeatures\",\n",
    "                        #withStd=True, withMean=False)\n",
    "\n",
    "# Compute summary statistics by fitting the StandardScaler\n",
    "#scalerModel = scaler.fit(preppedDataDF)\n",
    "# Normalize each feature to have unit standard deviation.\n",
    "#preppedDataDF = scalerModel.transform(preppedDataDF)"
   ]
  },
  {
   "cell_type": "code",
   "execution_count": 162,
   "metadata": {},
   "outputs": [
    {
     "name": "stdout",
     "output_type": "stream",
     "text": [
      "+---+---+-----+------+-------+-------------+--------------------+--------+---------------+---------+----------------+--------------------------+---------------------------------+------------+---------------------+-----+--------------+\n",
      "|_c0|Day|Month|Season|Weekday|Daily Weather|Daily Weather (Past)|Humidity|Humidity (Past)|Windspeed|Windspeed (Past)|Apparent Temperature (Avg)|Apparent Temperature (Avg) (Past)|Rented Bikes|Rented Bikes (Future)|label|      features|\n",
      "+---+---+-----+------+-------+-------------+--------------------+--------+---------------+---------+----------------+--------------------------+---------------------------------+------------+---------------------+-----+--------------+\n",
      "|  0|277|   10|     3|      4|            6|                   2|    0.88|           0.76|     6.55|            6.33|                    57.905|                            57.42|           1|                   19|   19|[0.76,4.0,1.0]|\n",
      "|  1|291|   10|     3|      4|            2|                   2|     0.8|            0.9|     6.87|            2.22|                    50.035|                             53.7|          19|                   24|   24|[0.9,4.0,19.0]|\n",
      "|  2|292|   10|     3|      5|            8|                   2|     0.8|            0.8|     3.14|            6.87|                    51.435|                           50.035|          24|                    5|    5|[0.8,5.0,24.0]|\n",
      "|  3|293|   10|     3|      6|            8|                   8|     0.8|            0.8|     3.64|            3.14|                    55.035|                           51.435|           5|                   12|   12| [0.8,6.0,5.0]|\n",
      "|  4|294|   10|     3|      7|            8|                   8|     0.8|            0.8|     4.17|            3.64|                    53.105|                           55.035|          12|                   22|   22|[0.8,7.0,12.0]|\n",
      "+---+---+-----+------+-------+-------------+--------------------+--------+---------------+---------+----------------+--------------------------+---------------------------------+------------+---------------------+-----+--------------+\n",
      "only showing top 5 rows\n",
      "\n"
     ]
    }
   ],
   "source": [
    "preppedDataDF.show(5)"
   ]
  },
  {
   "cell_type": "code",
   "execution_count": 163,
   "metadata": {},
   "outputs": [
    {
     "name": "stdout",
     "output_type": "stream",
     "text": [
      "root\n",
      " |-- _c0: integer (nullable = true)\n",
      " |-- Day: integer (nullable = true)\n",
      " |-- Month: integer (nullable = true)\n",
      " |-- Season: integer (nullable = true)\n",
      " |-- Weekday: integer (nullable = true)\n",
      " |-- Daily Weather: integer (nullable = true)\n",
      " |-- Daily Weather (Past): integer (nullable = true)\n",
      " |-- Humidity: double (nullable = true)\n",
      " |-- Humidity (Past): double (nullable = true)\n",
      " |-- Windspeed: double (nullable = true)\n",
      " |-- Windspeed (Past): double (nullable = true)\n",
      " |-- Apparent Temperature (Avg): double (nullable = true)\n",
      " |-- Apparent Temperature (Avg) (Past): double (nullable = true)\n",
      " |-- Rented Bikes: integer (nullable = true)\n",
      " |-- Rented Bikes (Future): integer (nullable = true)\n",
      " |-- label: integer (nullable = true)\n",
      " |-- features: vector (nullable = true)\n",
      "\n"
     ]
    }
   ],
   "source": [
    "preppedDataDF.printSchema()"
   ]
  },
  {
   "cell_type": "code",
   "execution_count": 164,
   "metadata": {},
   "outputs": [
    {
     "data": {
      "text/plain": [
       "DataFrame[features: vector, label: int, Day: int]"
      ]
     },
     "metadata": {},
     "output_type": "display_data"
    }
   ],
   "source": [
    "# Keep relevant columns\n",
    "selectedcols = [\"features\", \"label\",\"Day\"]\n",
    "dataset = preppedDataDF.select(selectedcols)\n",
    "display(dataset)\n",
    "\n"
   ]
  },
  {
   "cell_type": "code",
   "execution_count": null,
   "metadata": {},
   "outputs": [],
   "source": []
  },
  {
   "cell_type": "code",
   "execution_count": 1256,
   "metadata": {},
   "outputs": [],
   "source": [
    "from pyspark.mllib.util import MLUtils\n",
    "from pyspark.ml.feature import StandardScaler\n",
    "### Randomly split data into training and test sets. set seed for reproducibility\n",
    "#(trainingData, testData) = dataset.randomSplit([0.7, 0.3], seed=100)\n",
    "#print(trainingData.count())\n",
    "#print(testData.count())"
   ]
  },
  {
   "cell_type": "code",
   "execution_count": 165,
   "metadata": {},
   "outputs": [
    {
     "name": "stdout",
     "output_type": "stream",
     "text": [
      "100\n",
      "45\n"
     ]
    }
   ],
   "source": [
    "# create a dummy df with 500 rows and 2 columns\n",
    "N = dataset.count()\n",
    "\n",
    "\n",
    "# sort ascending and take first 100 rows for df1\n",
    "trainingData= dataset.sort('Day').limit(100)\n",
    "\n",
    "# sort descending and take 45 rows for df2\n",
    "testData = dataset.sort('Day', ascending=False).limit(45)\n",
    "\n",
    "print(trainingData.count())\n",
    "print(testData.count())"
   ]
  },
  {
   "cell_type": "code",
   "execution_count": 166,
   "metadata": {
    "scrolled": true
   },
   "outputs": [
    {
     "name": "stdout",
     "output_type": "stream",
     "text": [
      "+---------------+-----+---+\n",
      "|       features|label|Day|\n",
      "+---------------+-----+---+\n",
      "|  [0.8,2.0,2.0]|   24|  1|\n",
      "|[0.77,3.0,24.0]|   25|  2|\n",
      "|[0.74,4.0,25.0]|   22|  3|\n",
      "|[0.71,5.0,22.0]|    4|  4|\n",
      "| [0.75,6.0,4.0]|    4|  5|\n",
      "+---------------+-----+---+\n",
      "only showing top 5 rows\n",
      "\n"
     ]
    }
   ],
   "source": [
    "trainingData.show(5)"
   ]
  },
  {
   "cell_type": "code",
   "execution_count": null,
   "metadata": {},
   "outputs": [],
   "source": []
  },
  {
   "cell_type": "markdown",
   "metadata": {},
   "source": [
    "  #  Generaliszed linear regression\n",
    "  \n",
    "  Contrasted with linear regression where the output is assumed to follow a Gaussian distribution, generalized linear models (GLMs) are specifications of linear models where the response variable Yi follows some distribution from the exponential family of distributions. \n",
    "  \n",
    "  Spark currently only supports up to 4096 features through its GeneralizedLinearRegression interface"
   ]
  },
  {
   "cell_type": "code",
   "execution_count": null,
   "metadata": {},
   "outputs": [],
   "source": [
    "from pyspark.ml.regression import GeneralizedLinearRegression\n",
    "\n",
    "glr = GeneralizedLinearRegression(family=\"Poisson\", link=\"identity\", maxIter=10, regParam=0.3)\n",
    "#\"Gamma\"--> RMSE =100.975\n",
    "#\"Poisson\"--> RMSE =98.315\n",
    "\n",
    "\n",
    "# Fit the model\n",
    "model = glr.fit(dataset)\n",
    "\n",
    "# Print the coefficients and intercept for generalized linear regression model\n",
    "print(\"Coefficients: \" + str(model.coefficients))\n",
    "print(\"Intercept: \" + str(model.intercept))\n",
    "\n",
    "# Summarize the model over the training set and print out some metrics\n",
    "summary = model.summary\n",
    "print(\"Coefficient Standard Errors: \" + str(summary.coefficientStandardErrors))\n",
    "print(\"T Values: \" + str(summary.tValues))\n",
    "print(\"P Values: \" + str(summary.pValues))\n",
    "print(\"Dispersion: \" + str(summary.dispersion))\n",
    "print(\"Null Deviance: \" + str(summary.nullDeviance))\n",
    "print(\"Residual Degree Of Freedom Null: \" + str(summary.residualDegreeOfFreedomNull))\n",
    "print(\"Deviance: \" + str(summary.deviance))\n",
    "print(\"Residual Degree Of Freedom: \" + str(summary.residualDegreeOfFreedom))\n",
    "print(\"AIC: \" + str(summary.aic))\n",
    "print(\"Deviance Residuals: \")\n",
    "summary.residuals().show()"
   ]
  },
  {
   "cell_type": "code",
   "execution_count": null,
   "metadata": {},
   "outputs": [],
   "source": [
    "predictions = model.transform(testData)\n",
    "predictions.select(\"label\",\"features\",\"prediction\").toPandas().head()\n"
   ]
  },
  {
   "cell_type": "code",
   "execution_count": null,
   "metadata": {},
   "outputs": [],
   "source": [
    "dfs_glr= predictions.toPandas()\n",
    "a=dfs_glr.loc[:,'label']\n",
    "b=dfs_glr.loc[:,'prediction']\n",
    "rmse=sqrt(mean_squared_error(a, b))  \n",
    "\"The root mean square error of the model is {0:.3f}\".format(rmse) "
   ]
  },
  {
   "cell_type": "code",
   "execution_count": null,
   "metadata": {},
   "outputs": [],
   "source": [
    "label"
   ]
  },
  {
   "cell_type": "markdown",
   "metadata": {},
   "source": [
    "# Decision tree regression"
   ]
  },
  {
   "cell_type": "code",
   "execution_count": 134,
   "metadata": {
    "scrolled": true
   },
   "outputs": [
    {
     "name": "stdout",
     "output_type": "stream",
     "text": [
      "Root Mean Squared Error (RMSE) on test data = 11.7246\n",
      "DecisionTreeRegressionModel (uid=DecisionTreeRegressor_1a4149aedf94) of depth 5 with 49 nodes\n"
     ]
    },
    {
     "data": {
      "text/html": [
       "<div>\n",
       "<style scoped>\n",
       "    .dataframe tbody tr th:only-of-type {\n",
       "        vertical-align: middle;\n",
       "    }\n",
       "\n",
       "    .dataframe tbody tr th {\n",
       "        vertical-align: top;\n",
       "    }\n",
       "\n",
       "    .dataframe thead th {\n",
       "        text-align: right;\n",
       "    }\n",
       "</style>\n",
       "<table border=\"1\" class=\"dataframe\">\n",
       "  <thead>\n",
       "    <tr style=\"text-align: right;\">\n",
       "      <th></th>\n",
       "      <th>prediction</th>\n",
       "      <th>label</th>\n",
       "      <th>Day</th>\n",
       "    </tr>\n",
       "  </thead>\n",
       "  <tbody>\n",
       "    <tr>\n",
       "      <th>0</th>\n",
       "      <td>9.0</td>\n",
       "      <td>7</td>\n",
       "      <td>320</td>\n",
       "    </tr>\n",
       "    <tr>\n",
       "      <th>1</th>\n",
       "      <td>6.0</td>\n",
       "      <td>1</td>\n",
       "      <td>321</td>\n",
       "    </tr>\n",
       "    <tr>\n",
       "      <th>2</th>\n",
       "      <td>27.6</td>\n",
       "      <td>15</td>\n",
       "      <td>322</td>\n",
       "    </tr>\n",
       "    <tr>\n",
       "      <th>3</th>\n",
       "      <td>26.5</td>\n",
       "      <td>15</td>\n",
       "      <td>323</td>\n",
       "    </tr>\n",
       "    <tr>\n",
       "      <th>4</th>\n",
       "      <td>30.2</td>\n",
       "      <td>28</td>\n",
       "      <td>324</td>\n",
       "    </tr>\n",
       "  </tbody>\n",
       "</table>\n",
       "</div>"
      ],
      "text/plain": [
       "   prediction  label  Day\n",
       "0         9.0      7  320\n",
       "1         6.0      1  321\n",
       "2        27.6     15  322\n",
       "3        26.5     15  323\n",
       "4        30.2     28  324"
      ]
     },
     "execution_count": 134,
     "metadata": {},
     "output_type": "execute_result"
    }
   ],
   "source": [
    "from pyspark.ml import Pipeline\n",
    "from pyspark.ml.regression import DecisionTreeRegressor\n",
    "from pyspark.ml.feature import VectorIndexer\n",
    "from pyspark.ml.evaluation import RegressionEvaluator\n",
    "\n",
    "\n",
    "\n",
    "# Automatically identify categorical features, and index them.\n",
    "# We specify maxCategories so features with > 4 distinct values are treated as continuous.\n",
    "featureIndexer =\\\n",
    "    VectorIndexer(inputCol=\"features\", outputCol=\"indexedFeatures\", maxCategories=4).fit(trainingData)\n",
    "\n",
    "\n",
    "# Train a DecisionTree model.\n",
    "dt = DecisionTreeRegressor(featuresCol=\"indexedFeatures\",impurity='variance')\n",
    " \n",
    "# Chain indexer and tree in a Pipeline\n",
    "pipeline = Pipeline(stages=[featureIndexer, dt])\n",
    "\n",
    "# Train model.  This also runs the indexer.\n",
    "model = pipeline.fit(trainingData)\n",
    "\n",
    "# Make predictions.\n",
    "predictions_dt_test = model.transform(testData)\n",
    "# Select example rows to display.\n",
    "pred_dt_test= predictions_dt_test.select(\"prediction\", \"label\" ,\"Day\").orderBy('Day', ascending=True).toPandas()\n",
    "\n",
    "\n",
    "# Select example rows to display.\n",
    "#predictions.select(\"prediction\", \"label\", \"features\").show(5)\n",
    "\n",
    "# Select (prediction, true label) and compute test error\n",
    "evaluator = RegressionEvaluator(\n",
    "    labelCol=\"label\", predictionCol=\"prediction\", metricName=\"rmse\")\n",
    "rmse = evaluator.evaluate(predictions_dt_test)\n",
    "print(\"Root Mean Squared Error (RMSE) on test data = %g\" % rmse)\n",
    "\n",
    "treeModel = model.stages[1]\n",
    "# summary only\n",
    "print(treeModel)\n",
    "pred_dt_test.head()"
   ]
  },
  {
   "cell_type": "code",
   "execution_count": 135,
   "metadata": {},
   "outputs": [
    {
     "data": {
      "text/plain": [
       "100"
      ]
     },
     "execution_count": 135,
     "metadata": {},
     "output_type": "execute_result"
    }
   ],
   "source": [
    "trainingData.count()"
   ]
  },
  {
   "cell_type": "code",
   "execution_count": 136,
   "metadata": {},
   "outputs": [
    {
     "name": "stdout",
     "output_type": "stream",
     "text": [
      "Root Mean Squared Error (RMSE) on training data = 2.46838\n"
     ]
    },
    {
     "data": {
      "text/html": [
       "<div>\n",
       "<style scoped>\n",
       "    .dataframe tbody tr th:only-of-type {\n",
       "        vertical-align: middle;\n",
       "    }\n",
       "\n",
       "    .dataframe tbody tr th {\n",
       "        vertical-align: top;\n",
       "    }\n",
       "\n",
       "    .dataframe thead th {\n",
       "        text-align: right;\n",
       "    }\n",
       "</style>\n",
       "<table border=\"1\" class=\"dataframe\">\n",
       "  <thead>\n",
       "    <tr style=\"text-align: right;\">\n",
       "      <th></th>\n",
       "      <th>prediction</th>\n",
       "      <th>label</th>\n",
       "      <th>Day</th>\n",
       "    </tr>\n",
       "  </thead>\n",
       "  <tbody>\n",
       "    <tr>\n",
       "      <th>0</th>\n",
       "      <td>27.285714</td>\n",
       "      <td>24</td>\n",
       "      <td>1</td>\n",
       "    </tr>\n",
       "    <tr>\n",
       "      <th>1</th>\n",
       "      <td>27.285714</td>\n",
       "      <td>25</td>\n",
       "      <td>2</td>\n",
       "    </tr>\n",
       "    <tr>\n",
       "      <th>2</th>\n",
       "      <td>22.000000</td>\n",
       "      <td>22</td>\n",
       "      <td>3</td>\n",
       "    </tr>\n",
       "    <tr>\n",
       "      <th>3</th>\n",
       "      <td>3.916667</td>\n",
       "      <td>4</td>\n",
       "      <td>4</td>\n",
       "    </tr>\n",
       "    <tr>\n",
       "      <th>4</th>\n",
       "      <td>3.916667</td>\n",
       "      <td>4</td>\n",
       "      <td>5</td>\n",
       "    </tr>\n",
       "  </tbody>\n",
       "</table>\n",
       "</div>"
      ],
      "text/plain": [
       "   prediction  label  Day\n",
       "0   27.285714     24    1\n",
       "1   27.285714     25    2\n",
       "2   22.000000     22    3\n",
       "3    3.916667      4    4\n",
       "4    3.916667      4    5"
      ]
     },
     "execution_count": 136,
     "metadata": {},
     "output_type": "execute_result"
    }
   ],
   "source": [
    "predictions_dt_training = model.transform(trainingData)\n",
    "# Select example rows to display.\n",
    "pred_dt_training= predictions_dt_training.select(\"prediction\", \"label\" ,\"Day\").orderBy('Day', ascending=True).toPandas()\n",
    "\n",
    "\n",
    "# Select example rows to display.\n",
    "#predictions.select(\"prediction\", \"label\", \"features\").show(5)\n",
    "\n",
    "# Select (prediction, true label) and compute test error\n",
    "evaluator = RegressionEvaluator(\n",
    "    labelCol=\"label\", predictionCol=\"prediction\", metricName=\"rmse\")\n",
    "rmse = evaluator.evaluate(predictions_dt_training)\n",
    "print(\"Root Mean Squared Error (RMSE) on training data = %g\" % rmse)\n",
    "\n",
    "#treeModel = model.stages[1]\n",
    "# summary only\n",
    "pred_dt_training.head()"
   ]
  },
  {
   "cell_type": "code",
   "execution_count": 137,
   "metadata": {},
   "outputs": [
    {
     "data": {
      "text/plain": [
       "array([  1.,   2.,   3.,   4.,   5.,   6.,   7.,   8.,   9.,  10.,  11.,\n",
       "        12.,  13.,  14.,  15.,  16.,  17.,  18.,  19.,  20.,  21.,  22.,\n",
       "        23.,  24.,  25.,  26.,  27.,  28.,  29.,  30.,  31.,  32.,  33.,\n",
       "        34.,  35.,  36.,  37.,  38.,  39.,  40.,  41.,  42.,  43.,  44.,\n",
       "        45.,  46.,  47.,  48.,  49.,  50.,  51.,  52.,  53.,  54.,  55.,\n",
       "        56.,  57.,  58.,  59.,  60.,  61.,  62.,  63.,  64.,  65.,  66.,\n",
       "        67.,  68.,  69.,  70.,  71.,  72.,  73.,  74.,  75.,  76.,  77.,\n",
       "       277., 291., 292., 293., 294., 295., 296., 297., 298., 299., 300.,\n",
       "       301., 302., 303., 311., 312., 313., 314., 315., 316., 317., 318.,\n",
       "       319.])"
      ]
     },
     "execution_count": 137,
     "metadata": {},
     "output_type": "execute_result"
    }
   ],
   "source": [
    "pred_dt_training.values[:,2]"
   ]
  },
  {
   "cell_type": "code",
   "execution_count": 138,
   "metadata": {},
   "outputs": [
    {
     "data": {
      "text/plain": [
       "Row(_c0=0, Day=277, Month=10, Season=3, Weekday=4, Daily Weather=6, Daily Weather (Past)=2, Humidity=0.88, Humidity (Past)=0.76, Windspeed=6.55, Windspeed (Past)=6.33, Apparent Temperature (Avg)=57.905, Apparent Temperature (Avg) (Past)=57.42, Rented Bikes=1, Rented Bikes (Future)=19, label=19)"
      ]
     },
     "execution_count": 138,
     "metadata": {},
     "output_type": "execute_result"
    }
   ],
   "source": [
    "df.head()"
   ]
  },
  {
   "cell_type": "code",
   "execution_count": 139,
   "metadata": {},
   "outputs": [
    {
     "data": {
      "text/html": [
       "<div>\n",
       "<style scoped>\n",
       "    .dataframe tbody tr th:only-of-type {\n",
       "        vertical-align: middle;\n",
       "    }\n",
       "\n",
       "    .dataframe tbody tr th {\n",
       "        vertical-align: top;\n",
       "    }\n",
       "\n",
       "    .dataframe thead th {\n",
       "        text-align: right;\n",
       "    }\n",
       "</style>\n",
       "<table border=\"1\" class=\"dataframe\">\n",
       "  <thead>\n",
       "    <tr style=\"text-align: right;\">\n",
       "      <th></th>\n",
       "      <th>_c0</th>\n",
       "      <th>Day</th>\n",
       "      <th>Month</th>\n",
       "      <th>Season</th>\n",
       "      <th>Weekday</th>\n",
       "      <th>Daily Weather</th>\n",
       "      <th>Daily Weather (Past)</th>\n",
       "      <th>Humidity</th>\n",
       "      <th>Humidity (Past)</th>\n",
       "      <th>Windspeed</th>\n",
       "      <th>Windspeed (Past)</th>\n",
       "      <th>Apparent Temperature (Avg)</th>\n",
       "      <th>Apparent Temperature (Avg) (Past)</th>\n",
       "      <th>Rented Bikes</th>\n",
       "      <th>Rented Bikes (Future)</th>\n",
       "      <th>label_x</th>\n",
       "      <th>prediction</th>\n",
       "      <th>label_y</th>\n",
       "    </tr>\n",
       "  </thead>\n",
       "  <tbody>\n",
       "    <tr>\n",
       "      <th>0</th>\n",
       "      <td>0</td>\n",
       "      <td>277</td>\n",
       "      <td>10</td>\n",
       "      <td>3</td>\n",
       "      <td>4</td>\n",
       "      <td>6</td>\n",
       "      <td>2</td>\n",
       "      <td>0.88</td>\n",
       "      <td>0.76</td>\n",
       "      <td>6.55</td>\n",
       "      <td>6.33</td>\n",
       "      <td>57.905</td>\n",
       "      <td>57.420</td>\n",
       "      <td>1</td>\n",
       "      <td>19</td>\n",
       "      <td>19</td>\n",
       "      <td>22.125000</td>\n",
       "      <td>19</td>\n",
       "    </tr>\n",
       "    <tr>\n",
       "      <th>1</th>\n",
       "      <td>1</td>\n",
       "      <td>291</td>\n",
       "      <td>10</td>\n",
       "      <td>3</td>\n",
       "      <td>4</td>\n",
       "      <td>2</td>\n",
       "      <td>2</td>\n",
       "      <td>0.80</td>\n",
       "      <td>0.90</td>\n",
       "      <td>6.87</td>\n",
       "      <td>2.22</td>\n",
       "      <td>50.035</td>\n",
       "      <td>53.700</td>\n",
       "      <td>19</td>\n",
       "      <td>24</td>\n",
       "      <td>24</td>\n",
       "      <td>22.125000</td>\n",
       "      <td>24</td>\n",
       "    </tr>\n",
       "    <tr>\n",
       "      <th>2</th>\n",
       "      <td>2</td>\n",
       "      <td>292</td>\n",
       "      <td>10</td>\n",
       "      <td>3</td>\n",
       "      <td>5</td>\n",
       "      <td>8</td>\n",
       "      <td>2</td>\n",
       "      <td>0.80</td>\n",
       "      <td>0.80</td>\n",
       "      <td>3.14</td>\n",
       "      <td>6.87</td>\n",
       "      <td>51.435</td>\n",
       "      <td>50.035</td>\n",
       "      <td>24</td>\n",
       "      <td>5</td>\n",
       "      <td>5</td>\n",
       "      <td>3.916667</td>\n",
       "      <td>5</td>\n",
       "    </tr>\n",
       "    <tr>\n",
       "      <th>3</th>\n",
       "      <td>3</td>\n",
       "      <td>293</td>\n",
       "      <td>10</td>\n",
       "      <td>3</td>\n",
       "      <td>6</td>\n",
       "      <td>8</td>\n",
       "      <td>8</td>\n",
       "      <td>0.80</td>\n",
       "      <td>0.80</td>\n",
       "      <td>3.64</td>\n",
       "      <td>3.14</td>\n",
       "      <td>55.035</td>\n",
       "      <td>51.435</td>\n",
       "      <td>5</td>\n",
       "      <td>12</td>\n",
       "      <td>12</td>\n",
       "      <td>12.000000</td>\n",
       "      <td>12</td>\n",
       "    </tr>\n",
       "    <tr>\n",
       "      <th>4</th>\n",
       "      <td>4</td>\n",
       "      <td>294</td>\n",
       "      <td>10</td>\n",
       "      <td>3</td>\n",
       "      <td>7</td>\n",
       "      <td>8</td>\n",
       "      <td>8</td>\n",
       "      <td>0.80</td>\n",
       "      <td>0.80</td>\n",
       "      <td>4.17</td>\n",
       "      <td>3.64</td>\n",
       "      <td>53.105</td>\n",
       "      <td>55.035</td>\n",
       "      <td>12</td>\n",
       "      <td>22</td>\n",
       "      <td>22</td>\n",
       "      <td>22.000000</td>\n",
       "      <td>22</td>\n",
       "    </tr>\n",
       "  </tbody>\n",
       "</table>\n",
       "</div>"
      ],
      "text/plain": [
       "   _c0  Day  Month  Season  Weekday  Daily Weather  Daily Weather (Past)  \\\n",
       "0    0  277     10       3        4              6                     2   \n",
       "1    1  291     10       3        4              2                     2   \n",
       "2    2  292     10       3        5              8                     2   \n",
       "3    3  293     10       3        6              8                     8   \n",
       "4    4  294     10       3        7              8                     8   \n",
       "\n",
       "   Humidity  Humidity (Past)  Windspeed  Windspeed (Past)  \\\n",
       "0      0.88             0.76       6.55              6.33   \n",
       "1      0.80             0.90       6.87              2.22   \n",
       "2      0.80             0.80       3.14              6.87   \n",
       "3      0.80             0.80       3.64              3.14   \n",
       "4      0.80             0.80       4.17              3.64   \n",
       "\n",
       "   Apparent Temperature (Avg)  Apparent Temperature (Avg) (Past)  \\\n",
       "0                      57.905                             57.420   \n",
       "1                      50.035                             53.700   \n",
       "2                      51.435                             50.035   \n",
       "3                      55.035                             51.435   \n",
       "4                      53.105                             55.035   \n",
       "\n",
       "   Rented Bikes  Rented Bikes (Future)  label_x  prediction  label_y  \n",
       "0             1                     19       19   22.125000       19  \n",
       "1            19                     24       24   22.125000       24  \n",
       "2            24                      5        5    3.916667        5  \n",
       "3             5                     12       12   12.000000       12  \n",
       "4            12                     22       22   22.000000       22  "
      ]
     },
     "execution_count": 139,
     "metadata": {},
     "output_type": "execute_result"
    }
   ],
   "source": [
    "output_dt_bis = pd.merge(pred_dt_test,pred_dt_training, how='outer').sort_values('Day', ascending=True)\n",
    "output_dt = pd.merge(df_bis, output_dt_bis, how='outer', on='Day')\n",
    "output_dt.head()"
   ]
  },
  {
   "cell_type": "code",
   "execution_count": 290,
   "metadata": {},
   "outputs": [],
   "source": [
    "#output_dt.values[:,1]"
   ]
  },
  {
   "cell_type": "code",
   "execution_count": null,
   "metadata": {},
   "outputs": [],
   "source": [
    "plt.figure(figsize=(26,8))\n",
    "\n",
    "plt.subplot(131)\n",
    "plt.scatter(output_dt.values[:,1], output_dt.values[:,2], color = 'blue',label='Real future Value')  \n",
    "plt.legend()\n",
    "plt.xticks(np.arange(0, 1000, step=100))\n",
    "plt.yticks(np.arange(0, 2000, step=100))\n",
    "plt.title(\"Actual data\")\n",
    "plt.ylabel(\"predicted row id\")\n",
    "plt.xlabel(\"Usage value\")\n",
    "\n",
    "\n",
    "\n",
    "plt.subplot(132)\n",
    "plt.scatter(output_dt.values[:,0], output_dt.values[:,2], color = 'red',label='Algorthm prediction') \n",
    "plt.legend()\n",
    "plt.xticks(np.arange(0, 1000, step=100))\n",
    "plt.yticks(np.arange(0, 2000, step=100))\n",
    "plt.title(\"Decision tree prediction\")\n",
    "plt.ylabel(\"predicted row id\")\n",
    "plt.xlabel(\"Usage value\")\n",
    "\n",
    "plt.show()"
   ]
  },
  {
   "cell_type": "code",
   "execution_count": null,
   "metadata": {},
   "outputs": [],
   "source": []
  },
  {
   "cell_type": "code",
   "execution_count": null,
   "metadata": {},
   "outputs": [],
   "source": []
  },
  {
   "cell_type": "code",
   "execution_count": 142,
   "metadata": {},
   "outputs": [
    {
     "data": {
      "text/plain": [
       "<matplotlib.axes._subplots.AxesSubplot at 0x20198e2fd0>"
      ]
     },
     "execution_count": 142,
     "metadata": {},
     "output_type": "execute_result"
    },
    {
     "data": {
      "image/png": "[encoded data removed]",
      "text/plain": [
       "<Figure size 432x288 with 2 Axes>"
      ]
     },
     "metadata": {
      "needs_background": "light"
     },
     "output_type": "display_data"
    }
   ],
   "source": [
    "# Calculate correlations\n",
    "heat_dt=output_dt.loc[:,['Rented Bikes','prediction','Rented Bikes (Future)']]\n",
    "heat_dt= heat_dt.rename(index=str, columns={\"Rented Bikes\": \"current bike usage\", \"Rented Bikes (Future)\": \"real future usage\"})\n",
    "corr = heat_dt.corr()\n",
    " \n",
    "# Heatmap\n",
    "sns.heatmap(corr)"
   ]
  },
  {
   "cell_type": "code",
   "execution_count": 141,
   "metadata": {},
   "outputs": [
    {
     "data": {
      "text/plain": [
       "<seaborn.axisgrid.FacetGrid at 0x20170bf9e8>"
      ]
     },
     "execution_count": 141,
     "metadata": {},
     "output_type": "execute_result"
    },
    {
     "data": {
      "image/png": "[encoded data removed]",
      "text/plain": [
       "<Figure size 360x360 with 1 Axes>"
      ]
     },
     "metadata": {
      "needs_background": "light"
     },
     "output_type": "display_data"
    }
   ],
   "source": [
    "import seaborn as sns\n",
    "\n",
    "sns.lmplot(x='prediction', y='real future usage', data=heat_dt)"
   ]
  },
  {
   "cell_type": "code",
   "execution_count": 1399,
   "metadata": {},
   "outputs": [
    {
     "data": {
      "text/html": [
       "<div>\n",
       "<style scoped>\n",
       "    .dataframe tbody tr th:only-of-type {\n",
       "        vertical-align: middle;\n",
       "    }\n",
       "\n",
       "    .dataframe tbody tr th {\n",
       "        vertical-align: top;\n",
       "    }\n",
       "\n",
       "    .dataframe thead th {\n",
       "        text-align: right;\n",
       "    }\n",
       "</style>\n",
       "<table border=\"1\" class=\"dataframe\">\n",
       "  <thead>\n",
       "    <tr style=\"text-align: right;\">\n",
       "      <th></th>\n",
       "      <th>prediction</th>\n",
       "      <th>label</th>\n",
       "      <th>_c0</th>\n",
       "      <th>Day</th>\n",
       "    </tr>\n",
       "  </thead>\n",
       "  <tbody>\n",
       "    <tr>\n",
       "      <th>0</th>\n",
       "      <td>389.0</td>\n",
       "      <td>360</td>\n",
       "      <td>1253</td>\n",
       "      <td>1254</td>\n",
       "    </tr>\n",
       "    <tr>\n",
       "      <th>1</th>\n",
       "      <td>108.0</td>\n",
       "      <td>102</td>\n",
       "      <td>1259</td>\n",
       "      <td>1260</td>\n",
       "    </tr>\n",
       "    <tr>\n",
       "      <th>2</th>\n",
       "      <td>350.0</td>\n",
       "      <td>421</td>\n",
       "      <td>177</td>\n",
       "      <td>178</td>\n",
       "    </tr>\n",
       "    <tr>\n",
       "      <th>3</th>\n",
       "      <td>436.0</td>\n",
       "      <td>410</td>\n",
       "      <td>486</td>\n",
       "      <td>487</td>\n",
       "    </tr>\n",
       "    <tr>\n",
       "      <th>4</th>\n",
       "      <td>406.0</td>\n",
       "      <td>838</td>\n",
       "      <td>185</td>\n",
       "      <td>186</td>\n",
       "    </tr>\n",
       "  </tbody>\n",
       "</table>\n",
       "</div>"
      ],
      "text/plain": [
       "   prediction  label   _c0   Day\n",
       "0       389.0    360  1253  1254\n",
       "1       108.0    102  1259  1260\n",
       "2       350.0    421   177   178\n",
       "3       436.0    410   486   487\n",
       "4       406.0    838   185   186"
      ]
     },
     "execution_count": 1399,
     "metadata": {},
     "output_type": "execute_result"
    }
   ],
   "source": [
    "pred_dt.head()\n",
    "#pred_dt.count()\n",
    "\n"
   ]
  },
  {
   "cell_type": "code",
   "execution_count": null,
   "metadata": {},
   "outputs": [],
   "source": []
  },
  {
   "cell_type": "code",
   "execution_count": null,
   "metadata": {},
   "outputs": [],
   "source": []
  },
  {
   "cell_type": "code",
   "execution_count": 1515,
   "metadata": {},
   "outputs": [
    {
     "data": {
      "text/plain": [
       "Text(0.5,1,'feature importancy')"
      ]
     },
     "execution_count": 1515,
     "metadata": {},
     "output_type": "execute_result"
    },
    {
     "data": {
      "image/png": "[encoded data removed]",
      "text/plain": [
       "<Figure size 432x288 with 1 Axes>"
      ]
     },
     "metadata": {
      "needs_background": "light"
     },
     "output_type": "display_data"
    }
   ],
   "source": [
    "#treeModel.featureImportances\n",
    "from pandas.io.json import json_normalize\n",
    "#remove Month, Humidity(past), Season, Daily weather, Daily weather(Past), Weekday\n",
    "#print(json_normalize(dict(zip(df_bis.columns, treeModel.featureImportances))))\n",
    "\n",
    "jdata = dict(zip(cols, treeModel.featureImportances))\n",
    "\n",
    "df = pd.DataFrame.from_dict(json_normalize(jdata), orient='columns')\n",
    "\n",
    "dfsum=pd.melt(df)# Count Plot (a.k.a. Bar Plot)\n",
    "df\n",
    "\n",
    "dfsum['value'] *= 100\n",
    "\n",
    "ax = dfsum.plot(kind='barh')\n",
    "ax.set_xlabel('imporance (%)')\n",
    "ax.set_ylabel(\"feature\")\n",
    "ax.set_yticklabels(dfsum.variable)\n",
    "ax.set_title(\"feature importancy\")"
   ]
  },
  {
   "cell_type": "code",
   "execution_count": null,
   "metadata": {},
   "outputs": [],
   "source": []
  },
  {
   "cell_type": "code",
   "execution_count": null,
   "metadata": {},
   "outputs": [],
   "source": []
  },
  {
   "cell_type": "code",
   "execution_count": 1380,
   "metadata": {},
   "outputs": [],
   "source": [
    "x1 = output_dt.values[:,1].astype(int) #day\n",
    "x3 = pred_dt_training.values[:,2].astype(int) #day\n",
    "x2 = pred_dt_test.values[:,2].astype(int) #day\n",
    "\n",
    "\n",
    "y1 = output_dt.loc[:,'label_x'] #actual\n",
    "y3 = pred_dt_training.values[:,0].astype(int) #prediction train\n",
    "y2 = pred_dt_test.values[:,0] #prediction test\n",
    "\n",
    "\n",
    "\n",
    "# output to static HTML file\n",
    "output_file(\"DecisionTree.html\")\n",
    "p = figure(\n",
    "   tools=\"pan,box_zoom,wheel_zoom,reset,save\",\n",
    "    title=\"Decsion Tree Regression Prediction\",\n",
    "    y_range=[1, 850],\n",
    "    x_range=[0, 1600],\n",
    "   x_axis_label='Days', y_axis_label='Frequency',\n",
    "    plot_width=2000, plot_height=350,\n",
    "    x_axis_type=None,\n",
    "    toolbar_location=\"left\"\n",
    ")\n",
    "#set xticks\n",
    "tickerx = SingleIntervalTicker(interval=1, num_minor_ticks=1)\n",
    "xaxis = LinearAxis(ticker=tickerx)\n",
    "p.add_layout(xaxis, 'below')\n",
    "# add a line renderer with legend and line thickness\n",
    "p.ray(x=1212, y=0, length=800, angle=1.57079633, color='purple')\n",
    "p.line(x1, y1, legend=\"Actual\", line_color=\"green\")\n",
    "p.line(x2, y2, legend=\"Predicted Test\", line_color=\"blue\")\n",
    "p.line(x3, y3, legend=\"Predicted Training\", line_color=\"red\")\n",
    "p.xaxis.major_label_orientation = 'vertical'\n",
    "# show the results\n",
    "show(p)"
   ]
  },
  {
   "cell_type": "code",
   "execution_count": 216,
   "metadata": {},
   "outputs": [
    {
     "data": {
      "image/png": "[encoded data removed]",
      "text/plain": [
       "<Figure size 1872x576 with 1 Axes>"
      ]
     },
     "metadata": {
      "needs_background": "light"
     },
     "output_type": "display_data"
    }
   ],
   "source": [
    "plt.figure(figsize=(26,8))\n",
    "plt.subplot(121)\n",
    "plt.scatter(output_dt.values[:,0], output_dt.values[:,2], color = 'red',label='Prediction') \n",
    "plt.scatter(output_dt.values[:,10], output_dt.values[:,2], color = 'blue',label='Real future value')\n",
    "plt.legend()\n",
    "plt.yticks(np.arange(0, 2000, step=100))\n",
    "plt.title(\"Decision tree\")\n",
    "plt.ylabel(\"predicted row id\")\n",
    "plt.xlabel(\"Usage value\")\n",
    "plt.show()"
   ]
  },
  {
   "cell_type": "markdown",
   "metadata": {},
   "source": [
    "# Random forest regression"
   ]
  },
  {
   "cell_type": "code",
   "execution_count": 151,
   "metadata": {},
   "outputs": [
    {
     "name": "stdout",
     "output_type": "stream",
     "text": [
      "Root Mean Squared Error (RMSE) on test data = 10.6968\n",
      "RandomForestRegressionModel (uid=RandomForestRegressor_fae1cc37a997) with 30 trees\n"
     ]
    },
    {
     "data": {
      "text/html": [
       "<div>\n",
       "<style scoped>\n",
       "    .dataframe tbody tr th:only-of-type {\n",
       "        vertical-align: middle;\n",
       "    }\n",
       "\n",
       "    .dataframe tbody tr th {\n",
       "        vertical-align: top;\n",
       "    }\n",
       "\n",
       "    .dataframe thead th {\n",
       "        text-align: right;\n",
       "    }\n",
       "</style>\n",
       "<table border=\"1\" class=\"dataframe\">\n",
       "  <thead>\n",
       "    <tr style=\"text-align: right;\">\n",
       "      <th></th>\n",
       "      <th>prediction</th>\n",
       "      <th>label</th>\n",
       "      <th>Day</th>\n",
       "    </tr>\n",
       "  </thead>\n",
       "  <tbody>\n",
       "    <tr>\n",
       "      <th>0</th>\n",
       "      <td>11.900000</td>\n",
       "      <td>7</td>\n",
       "      <td>320</td>\n",
       "    </tr>\n",
       "    <tr>\n",
       "      <th>1</th>\n",
       "      <td>7.666667</td>\n",
       "      <td>1</td>\n",
       "      <td>321</td>\n",
       "    </tr>\n",
       "    <tr>\n",
       "      <th>2</th>\n",
       "      <td>25.366667</td>\n",
       "      <td>15</td>\n",
       "      <td>322</td>\n",
       "    </tr>\n",
       "    <tr>\n",
       "      <th>3</th>\n",
       "      <td>22.633333</td>\n",
       "      <td>15</td>\n",
       "      <td>323</td>\n",
       "    </tr>\n",
       "    <tr>\n",
       "      <th>4</th>\n",
       "      <td>24.433333</td>\n",
       "      <td>28</td>\n",
       "      <td>324</td>\n",
       "    </tr>\n",
       "  </tbody>\n",
       "</table>\n",
       "</div>"
      ],
      "text/plain": [
       "   prediction  label  Day\n",
       "0   11.900000      7  320\n",
       "1    7.666667      1  321\n",
       "2   25.366667     15  322\n",
       "3   22.633333     15  323\n",
       "4   24.433333     28  324"
      ]
     },
     "execution_count": 151,
     "metadata": {},
     "output_type": "execute_result"
    }
   ],
   "source": [
    "from pyspark.ml import Pipeline\n",
    "from pyspark.ml.regression import RandomForestRegressor\n",
    "from pyspark.ml.feature import VectorIndexer\n",
    "from pyspark.ml.evaluation import RegressionEvaluator\n",
    "\n",
    "\n",
    "# Automatically identify categorical features, and index them.\n",
    "# Set maxCategories so features with > 4 distinct values are treated as continuous.\n",
    "featureIndexer =\\\n",
    "    VectorIndexer(inputCol=\"features\", outputCol=\"indexedFeatures\", maxCategories=4).fit(dataset)\n",
    "\n",
    "\n",
    "\n",
    "# Train a RandomForest model.\n",
    "rf = RandomForestRegressor(featuresCol=\"indexedFeatures\",numTrees=30, maxDepth=30)\n",
    "#20 tree : RMSE= 67.47\n",
    "#20 tree : RMSE= 71.47\n",
    "#numTrees=10, maxDepth=10, maxBins=32; RMSE= 64.34\n",
    "#numTrees=15, maxDepth=15, maxBins=30; RMSE= 64.19\n",
    "\n",
    "# Chain indexer and forest in a Pipeline\n",
    "pipeline = Pipeline(stages=[featureIndexer, rf])\n",
    "\n",
    "# Train model.  This also runs the indexer.\n",
    "model = pipeline.fit(trainingData)\n",
    "\n",
    "# Make predictions.\n",
    "predictions_rd_test = model.transform(testData)\n",
    "\n",
    "# Select example rows to display.\n",
    "pred_rd_test= predictions_rd_test.select(\"prediction\", \"label\" ,\"Day\").orderBy('Day', ascending=True).toPandas()\n",
    "pred_rd_test.head()\n",
    "\n",
    "# Select (prediction, true label) and compute test error\n",
    "evaluator = RegressionEvaluator(\n",
    "    labelCol=\"label\", predictionCol=\"prediction\", metricName=\"rmse\")\n",
    "rmse = evaluator.evaluate(predictions_rd_test)\n",
    "print(\"Root Mean Squared Error (RMSE) on test data = %g\" % rmse)\n",
    "\n",
    "rfModel = model.stages[1]\n",
    "print(rfModel)  # summary only\n",
    "\n",
    "pred_rd_test.head()"
   ]
  },
  {
   "cell_type": "code",
   "execution_count": 152,
   "metadata": {},
   "outputs": [
    {
     "name": "stdout",
     "output_type": "stream",
     "text": [
      "Root Mean Squared Error (RMSE) on test data = 2.27083\n",
      "RandomForestRegressionModel (uid=RandomForestRegressor_fae1cc37a997) with 30 trees\n"
     ]
    },
    {
     "data": {
      "text/html": [
       "<div>\n",
       "<style scoped>\n",
       "    .dataframe tbody tr th:only-of-type {\n",
       "        vertical-align: middle;\n",
       "    }\n",
       "\n",
       "    .dataframe tbody tr th {\n",
       "        vertical-align: top;\n",
       "    }\n",
       "\n",
       "    .dataframe thead th {\n",
       "        text-align: right;\n",
       "    }\n",
       "</style>\n",
       "<table border=\"1\" class=\"dataframe\">\n",
       "  <thead>\n",
       "    <tr style=\"text-align: right;\">\n",
       "      <th></th>\n",
       "      <th>prediction</th>\n",
       "      <th>label</th>\n",
       "      <th>Day</th>\n",
       "    </tr>\n",
       "  </thead>\n",
       "  <tbody>\n",
       "    <tr>\n",
       "      <th>0</th>\n",
       "      <td>24.933333</td>\n",
       "      <td>24</td>\n",
       "      <td>1</td>\n",
       "    </tr>\n",
       "    <tr>\n",
       "      <th>1</th>\n",
       "      <td>25.533333</td>\n",
       "      <td>25</td>\n",
       "      <td>2</td>\n",
       "    </tr>\n",
       "    <tr>\n",
       "      <th>2</th>\n",
       "      <td>21.300000</td>\n",
       "      <td>22</td>\n",
       "      <td>3</td>\n",
       "    </tr>\n",
       "    <tr>\n",
       "      <th>3</th>\n",
       "      <td>3.800000</td>\n",
       "      <td>4</td>\n",
       "      <td>4</td>\n",
       "    </tr>\n",
       "    <tr>\n",
       "      <th>4</th>\n",
       "      <td>5.200000</td>\n",
       "      <td>4</td>\n",
       "      <td>5</td>\n",
       "    </tr>\n",
       "  </tbody>\n",
       "</table>\n",
       "</div>"
      ],
      "text/plain": [
       "   prediction  label  Day\n",
       "0   24.933333     24    1\n",
       "1   25.533333     25    2\n",
       "2   21.300000     22    3\n",
       "3    3.800000      4    4\n",
       "4    5.200000      4    5"
      ]
     },
     "execution_count": 152,
     "metadata": {},
     "output_type": "execute_result"
    }
   ],
   "source": [
    "# Make predictions.\n",
    "predictions_rd_training = model.transform(trainingData)\n",
    "\n",
    "# Select example rows to display.\n",
    "pred_rd_training= predictions_rd_training.select(\"prediction\", \"label\" ,\"Day\").orderBy('Day', ascending=True).toPandas()\n",
    "pred_rd_training.head()\n",
    "\n",
    "# Select (prediction, true label) and compute test error\n",
    "evaluator = RegressionEvaluator(\n",
    "    labelCol=\"label\", predictionCol=\"prediction\", metricName=\"rmse\")\n",
    "rmse = evaluator.evaluate(predictions_rd_training)\n",
    "print(\"Root Mean Squared Error (RMSE) on test data = %g\" % rmse)\n",
    "\n",
    "rfModel = model.stages[1]\n",
    "print(rfModel)  # summary only\n",
    "\n",
    "pred_rd_training.head()"
   ]
  },
  {
   "cell_type": "code",
   "execution_count": 1569,
   "metadata": {},
   "outputs": [
    {
     "data": {
      "text/plain": [
       "[Text(0,0,'Humidity (Past)'), Text(0,0,'Rented Bikes'), Text(0,0,'Weekday')]"
      ]
     },
     "execution_count": 1569,
     "metadata": {},
     "output_type": "execute_result"
    },
    {
     "data": {
      "image/png": "[encoded data removed]",
      "text/plain": [
       "<Figure size 432x288 with 1 Axes>"
      ]
     },
     "metadata": {
      "needs_background": "light"
     },
     "output_type": "display_data"
    }
   ],
   "source": [
    "#treeModel.featureImportances\n",
    "from pandas.io.json import json_normalize\n",
    "#remove Month, Humidity(past), Season, Daily weather, Daily weather(Past), Weekday\n",
    "#print(json_normalize(dict(zip(df_bis.columns, treeModel.featureImportances))))\n",
    "\n",
    "jdata = dict(zip(cols, rfModel.featureImportances))\n",
    "\n",
    "df = pd.DataFrame.from_dict(json_normalize(jdata), orient='columns')\n",
    "\n",
    "dfsum=pd.melt(df)# Count Plot (a.k.a. Bar Plot)\n",
    "\n",
    "\n",
    "dfsum['value'] *= 100\n",
    "\n",
    "ax = dfsum.plot(kind='barh')\n",
    "ax.set_xlabel('importance (%)')\n",
    "ax.set_ylabel(\"feature\")\n",
    "ax.set_yticklabels(dfsum.variable)"
   ]
  },
  {
   "cell_type": "code",
   "execution_count": null,
   "metadata": {},
   "outputs": [],
   "source": []
  },
  {
   "cell_type": "code",
   "execution_count": 155,
   "metadata": {},
   "outputs": [
    {
     "data": {
      "text/html": [
       "<div>\n",
       "<style scoped>\n",
       "    .dataframe tbody tr th:only-of-type {\n",
       "        vertical-align: middle;\n",
       "    }\n",
       "\n",
       "    .dataframe tbody tr th {\n",
       "        vertical-align: top;\n",
       "    }\n",
       "\n",
       "    .dataframe thead th {\n",
       "        text-align: right;\n",
       "    }\n",
       "</style>\n",
       "<table border=\"1\" class=\"dataframe\">\n",
       "  <thead>\n",
       "    <tr style=\"text-align: right;\">\n",
       "      <th></th>\n",
       "      <th>_c0</th>\n",
       "      <th>Day</th>\n",
       "      <th>Month</th>\n",
       "      <th>Season</th>\n",
       "      <th>Weekday</th>\n",
       "      <th>Daily Weather</th>\n",
       "      <th>Daily Weather (Past)</th>\n",
       "      <th>Humidity</th>\n",
       "      <th>Humidity (Past)</th>\n",
       "      <th>Windspeed</th>\n",
       "      <th>Windspeed (Past)</th>\n",
       "      <th>Apparent Temperature (Avg)</th>\n",
       "      <th>Apparent Temperature (Avg) (Past)</th>\n",
       "      <th>Rented Bikes</th>\n",
       "      <th>Rented Bikes (Future)</th>\n",
       "      <th>label_x</th>\n",
       "      <th>prediction</th>\n",
       "      <th>label_y</th>\n",
       "    </tr>\n",
       "  </thead>\n",
       "  <tbody>\n",
       "    <tr>\n",
       "      <th>0</th>\n",
       "      <td>0</td>\n",
       "      <td>277</td>\n",
       "      <td>10</td>\n",
       "      <td>3</td>\n",
       "      <td>4</td>\n",
       "      <td>6</td>\n",
       "      <td>2</td>\n",
       "      <td>0.88</td>\n",
       "      <td>0.76</td>\n",
       "      <td>6.55</td>\n",
       "      <td>6.33</td>\n",
       "      <td>57.905</td>\n",
       "      <td>57.420</td>\n",
       "      <td>1</td>\n",
       "      <td>19</td>\n",
       "      <td>19</td>\n",
       "      <td>19.800000</td>\n",
       "      <td>19</td>\n",
       "    </tr>\n",
       "    <tr>\n",
       "      <th>1</th>\n",
       "      <td>1</td>\n",
       "      <td>291</td>\n",
       "      <td>10</td>\n",
       "      <td>3</td>\n",
       "      <td>4</td>\n",
       "      <td>2</td>\n",
       "      <td>2</td>\n",
       "      <td>0.80</td>\n",
       "      <td>0.90</td>\n",
       "      <td>6.87</td>\n",
       "      <td>2.22</td>\n",
       "      <td>50.035</td>\n",
       "      <td>53.700</td>\n",
       "      <td>19</td>\n",
       "      <td>24</td>\n",
       "      <td>24</td>\n",
       "      <td>21.900000</td>\n",
       "      <td>24</td>\n",
       "    </tr>\n",
       "    <tr>\n",
       "      <th>2</th>\n",
       "      <td>2</td>\n",
       "      <td>292</td>\n",
       "      <td>10</td>\n",
       "      <td>3</td>\n",
       "      <td>5</td>\n",
       "      <td>8</td>\n",
       "      <td>2</td>\n",
       "      <td>0.80</td>\n",
       "      <td>0.80</td>\n",
       "      <td>3.14</td>\n",
       "      <td>6.87</td>\n",
       "      <td>51.435</td>\n",
       "      <td>50.035</td>\n",
       "      <td>24</td>\n",
       "      <td>5</td>\n",
       "      <td>5</td>\n",
       "      <td>8.933333</td>\n",
       "      <td>5</td>\n",
       "    </tr>\n",
       "    <tr>\n",
       "      <th>3</th>\n",
       "      <td>3</td>\n",
       "      <td>293</td>\n",
       "      <td>10</td>\n",
       "      <td>3</td>\n",
       "      <td>6</td>\n",
       "      <td>8</td>\n",
       "      <td>8</td>\n",
       "      <td>0.80</td>\n",
       "      <td>0.80</td>\n",
       "      <td>3.64</td>\n",
       "      <td>3.14</td>\n",
       "      <td>55.035</td>\n",
       "      <td>51.435</td>\n",
       "      <td>5</td>\n",
       "      <td>12</td>\n",
       "      <td>12</td>\n",
       "      <td>11.700000</td>\n",
       "      <td>12</td>\n",
       "    </tr>\n",
       "    <tr>\n",
       "      <th>4</th>\n",
       "      <td>4</td>\n",
       "      <td>294</td>\n",
       "      <td>10</td>\n",
       "      <td>3</td>\n",
       "      <td>7</td>\n",
       "      <td>8</td>\n",
       "      <td>8</td>\n",
       "      <td>0.80</td>\n",
       "      <td>0.80</td>\n",
       "      <td>4.17</td>\n",
       "      <td>3.64</td>\n",
       "      <td>53.105</td>\n",
       "      <td>55.035</td>\n",
       "      <td>12</td>\n",
       "      <td>22</td>\n",
       "      <td>22</td>\n",
       "      <td>23.233333</td>\n",
       "      <td>22</td>\n",
       "    </tr>\n",
       "  </tbody>\n",
       "</table>\n",
       "</div>"
      ],
      "text/plain": [
       "   _c0  Day  Month  Season  Weekday  Daily Weather  Daily Weather (Past)  \\\n",
       "0    0  277     10       3        4              6                     2   \n",
       "1    1  291     10       3        4              2                     2   \n",
       "2    2  292     10       3        5              8                     2   \n",
       "3    3  293     10       3        6              8                     8   \n",
       "4    4  294     10       3        7              8                     8   \n",
       "\n",
       "   Humidity  Humidity (Past)  Windspeed  Windspeed (Past)  \\\n",
       "0      0.88             0.76       6.55              6.33   \n",
       "1      0.80             0.90       6.87              2.22   \n",
       "2      0.80             0.80       3.14              6.87   \n",
       "3      0.80             0.80       3.64              3.14   \n",
       "4      0.80             0.80       4.17              3.64   \n",
       "\n",
       "   Apparent Temperature (Avg)  Apparent Temperature (Avg) (Past)  \\\n",
       "0                      57.905                             57.420   \n",
       "1                      50.035                             53.700   \n",
       "2                      51.435                             50.035   \n",
       "3                      55.035                             51.435   \n",
       "4                      53.105                             55.035   \n",
       "\n",
       "   Rented Bikes  Rented Bikes (Future)  label_x  prediction  label_y  \n",
       "0             1                     19       19   19.800000       19  \n",
       "1            19                     24       24   21.900000       24  \n",
       "2            24                      5        5    8.933333        5  \n",
       "3             5                     12       12   11.700000       12  \n",
       "4            12                     22       22   23.233333       22  "
      ]
     },
     "execution_count": 155,
     "metadata": {},
     "output_type": "execute_result"
    }
   ],
   "source": [
    "output_rd_bis = pd.merge(pred_rd_test,pred_rd_training, how='outer').sort_values('Day', ascending=True)\n",
    "output_rd = pd.merge(df_bis, output_rd_bis, how='outer', on='Day')\n",
    "output_rd.head()"
   ]
  },
  {
   "cell_type": "code",
   "execution_count": 550,
   "metadata": {},
   "outputs": [],
   "source": []
  },
  {
   "cell_type": "code",
   "execution_count": 194,
   "metadata": {},
   "outputs": [],
   "source": [
    "# 450 samples"
   ]
  },
  {
   "cell_type": "code",
   "execution_count": null,
   "metadata": {},
   "outputs": [],
   "source": [
    "plt.figure(figsize=(26,8))\n",
    "\n",
    "plt.subplot(131)\n",
    "plt.scatter(output.values[:,10], output.values[:,2], color = 'blue',label='Actual Value')  \n",
    "plt.legend()\n",
    "plt.xticks(np.arange(0, 1000, step=100))\n",
    "plt.yticks(np.arange(0, 2000, step=100))\n",
    "plt.title(\"Actual data\")\n",
    "plt.ylabel(\"predicted row id\")\n",
    "plt.xlabel(\"Usage value\")\n",
    "\n",
    "\n",
    "\n",
    "plt.subplot(132)\n",
    "plt.scatter(output.values[:,0], output.values[:,2], color = 'red',label='Real future Value') \n",
    "plt.legend()\n",
    "plt.xticks(np.arange(0, 1000, step=100))\n",
    "plt.yticks(np.arange(0, 2000, step=100))\n",
    "plt.title(\"Random forest Prediction\")\n",
    "plt.ylabel(\"predicted row id\")\n",
    "plt.xlabel(\"Usage value\")\n",
    "\n",
    "plt.show()"
   ]
  },
  {
   "cell_type": "code",
   "execution_count": 1220,
   "metadata": {},
   "outputs": [
    {
     "data": {
      "text/plain": [
       "<seaborn.axisgrid.FacetGrid at 0x1a2637eef0>"
      ]
     },
     "execution_count": 1220,
     "metadata": {},
     "output_type": "execute_result"
    },
    {
     "data": {
      "image/png": "[encoded data removed]",
      "text/plain": [
       "<Figure size 360x360 with 1 Axes>"
      ]
     },
     "metadata": {
      "needs_background": "light"
     },
     "output_type": "display_data"
    }
   ],
   "source": []
  },
  {
   "cell_type": "code",
   "execution_count": 156,
   "metadata": {},
   "outputs": [
    {
     "data": {
      "text/plain": [
       "<matplotlib.axes._subplots.AxesSubplot at 0x2019a98358>"
      ]
     },
     "execution_count": 156,
     "metadata": {},
     "output_type": "execute_result"
    },
    {
     "data": {
      "image/png": "[encoded data removed]",
      "text/plain": [
       "<Figure size 432x288 with 2 Axes>"
      ]
     },
     "metadata": {
      "needs_background": "light"
     },
     "output_type": "display_data"
    }
   ],
   "source": [
    "# Calculate correlations\n",
    "heat_rd=output_rd.loc[:,['Rented Bikes','prediction','Rented Bikes (Future)']]\n",
    "heat_rd= heat_rd.rename(index=str, columns={\"Rented Bikes\": \"current bike usage\", \"Rented Bikes (Future)\": \"real future usage\"})\n",
    "corr = heat_rd.corr()\n",
    " \n",
    "# Heatmap\n",
    "sns.heatmap(corr)\n"
   ]
  },
  {
   "cell_type": "code",
   "execution_count": 157,
   "metadata": {},
   "outputs": [
    {
     "data": {
      "text/plain": [
       "<seaborn.axisgrid.FacetGrid at 0x2016edf518>"
      ]
     },
     "execution_count": 157,
     "metadata": {},
     "output_type": "execute_result"
    },
    {
     "data": {
      "image/png": "[encoded data removed]",
      "text/plain": [
       "<Figure size 360x360 with 1 Axes>"
      ]
     },
     "metadata": {
      "needs_background": "light"
     },
     "output_type": "display_data"
    }
   ],
   "source": [
    "sns.lmplot(x='prediction', y='real future usage', data=heat_rd)"
   ]
  },
  {
   "cell_type": "code",
   "execution_count": 1222,
   "metadata": {},
   "outputs": [],
   "source": [
    "x1 = output_rd.values[:,1].astype(int) #day\n",
    "x3 = pred_rd_training.values[:,2].astype(int) #day\n",
    "x2 = pred_rd_test.values[:,2].astype(int) #day\n",
    "\n",
    "\n",
    "y1 = output_rd.loc[:,'label_x'] #actual\n",
    "y3 = pred_rd_training.values[:,0].astype(int) #prediction train\n",
    "y2 = pred_rd_test.values[:,0] #prediction test\n",
    "\n",
    "\n",
    "\n",
    "# output to static HTML file\n",
    "output_file(\"RandomForest.html\")\n",
    "p = figure(\n",
    "   tools=\"pan,box_zoom,wheel_zoom,reset,save\",\n",
    "    title=\"Random Forest Regression Prediction\",\n",
    "    y_range=[1, 850],\n",
    "    x_range=[0, 1600],\n",
    "   x_axis_label='Days', y_axis_label='Frequency',\n",
    "    plot_width=2000, plot_height=350,\n",
    "    x_axis_type=None,\n",
    "    toolbar_location=\"left\"\n",
    ")\n",
    "#set xticks\n",
    "tickerx = SingleIntervalTicker(interval=1, num_minor_ticks=1)\n",
    "xaxis = LinearAxis(ticker=tickerx)\n",
    "p.add_layout(xaxis, 'below')\n",
    "# add a line renderer with legend and line thickness\n",
    "p.ray(x=1212, y=0, length=800, angle=1.57079633, color='purple')\n",
    "p.line(x1, y1, legend=\"Actual\", line_color=\"green\")\n",
    "p.line(x2, y2, legend=\"Predicted Test\", line_color=\"blue\")\n",
    "p.line(x3, y3, legend=\"Predicted Training\", line_color=\"red\")\n",
    "p.xaxis.major_label_orientation = 'vertical'\n",
    "# show the results\n",
    "show(p)\n"
   ]
  },
  {
   "cell_type": "code",
   "execution_count": null,
   "metadata": {},
   "outputs": [],
   "source": [
    "plt.figure(figsize=(26,8))\n",
    "plt.subplot(121)\n",
    "plt.scatter(output.values[:,0], output.values[:,2], color = 'red',label='Prediction') \n",
    "plt.scatter(output.values[:,10], output.values[:,2], color = 'blue',label='Real future value')\n",
    "plt.legend()\n",
    "plt.yticks(np.arange(0, 2000, step=100))\n",
    "plt.title(\"Random forest\")\n",
    "plt.ylabel(\"predicted row id\")\n",
    "plt.xlabel(\"Usage value\")\n",
    "plt.show()"
   ]
  },
  {
   "cell_type": "markdown",
   "metadata": {},
   "source": [
    "# Gradient-boosted tree regression"
   ]
  },
  {
   "cell_type": "code",
   "execution_count": 167,
   "metadata": {},
   "outputs": [
    {
     "name": "stdout",
     "output_type": "stream",
     "text": [
      "Root Mean Squared Error (RMSE) on test data = 11.6032\n",
      "GBTRegressionModel (uid=GBTRegressor_faa9d3bd8618) with 20 trees\n"
     ]
    },
    {
     "data": {
      "text/html": [
       "<div>\n",
       "<style scoped>\n",
       "    .dataframe tbody tr th:only-of-type {\n",
       "        vertical-align: middle;\n",
       "    }\n",
       "\n",
       "    .dataframe tbody tr th {\n",
       "        vertical-align: top;\n",
       "    }\n",
       "\n",
       "    .dataframe thead th {\n",
       "        text-align: right;\n",
       "    }\n",
       "</style>\n",
       "<table border=\"1\" class=\"dataframe\">\n",
       "  <thead>\n",
       "    <tr style=\"text-align: right;\">\n",
       "      <th></th>\n",
       "      <th>prediction</th>\n",
       "      <th>label</th>\n",
       "      <th>Day</th>\n",
       "    </tr>\n",
       "  </thead>\n",
       "  <tbody>\n",
       "    <tr>\n",
       "      <th>0</th>\n",
       "      <td>3.622584</td>\n",
       "      <td>7</td>\n",
       "      <td>320</td>\n",
       "    </tr>\n",
       "    <tr>\n",
       "      <th>1</th>\n",
       "      <td>5.669332</td>\n",
       "      <td>1</td>\n",
       "      <td>321</td>\n",
       "    </tr>\n",
       "    <tr>\n",
       "      <th>2</th>\n",
       "      <td>28.052560</td>\n",
       "      <td>15</td>\n",
       "      <td>322</td>\n",
       "    </tr>\n",
       "    <tr>\n",
       "      <th>3</th>\n",
       "      <td>31.650062</td>\n",
       "      <td>15</td>\n",
       "      <td>323</td>\n",
       "    </tr>\n",
       "    <tr>\n",
       "      <th>4</th>\n",
       "      <td>27.081867</td>\n",
       "      <td>28</td>\n",
       "      <td>324</td>\n",
       "    </tr>\n",
       "  </tbody>\n",
       "</table>\n",
       "</div>"
      ],
      "text/plain": [
       "   prediction  label  Day\n",
       "0    3.622584      7  320\n",
       "1    5.669332      1  321\n",
       "2   28.052560     15  322\n",
       "3   31.650062     15  323\n",
       "4   27.081867     28  324"
      ]
     },
     "execution_count": 167,
     "metadata": {},
     "output_type": "execute_result"
    }
   ],
   "source": [
    "from pyspark.ml import Pipeline\n",
    "from pyspark.ml.regression import GBTRegressor\n",
    "from pyspark.ml.feature import VectorIndexer\n",
    "from pyspark.ml.evaluation import RegressionEvaluator\n",
    "\n",
    "\n",
    "\n",
    "# Automatically identify categorical features, and index them.\n",
    "# Set maxCategories so features with > 4 distinct values are treated as continuous.\n",
    "featureIndexer =\\\n",
    "    VectorIndexer(inputCol=\"features\", outputCol=\"indexedFeatures\", maxCategories=4).fit(dataset)\n",
    "\n",
    "\n",
    "# Train a GBT model.\n",
    "gbt = GBTRegressor(featuresCol=\"indexedFeatures\")\n",
    "#40 tree : RMSE= 67.47\n",
    "#10 tree: RMSE= 66\n",
    "#100 tree : RMSE= 67.6202\n",
    "\n",
    "# Chain indexer and GBT in a Pipeline\n",
    "pipeline = Pipeline(stages=[featureIndexer, gbt])\n",
    "\n",
    "# Train model.  This also runs the indexer.\n",
    "model = pipeline.fit(trainingData)\n",
    "\n",
    "# Make predictions.\n",
    "predictions_tr_test = model.transform(testData)\n",
    "\n",
    "# Select example rows to display.\n",
    "pred_tr_test= predictions_tr_test.select(\"prediction\", \"label\" ,\"Day\").orderBy('Day', ascending=True).toPandas()\n",
    "\n",
    "\n",
    "# Select (prediction, true label) and compute test error\n",
    "evaluator = RegressionEvaluator(\n",
    "    labelCol=\"label\", predictionCol=\"prediction\", metricName=\"rmse\")\n",
    "rmse = evaluator.evaluate(predictions_tr_test)\n",
    "print(\"Root Mean Squared Error (RMSE) on test data = %g\" % rmse)\n",
    "\n",
    "gbtModel = model.stages[1]\n",
    "print(gbtModel)  # summary only\n",
    "\n",
    "pred_tr_test.head()"
   ]
  },
  {
   "cell_type": "code",
   "execution_count": 170,
   "metadata": {},
   "outputs": [
    {
     "name": "stdout",
     "output_type": "stream",
     "text": [
      "Root Mean Squared Error (RMSE) on test data = 1.04748\n",
      "GBTRegressionModel (uid=GBTRegressor_faa9d3bd8618) with 20 trees\n"
     ]
    },
    {
     "data": {
      "text/html": [
       "<div>\n",
       "<style scoped>\n",
       "    .dataframe tbody tr th:only-of-type {\n",
       "        vertical-align: middle;\n",
       "    }\n",
       "\n",
       "    .dataframe tbody tr th {\n",
       "        vertical-align: top;\n",
       "    }\n",
       "\n",
       "    .dataframe thead th {\n",
       "        text-align: right;\n",
       "    }\n",
       "</style>\n",
       "<table border=\"1\" class=\"dataframe\">\n",
       "  <thead>\n",
       "    <tr style=\"text-align: right;\">\n",
       "      <th></th>\n",
       "      <th>prediction</th>\n",
       "      <th>label</th>\n",
       "      <th>Day</th>\n",
       "    </tr>\n",
       "  </thead>\n",
       "  <tbody>\n",
       "    <tr>\n",
       "      <th>0</th>\n",
       "      <td>24.482983</td>\n",
       "      <td>24</td>\n",
       "      <td>1</td>\n",
       "    </tr>\n",
       "    <tr>\n",
       "      <th>1</th>\n",
       "      <td>25.635737</td>\n",
       "      <td>25</td>\n",
       "      <td>2</td>\n",
       "    </tr>\n",
       "    <tr>\n",
       "      <th>2</th>\n",
       "      <td>20.881194</td>\n",
       "      <td>22</td>\n",
       "      <td>3</td>\n",
       "    </tr>\n",
       "    <tr>\n",
       "      <th>3</th>\n",
       "      <td>3.898050</td>\n",
       "      <td>4</td>\n",
       "      <td>4</td>\n",
       "    </tr>\n",
       "    <tr>\n",
       "      <th>4</th>\n",
       "      <td>4.854601</td>\n",
       "      <td>4</td>\n",
       "      <td>5</td>\n",
       "    </tr>\n",
       "  </tbody>\n",
       "</table>\n",
       "</div>"
      ],
      "text/plain": [
       "   prediction  label  Day\n",
       "0   24.482983     24    1\n",
       "1   25.635737     25    2\n",
       "2   20.881194     22    3\n",
       "3    3.898050      4    4\n",
       "4    4.854601      4    5"
      ]
     },
     "execution_count": 170,
     "metadata": {},
     "output_type": "execute_result"
    }
   ],
   "source": [
    "# Make predictions.\n",
    "predictions_tr_training = model.transform(trainingData)\n",
    "\n",
    "# Select example rows to display.\n",
    "pred_tr_training= predictions_tr_training.select(\"prediction\", \"label\" ,\"Day\").orderBy('Day', ascending=True).toPandas()\n",
    "\n",
    "\n",
    "# Select (prediction, true label) and compute test error\n",
    "evaluator = RegressionEvaluator(\n",
    "    labelCol=\"label\", predictionCol=\"prediction\", metricName=\"rmse\")\n",
    "rmse = evaluator.evaluate(predictions_tr_training)\n",
    "print(\"Root Mean Squared Error (RMSE) on test data = %g\" % rmse)\n",
    "\n",
    "gbtModel = model.stages[1]\n",
    "print(gbtModel)  # summary only\n",
    "\n",
    "pred_tr_training.head()"
   ]
  },
  {
   "cell_type": "code",
   "execution_count": 171,
   "metadata": {},
   "outputs": [
    {
     "ename": "NameError",
     "evalue": "name 'pred_tr' is not defined",
     "output_type": "error",
     "traceback": [
      "\u001b[0;31m---------------------------------------------------------------------------\u001b[0m",
      "\u001b[0;31mNameError\u001b[0m                                 Traceback (most recent call last)",
      "\u001b[0;32m<ipython-input-171-5a822c01c4e7>\u001b[0m in \u001b[0;36m<module>\u001b[0;34m\u001b[0m\n\u001b[0;32m----> 1\u001b[0;31m \u001b[0moutput_tr\u001b[0m \u001b[0;34m=\u001b[0m \u001b[0mpd\u001b[0m\u001b[0;34m.\u001b[0m\u001b[0mmerge\u001b[0m\u001b[0;34m(\u001b[0m\u001b[0mpred_tr\u001b[0m\u001b[0;34m,\u001b[0m\u001b[0mdf_bis\u001b[0m\u001b[0;34m,\u001b[0m\u001b[0mhow\u001b[0m\u001b[0;34m=\u001b[0m\u001b[0;34m'left'\u001b[0m\u001b[0;34m,\u001b[0m \u001b[0mon\u001b[0m\u001b[0;34m=\u001b[0m\u001b[0;34m'_c0'\u001b[0m\u001b[0;34m)\u001b[0m\u001b[0;34m\u001b[0m\u001b[0m\n\u001b[0m\u001b[1;32m      2\u001b[0m \u001b[0moutput_tr\u001b[0m\u001b[0;34m.\u001b[0m\u001b[0mhead\u001b[0m\u001b[0;34m(\u001b[0m\u001b[0;34m)\u001b[0m\u001b[0;34m\u001b[0m\u001b[0m\n",
      "\u001b[0;31mNameError\u001b[0m: name 'pred_tr' is not defined"
     ]
    }
   ],
   "source": [
    "output_tr = pd.merge(pred_tr,df_bis,how='left', on='_c0')\n",
    "output_tr.head()"
   ]
  },
  {
   "cell_type": "code",
   "execution_count": 1609,
   "metadata": {},
   "outputs": [
    {
     "data": {
      "text/plain": [
       "[Text(0,0,'Humidity (Past)'), Text(0,0,'Rented Bikes'), Text(0,0,'Weekday')]"
      ]
     },
     "execution_count": 1609,
     "metadata": {},
     "output_type": "execute_result"
    },
    {
     "data": {
      "image/png": "[encoded data removed]",
      "text/plain": [
       "<Figure size 432x288 with 1 Axes>"
      ]
     },
     "metadata": {
      "needs_background": "light"
     },
     "output_type": "display_data"
    }
   ],
   "source": [
    "#treeModel.featureImportances\n",
    "from pandas.io.json import json_normalize\n",
    "#remove Month, Humidity(past), Season, Daily weather, Daily weather(Past), Weekday\n",
    "#print(json_normalize(dict(zip(df_bis.columns, treeModel.featureImportances))))\n",
    "\n",
    "jdata = dict(zip(cols, gbtModel.featureImportances))\n",
    "\n",
    "df = pd.DataFrame.from_dict(json_normalize(jdata), orient='columns')\n",
    "\n",
    "dfsum=pd.melt(df)# Count Plot (a.k.a. Bar Plot)\n",
    "\n",
    "\n",
    "dfsum['value'] *= 100\n",
    "\n",
    "ax = dfsum.plot(kind='barh')\n",
    "ax.set_xlabel('importance (%)')\n",
    "ax.set_ylabel(\"feature\")\n",
    "ax.set_yticklabels(dfsum.variable)"
   ]
  },
  {
   "cell_type": "code",
   "execution_count": 172,
   "metadata": {},
   "outputs": [
    {
     "data": {
      "text/html": [
       "<div>\n",
       "<style scoped>\n",
       "    .dataframe tbody tr th:only-of-type {\n",
       "        vertical-align: middle;\n",
       "    }\n",
       "\n",
       "    .dataframe tbody tr th {\n",
       "        vertical-align: top;\n",
       "    }\n",
       "\n",
       "    .dataframe thead th {\n",
       "        text-align: right;\n",
       "    }\n",
       "</style>\n",
       "<table border=\"1\" class=\"dataframe\">\n",
       "  <thead>\n",
       "    <tr style=\"text-align: right;\">\n",
       "      <th></th>\n",
       "      <th>_c0</th>\n",
       "      <th>Day</th>\n",
       "      <th>Month</th>\n",
       "      <th>Season</th>\n",
       "      <th>Weekday</th>\n",
       "      <th>Daily Weather</th>\n",
       "      <th>Daily Weather (Past)</th>\n",
       "      <th>Humidity</th>\n",
       "      <th>Humidity (Past)</th>\n",
       "      <th>Windspeed</th>\n",
       "      <th>Windspeed (Past)</th>\n",
       "      <th>Apparent Temperature (Avg)</th>\n",
       "      <th>Apparent Temperature (Avg) (Past)</th>\n",
       "      <th>Rented Bikes</th>\n",
       "      <th>Rented Bikes (Future)</th>\n",
       "      <th>label_x</th>\n",
       "      <th>prediction</th>\n",
       "      <th>label_y</th>\n",
       "    </tr>\n",
       "  </thead>\n",
       "  <tbody>\n",
       "    <tr>\n",
       "      <th>0</th>\n",
       "      <td>0</td>\n",
       "      <td>277</td>\n",
       "      <td>10</td>\n",
       "      <td>3</td>\n",
       "      <td>4</td>\n",
       "      <td>6</td>\n",
       "      <td>2</td>\n",
       "      <td>0.88</td>\n",
       "      <td>0.76</td>\n",
       "      <td>6.55</td>\n",
       "      <td>6.33</td>\n",
       "      <td>57.905</td>\n",
       "      <td>57.420</td>\n",
       "      <td>1</td>\n",
       "      <td>19</td>\n",
       "      <td>19</td>\n",
       "      <td>19.187206</td>\n",
       "      <td>19</td>\n",
       "    </tr>\n",
       "    <tr>\n",
       "      <th>1</th>\n",
       "      <td>1</td>\n",
       "      <td>291</td>\n",
       "      <td>10</td>\n",
       "      <td>3</td>\n",
       "      <td>4</td>\n",
       "      <td>2</td>\n",
       "      <td>2</td>\n",
       "      <td>0.80</td>\n",
       "      <td>0.90</td>\n",
       "      <td>6.87</td>\n",
       "      <td>2.22</td>\n",
       "      <td>50.035</td>\n",
       "      <td>53.700</td>\n",
       "      <td>19</td>\n",
       "      <td>24</td>\n",
       "      <td>24</td>\n",
       "      <td>23.772059</td>\n",
       "      <td>24</td>\n",
       "    </tr>\n",
       "    <tr>\n",
       "      <th>2</th>\n",
       "      <td>2</td>\n",
       "      <td>292</td>\n",
       "      <td>10</td>\n",
       "      <td>3</td>\n",
       "      <td>5</td>\n",
       "      <td>8</td>\n",
       "      <td>2</td>\n",
       "      <td>0.80</td>\n",
       "      <td>0.80</td>\n",
       "      <td>3.14</td>\n",
       "      <td>6.87</td>\n",
       "      <td>51.435</td>\n",
       "      <td>50.035</td>\n",
       "      <td>24</td>\n",
       "      <td>5</td>\n",
       "      <td>5</td>\n",
       "      <td>4.361437</td>\n",
       "      <td>5</td>\n",
       "    </tr>\n",
       "    <tr>\n",
       "      <th>3</th>\n",
       "      <td>3</td>\n",
       "      <td>293</td>\n",
       "      <td>10</td>\n",
       "      <td>3</td>\n",
       "      <td>6</td>\n",
       "      <td>8</td>\n",
       "      <td>8</td>\n",
       "      <td>0.80</td>\n",
       "      <td>0.80</td>\n",
       "      <td>3.64</td>\n",
       "      <td>3.14</td>\n",
       "      <td>55.035</td>\n",
       "      <td>51.435</td>\n",
       "      <td>5</td>\n",
       "      <td>12</td>\n",
       "      <td>12</td>\n",
       "      <td>7.016115</td>\n",
       "      <td>12</td>\n",
       "    </tr>\n",
       "    <tr>\n",
       "      <th>4</th>\n",
       "      <td>4</td>\n",
       "      <td>294</td>\n",
       "      <td>10</td>\n",
       "      <td>3</td>\n",
       "      <td>7</td>\n",
       "      <td>8</td>\n",
       "      <td>8</td>\n",
       "      <td>0.80</td>\n",
       "      <td>0.80</td>\n",
       "      <td>4.17</td>\n",
       "      <td>3.64</td>\n",
       "      <td>53.105</td>\n",
       "      <td>55.035</td>\n",
       "      <td>12</td>\n",
       "      <td>22</td>\n",
       "      <td>22</td>\n",
       "      <td>22.630429</td>\n",
       "      <td>22</td>\n",
       "    </tr>\n",
       "  </tbody>\n",
       "</table>\n",
       "</div>"
      ],
      "text/plain": [
       "   _c0  Day  Month  Season  Weekday  Daily Weather  Daily Weather (Past)  \\\n",
       "0    0  277     10       3        4              6                     2   \n",
       "1    1  291     10       3        4              2                     2   \n",
       "2    2  292     10       3        5              8                     2   \n",
       "3    3  293     10       3        6              8                     8   \n",
       "4    4  294     10       3        7              8                     8   \n",
       "\n",
       "   Humidity  Humidity (Past)  Windspeed  Windspeed (Past)  \\\n",
       "0      0.88             0.76       6.55              6.33   \n",
       "1      0.80             0.90       6.87              2.22   \n",
       "2      0.80             0.80       3.14              6.87   \n",
       "3      0.80             0.80       3.64              3.14   \n",
       "4      0.80             0.80       4.17              3.64   \n",
       "\n",
       "   Apparent Temperature (Avg)  Apparent Temperature (Avg) (Past)  \\\n",
       "0                      57.905                             57.420   \n",
       "1                      50.035                             53.700   \n",
       "2                      51.435                             50.035   \n",
       "3                      55.035                             51.435   \n",
       "4                      53.105                             55.035   \n",
       "\n",
       "   Rented Bikes  Rented Bikes (Future)  label_x  prediction  label_y  \n",
       "0             1                     19       19   19.187206       19  \n",
       "1            19                     24       24   23.772059       24  \n",
       "2            24                      5        5    4.361437        5  \n",
       "3             5                     12       12    7.016115       12  \n",
       "4            12                     22       22   22.630429       22  "
      ]
     },
     "execution_count": 172,
     "metadata": {},
     "output_type": "execute_result"
    }
   ],
   "source": [
    "output_tr_bis = pd.merge(pred_tr_test,pred_tr_training, how='outer').sort_values('Day', ascending=True)\n",
    "output_tr = pd.merge(df_bis, output_tr_bis, how='outer', on='Day')\n",
    "output_tr.head()"
   ]
  },
  {
   "cell_type": "code",
   "execution_count": null,
   "metadata": {},
   "outputs": [],
   "source": [
    "plt.figure(figsize=(26,8))\n",
    "\n",
    "plt.subplot(131)\n",
    "plt.scatter(output_tr.values[:,10], output_tr.values[:,2], color = 'blue',label='Actual Value')  \n",
    "plt.legend()\n",
    "plt.xticks(np.arange(0, 1000, step=100))\n",
    "plt.yticks(np.arange(0, 2000, step=100))\n",
    "plt.title(\"Actual data\")\n",
    "plt.ylabel(\"predicted row id\")\n",
    "plt.xlabel(\"Usage value\")\n",
    "\n",
    "\n",
    "\n",
    "plt.subplot(132)\n",
    "plt.scatter(output_tr.values[:,0], output_tr.values[:,2], color = 'red',label='Real future Value') \n",
    "plt.legend()\n",
    "plt.xticks(np.arange(0, 1000, step=100))\n",
    "plt.yticks(np.arange(0, 2000, step=100))\n",
    "plt.title(\"Grdient boosted regression\")\n",
    "plt.ylabel(\"predicted row id\")\n",
    "plt.xlabel(\"Usage value\")\n",
    "\n",
    "plt.show()"
   ]
  },
  {
   "cell_type": "code",
   "execution_count": 1265,
   "metadata": {},
   "outputs": [
    {
     "data": {
      "text/plain": [
       "<seaborn.axisgrid.FacetGrid at 0x1a26e5afd0>"
      ]
     },
     "execution_count": 1265,
     "metadata": {},
     "output_type": "execute_result"
    },
    {
     "data": {
      "image/png": "[encoded data removed]",
      "text/plain": [
       "<Figure size 360x360 with 1 Axes>"
      ]
     },
     "metadata": {
      "needs_background": "light"
     },
     "output_type": "display_data"
    }
   ],
   "source": []
  },
  {
   "cell_type": "code",
   "execution_count": 175,
   "metadata": {},
   "outputs": [
    {
     "data": {
      "text/plain": [
       "<matplotlib.axes._subplots.AxesSubplot at 0x2019f374e0>"
      ]
     },
     "execution_count": 175,
     "metadata": {},
     "output_type": "execute_result"
    },
    {
     "data": {
      "image/png": "[encoded data removed]",
      "text/plain": [
       "<Figure size 432x288 with 2 Axes>"
      ]
     },
     "metadata": {
      "needs_background": "light"
     },
     "output_type": "display_data"
    }
   ],
   "source": [
    "# Calculate correlations\n",
    "heat_tr=output_tr.loc[:,['Rented Bikes','prediction','Rented Bikes (Future)']]\n",
    "heat_tr= heat_tr.rename(index=str, columns={\"Rented Bikes\": \"current bike usage\", \"Rented Bikes (Future)\": \"real future usage\"})\n",
    "corr = heat_tr.corr()\n",
    " \n",
    "# Heatmap\n",
    "sns.heatmap(corr)\n",
    "\n",
    "\n",
    "\n"
   ]
  },
  {
   "cell_type": "code",
   "execution_count": 174,
   "metadata": {},
   "outputs": [
    {
     "data": {
      "text/plain": [
       "<seaborn.axisgrid.FacetGrid at 0x2019b4d6d8>"
      ]
     },
     "execution_count": 174,
     "metadata": {},
     "output_type": "execute_result"
    },
    {
     "data": {
      "image/png": "[encoded data removed]",
      "text/plain": [
       "<Figure size 360x360 with 1 Axes>"
      ]
     },
     "metadata": {
      "needs_background": "light"
     },
     "output_type": "display_data"
    }
   ],
   "source": [
    "sns.lmplot(x='prediction', y='real future usage', data=heat_tr)"
   ]
  },
  {
   "cell_type": "code",
   "execution_count": 1267,
   "metadata": {},
   "outputs": [],
   "source": [
    "x1 = output_tr.values[:,1].astype(int) #day\n",
    "x3 = pred_tr_training.values[:,2].astype(int) #day\n",
    "x2 = pred_tr_test.values[:,2].astype(int) #day\n",
    "\n",
    "\n",
    "y1 = output_tr.loc[:,'label_x'] #actual\n",
    "y3 = pred_tr_training.values[:,0].astype(int) #prediction train\n",
    "y2 = pred_tr_test.values[:,0] #prediction test\n",
    "\n",
    "\n",
    "\n",
    "# output to static HTML file\n",
    "output_file(\"GradientBooseted.html\")\n",
    "p = figure(\n",
    "   tools=\"pan,box_zoom,wheel_zoom,reset,save\",\n",
    "    title=\"Gradient-boosted tree Prediction\",\n",
    "    y_range=[1, 850],\n",
    "    x_range=[0, 1600],\n",
    "   x_axis_label='Days', y_axis_label='Frequency',\n",
    "    plot_width=2000, plot_height=350,\n",
    "    x_axis_type=None,\n",
    "    toolbar_location=\"left\"\n",
    ")\n",
    "#set xticks\n",
    "tickerx = SingleIntervalTicker(interval=1, num_minor_ticks=1)\n",
    "xaxis = LinearAxis(ticker=tickerx)\n",
    "p.add_layout(xaxis, 'below')\n",
    "# add a line renderer with legend and line thickness\n",
    "p.ray(x=1212, y=0, length=800, angle=1.57079633, color='purple')\n",
    "p.line(x1, y1, legend=\"Actual\", line_color=\"green\")\n",
    "p.line(x2, y2, legend=\"Predicted Test\", line_color=\"blue\")\n",
    "p.line(x3, y3, legend=\"Predicted Training\", line_color=\"red\")\n",
    "p.xaxis.major_label_orientation = 'vertical'\n",
    "# show the results\n",
    "show(p)\n"
   ]
  },
  {
   "cell_type": "code",
   "execution_count": 229,
   "metadata": {},
   "outputs": [
    {
     "data": {
      "image/png": "[encoded data removed]",
      "text/plain": [
       "<Figure size 1872x576 with 1 Axes>"
      ]
     },
     "metadata": {
      "needs_background": "light"
     },
     "output_type": "display_data"
    }
   ],
   "source": [
    "plt.figure(figsize=(26,8))\n",
    "plt.subplot(121)\n",
    "plt.scatter(output_tr.values[:,0], output_tr.values[:,2], color = 'red',label='Prediction') \n",
    "plt.scatter(output_tr.values[:,10], output_tr.values[:,2], color = 'blue',label='Real future value')\n",
    "plt.legend()\n",
    "plt.yticks(np.arange(0, 2000, step=100))\n",
    "plt.title(\"Gradient boosted\")\n",
    "plt.ylabel(\"predicted row id\")\n",
    "plt.xlabel(\"Usage value\")\n",
    "plt.show()"
   ]
  },
  {
   "cell_type": "code",
   "execution_count": 1293,
   "metadata": {},
   "outputs": [],
   "source": [
    "pandaDf = trainingData.toPandas()\n",
    "\n",
    "X = pandaDf['features'].values.reshape(-1,1)\n",
    "y = pandaDf['label'].values.reshape(-1,1)\n",
    "\n"
   ]
  },
  {
   "cell_type": "markdown",
   "metadata": {},
   "source": [
    "# Multi-layer perceptron"
   ]
  },
  {
   "cell_type": "code",
   "execution_count": 1294,
   "metadata": {},
   "outputs": [
    {
     "ename": "ValueError",
     "evalue": "setting an array element with a sequence.",
     "output_type": "error",
     "traceback": [
      "\u001b[0;31m---------------------------------------------------------------------------\u001b[0m",
      "\u001b[0;31mValueError\u001b[0m                                Traceback (most recent call last)",
      "\u001b[0;32m<ipython-input-1294-ed8e0cfab2ca>\u001b[0m in \u001b[0;36m<module>\u001b[0;34m\u001b[0m\n\u001b[1;32m     19\u001b[0m \u001b[0;34m\u001b[0m\u001b[0m\n\u001b[1;32m     20\u001b[0m \u001b[0mstart\u001b[0m \u001b[0;34m=\u001b[0m \u001b[0mdt\u001b[0m\u001b[0;34m.\u001b[0m\u001b[0mdatetime\u001b[0m\u001b[0;34m.\u001b[0m\u001b[0mnow\u001b[0m\u001b[0;34m(\u001b[0m\u001b[0;34m)\u001b[0m\u001b[0;34m\u001b[0m\u001b[0m\n\u001b[0;32m---> 21\u001b[0;31m \u001b[0mnn_1_10\u001b[0m\u001b[0;34m.\u001b[0m\u001b[0mfit\u001b[0m\u001b[0;34m(\u001b[0m\u001b[0mX\u001b[0m\u001b[0;34m,\u001b[0m \u001b[0my\u001b[0m\u001b[0;34m)\u001b[0m\u001b[0;34m\u001b[0m\u001b[0m\n\u001b[0m\u001b[1;32m     22\u001b[0m \u001b[0mend\u001b[0m \u001b[0;34m=\u001b[0m \u001b[0mdt\u001b[0m\u001b[0;34m.\u001b[0m\u001b[0mdatetime\u001b[0m\u001b[0;34m.\u001b[0m\u001b[0mnow\u001b[0m\u001b[0;34m(\u001b[0m\u001b[0;34m)\u001b[0m\u001b[0;34m\u001b[0m\u001b[0m\n\u001b[1;32m     23\u001b[0m \u001b[0;34m\u001b[0m\u001b[0m\n",
      "\u001b[0;32m/anaconda3/envs/geotwo/lib/python3.5/site-packages/sklearn/neural_network/multilayer_perceptron.py\u001b[0m in \u001b[0;36mfit\u001b[0;34m(self, X, y)\u001b[0m\n\u001b[1;32m    975\u001b[0m         \"\"\"\n\u001b[1;32m    976\u001b[0m         return self._fit(X, y, incremental=(self.warm_start and\n\u001b[0;32m--> 977\u001b[0;31m                                             hasattr(self, \"classes_\")))\n\u001b[0m\u001b[1;32m    978\u001b[0m \u001b[0;34m\u001b[0m\u001b[0m\n\u001b[1;32m    979\u001b[0m     \u001b[0;34m@\u001b[0m\u001b[0mproperty\u001b[0m\u001b[0;34m\u001b[0m\u001b[0m\n",
      "\u001b[0;32m/anaconda3/envs/geotwo/lib/python3.5/site-packages/sklearn/neural_network/multilayer_perceptron.py\u001b[0m in \u001b[0;36m_fit\u001b[0;34m(self, X, y, incremental)\u001b[0m\n\u001b[1;32m    322\u001b[0m                              hidden_layer_sizes)\n\u001b[1;32m    323\u001b[0m \u001b[0;34m\u001b[0m\u001b[0m\n\u001b[0;32m--> 324\u001b[0;31m         \u001b[0mX\u001b[0m\u001b[0;34m,\u001b[0m \u001b[0my\u001b[0m \u001b[0;34m=\u001b[0m \u001b[0mself\u001b[0m\u001b[0;34m.\u001b[0m\u001b[0m_validate_input\u001b[0m\u001b[0;34m(\u001b[0m\u001b[0mX\u001b[0m\u001b[0;34m,\u001b[0m \u001b[0my\u001b[0m\u001b[0;34m,\u001b[0m \u001b[0mincremental\u001b[0m\u001b[0;34m)\u001b[0m\u001b[0;34m\u001b[0m\u001b[0m\n\u001b[0m\u001b[1;32m    325\u001b[0m         \u001b[0mn_samples\u001b[0m\u001b[0;34m,\u001b[0m \u001b[0mn_features\u001b[0m \u001b[0;34m=\u001b[0m \u001b[0mX\u001b[0m\u001b[0;34m.\u001b[0m\u001b[0mshape\u001b[0m\u001b[0;34m\u001b[0m\u001b[0m\n\u001b[1;32m    326\u001b[0m \u001b[0;34m\u001b[0m\u001b[0m\n",
      "\u001b[0;32m/anaconda3/envs/geotwo/lib/python3.5/site-packages/sklearn/neural_network/multilayer_perceptron.py\u001b[0m in \u001b[0;36m_validate_input\u001b[0;34m(self, X, y, incremental)\u001b[0m\n\u001b[1;32m    912\u001b[0m     \u001b[0;32mdef\u001b[0m \u001b[0m_validate_input\u001b[0m\u001b[0;34m(\u001b[0m\u001b[0mself\u001b[0m\u001b[0;34m,\u001b[0m \u001b[0mX\u001b[0m\u001b[0;34m,\u001b[0m \u001b[0my\u001b[0m\u001b[0;34m,\u001b[0m \u001b[0mincremental\u001b[0m\u001b[0;34m)\u001b[0m\u001b[0;34m:\u001b[0m\u001b[0;34m\u001b[0m\u001b[0m\n\u001b[1;32m    913\u001b[0m         X, y = check_X_y(X, y, accept_sparse=['csr', 'csc', 'coo'],\n\u001b[0;32m--> 914\u001b[0;31m                          multi_output=True)\n\u001b[0m\u001b[1;32m    915\u001b[0m         \u001b[0;32mif\u001b[0m \u001b[0my\u001b[0m\u001b[0;34m.\u001b[0m\u001b[0mndim\u001b[0m \u001b[0;34m==\u001b[0m \u001b[0;36m2\u001b[0m \u001b[0;32mand\u001b[0m \u001b[0my\u001b[0m\u001b[0;34m.\u001b[0m\u001b[0mshape\u001b[0m\u001b[0;34m[\u001b[0m\u001b[0;36m1\u001b[0m\u001b[0;34m]\u001b[0m \u001b[0;34m==\u001b[0m \u001b[0;36m1\u001b[0m\u001b[0;34m:\u001b[0m\u001b[0;34m\u001b[0m\u001b[0m\n\u001b[1;32m    916\u001b[0m             \u001b[0my\u001b[0m \u001b[0;34m=\u001b[0m \u001b[0mcolumn_or_1d\u001b[0m\u001b[0;34m(\u001b[0m\u001b[0my\u001b[0m\u001b[0;34m,\u001b[0m \u001b[0mwarn\u001b[0m\u001b[0;34m=\u001b[0m\u001b[0;32mTrue\u001b[0m\u001b[0;34m)\u001b[0m\u001b[0;34m\u001b[0m\u001b[0m\n",
      "\u001b[0;32m/anaconda3/envs/geotwo/lib/python3.5/site-packages/sklearn/utils/validation.py\u001b[0m in \u001b[0;36mcheck_X_y\u001b[0;34m(X, y, accept_sparse, accept_large_sparse, dtype, order, copy, force_all_finite, ensure_2d, allow_nd, multi_output, ensure_min_samples, ensure_min_features, y_numeric, warn_on_dtype, estimator)\u001b[0m\n\u001b[1;32m    754\u001b[0m                     \u001b[0mensure_min_features\u001b[0m\u001b[0;34m=\u001b[0m\u001b[0mensure_min_features\u001b[0m\u001b[0;34m,\u001b[0m\u001b[0;34m\u001b[0m\u001b[0m\n\u001b[1;32m    755\u001b[0m                     \u001b[0mwarn_on_dtype\u001b[0m\u001b[0;34m=\u001b[0m\u001b[0mwarn_on_dtype\u001b[0m\u001b[0;34m,\u001b[0m\u001b[0;34m\u001b[0m\u001b[0m\n\u001b[0;32m--> 756\u001b[0;31m                     estimator=estimator)\n\u001b[0m\u001b[1;32m    757\u001b[0m     \u001b[0;32mif\u001b[0m \u001b[0mmulti_output\u001b[0m\u001b[0;34m:\u001b[0m\u001b[0;34m\u001b[0m\u001b[0m\n\u001b[1;32m    758\u001b[0m         y = check_array(y, 'csr', force_all_finite=True, ensure_2d=False,\n",
      "\u001b[0;32m/anaconda3/envs/geotwo/lib/python3.5/site-packages/sklearn/utils/validation.py\u001b[0m in \u001b[0;36mcheck_array\u001b[0;34m(array, accept_sparse, accept_large_sparse, dtype, order, copy, force_all_finite, ensure_2d, allow_nd, ensure_min_samples, ensure_min_features, warn_on_dtype, estimator)\u001b[0m\n\u001b[1;32m    525\u001b[0m             \u001b[0;32mtry\u001b[0m\u001b[0;34m:\u001b[0m\u001b[0;34m\u001b[0m\u001b[0m\n\u001b[1;32m    526\u001b[0m                 \u001b[0mwarnings\u001b[0m\u001b[0;34m.\u001b[0m\u001b[0msimplefilter\u001b[0m\u001b[0;34m(\u001b[0m\u001b[0;34m'error'\u001b[0m\u001b[0;34m,\u001b[0m \u001b[0mComplexWarning\u001b[0m\u001b[0;34m)\u001b[0m\u001b[0;34m\u001b[0m\u001b[0m\n\u001b[0;32m--> 527\u001b[0;31m                 \u001b[0marray\u001b[0m \u001b[0;34m=\u001b[0m \u001b[0mnp\u001b[0m\u001b[0;34m.\u001b[0m\u001b[0masarray\u001b[0m\u001b[0;34m(\u001b[0m\u001b[0marray\u001b[0m\u001b[0;34m,\u001b[0m \u001b[0mdtype\u001b[0m\u001b[0;34m=\u001b[0m\u001b[0mdtype\u001b[0m\u001b[0;34m,\u001b[0m \u001b[0morder\u001b[0m\u001b[0;34m=\u001b[0m\u001b[0morder\u001b[0m\u001b[0;34m)\u001b[0m\u001b[0;34m\u001b[0m\u001b[0m\n\u001b[0m\u001b[1;32m    528\u001b[0m             \u001b[0;32mexcept\u001b[0m \u001b[0mComplexWarning\u001b[0m\u001b[0;34m:\u001b[0m\u001b[0;34m\u001b[0m\u001b[0m\n\u001b[1;32m    529\u001b[0m                 raise ValueError(\"Complex data not supported\\n\"\n",
      "\u001b[0;32m/anaconda3/envs/geotwo/lib/python3.5/site-packages/numpy/core/numeric.py\u001b[0m in \u001b[0;36masarray\u001b[0;34m(a, dtype, order)\u001b[0m\n",
      "\u001b[0;31mValueError\u001b[0m: setting an array element with a sequence."
     ]
    }
   ],
   "source": [
    "from sklearn.neural_network import MLPClassifier\n",
    "import datetime as dt\n",
    "\n",
    "\n",
    "nn_1_10 = MLPClassifier(hidden_layer_sizes=(10),\n",
    "                   activation='logistic',\n",
    "                   solver='sgd',\n",
    "                   alpha=0.001,\n",
    "                   batch_size=50,\n",
    "                   learning_rate='constant',\n",
    "#                   learning_rate='invscaling',\n",
    "                   learning_rate_init=0.001,\n",
    "#                   power_t=0.00001,\n",
    "                   max_iter=1000,\n",
    "                   verbose=True,\n",
    "                   random_state=1)\n",
    "\n",
    "\n",
    "\n",
    "start = dt.datetime.now()\n",
    "nn_1_10.fit(X, y)\n",
    "end = dt.datetime.now()\n",
    "\n",
    "print('It took {} to train the neural network'.format(end-start))\n",
    "\n",
    "y_train_pred = nn_1_10.predict(trainingData)\n",
    "acc = np.sum(y_train == y_train_pred, axis=0) / X_train.shape[0]\n",
    "print('Training accuracy: %.2f%%' % (acc * 100))\n",
    "\n",
    "y_test_pred = nn_1_10.predict(testData)\n",
    "acc = np.sum(y_test == y_test_pred, axis=0) / X_test.shape[0]\n",
    "print('Test accuracy: %.2f%%' % (acc * 100))\n"
   ]
  }
 ],
 "metadata": {
  "kernelspec": {
   "display_name": "py_36_env",
   "language": "python",
   "name": "py_36_env"
  },
  "language_info": {
   "codemirror_mode": {
    "name": "ipython",
    "version": 3
   },
   "file_extension": ".py",
   "mimetype": "text/x-python",
   "name": "python",
   "nbconvert_exporter": "python",
   "pygments_lexer": "ipython3",
   "version": "3.5.5"
  }
 },
 "nbformat": 4,
 "nbformat_minor": 2
}
