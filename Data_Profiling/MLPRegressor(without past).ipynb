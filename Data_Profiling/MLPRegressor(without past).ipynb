{
 "cells": [
  {
   "cell_type": "code",
   "execution_count": 1,
   "metadata": {},
   "outputs": [],
   "source": [
    "#required imports\n",
    "from sklearn.neural_network import MLPRegressor\n",
    "import numpy as np\n",
    "import matplotlib.pyplot as plt\n",
    "import pandas as pd\n",
    "import seaborn as sn\n",
    "from sklearn.preprocessing import LabelEncoder\n",
    "from sklearn import preprocessing\n",
    "from sklearn.preprocessing import StandardScaler\n",
    "from sklearn.preprocessing import Normalizer\n",
    "from sklearn.model_selection import train_test_split\n",
    "from sklearn.metrics import mean_squared_error  \n",
    "from math import sqrt "
   ]
  },
  {
   "cell_type": "code",
   "execution_count": 2,
   "metadata": {
    "scrolled": false
   },
   "outputs": [
    {
     "data": {
      "text/html": [
       "<div>\n",
       "<style scoped>\n",
       "    .dataframe tbody tr th:only-of-type {\n",
       "        vertical-align: middle;\n",
       "    }\n",
       "\n",
       "    .dataframe tbody tr th {\n",
       "        vertical-align: top;\n",
       "    }\n",
       "\n",
       "    .dataframe thead th {\n",
       "        text-align: right;\n",
       "    }\n",
       "</style>\n",
       "<table border=\"1\" class=\"dataframe\">\n",
       "  <thead>\n",
       "    <tr style=\"text-align: right;\">\n",
       "      <th></th>\n",
       "      <th>Month</th>\n",
       "      <th>Season</th>\n",
       "      <th>Weekday</th>\n",
       "      <th>Holiday</th>\n",
       "      <th>Daily Weather</th>\n",
       "      <th>Daily Weather (Past)</th>\n",
       "      <th>Humidity</th>\n",
       "      <th>Humidity (Past)</th>\n",
       "      <th>Windspeed</th>\n",
       "      <th>Windspeed (Past)</th>\n",
       "      <th>Apparent Temperature (Avg)</th>\n",
       "      <th>Apparent Temperature (Avg) (Past)</th>\n",
       "      <th>Rented Bikes</th>\n",
       "      <th>Rented Bikes (Future)</th>\n",
       "    </tr>\n",
       "  </thead>\n",
       "  <tbody>\n",
       "    <tr>\n",
       "      <th>0</th>\n",
       "      <td>January</td>\n",
       "      <td>Winter</td>\n",
       "      <td>Monday</td>\n",
       "      <td>False</td>\n",
       "      <td>partly-cloudy-day</td>\n",
       "      <td>fog</td>\n",
       "      <td>0.88</td>\n",
       "      <td>0.94</td>\n",
       "      <td>1.59</td>\n",
       "      <td>0.55</td>\n",
       "      <td>46.740</td>\n",
       "      <td>36.295</td>\n",
       "      <td>281</td>\n",
       "      <td>279</td>\n",
       "    </tr>\n",
       "    <tr>\n",
       "      <th>1</th>\n",
       "      <td>January</td>\n",
       "      <td>Winter</td>\n",
       "      <td>Tuesday</td>\n",
       "      <td>False</td>\n",
       "      <td>partly-cloudy-day</td>\n",
       "      <td>partly-cloudy-day</td>\n",
       "      <td>0.86</td>\n",
       "      <td>0.88</td>\n",
       "      <td>2.07</td>\n",
       "      <td>1.59</td>\n",
       "      <td>42.150</td>\n",
       "      <td>46.740</td>\n",
       "      <td>279</td>\n",
       "      <td>274</td>\n",
       "    </tr>\n",
       "    <tr>\n",
       "      <th>2</th>\n",
       "      <td>January</td>\n",
       "      <td>Winter</td>\n",
       "      <td>Wednesday</td>\n",
       "      <td>False</td>\n",
       "      <td>clear-day</td>\n",
       "      <td>partly-cloudy-day</td>\n",
       "      <td>0.86</td>\n",
       "      <td>0.86</td>\n",
       "      <td>4.13</td>\n",
       "      <td>2.07</td>\n",
       "      <td>45.450</td>\n",
       "      <td>42.150</td>\n",
       "      <td>274</td>\n",
       "      <td>161</td>\n",
       "    </tr>\n",
       "    <tr>\n",
       "      <th>3</th>\n",
       "      <td>January</td>\n",
       "      <td>Winter</td>\n",
       "      <td>Thursday</td>\n",
       "      <td>False</td>\n",
       "      <td>rain</td>\n",
       "      <td>clear-day</td>\n",
       "      <td>0.87</td>\n",
       "      <td>0.86</td>\n",
       "      <td>3.60</td>\n",
       "      <td>4.13</td>\n",
       "      <td>46.200</td>\n",
       "      <td>45.450</td>\n",
       "      <td>161</td>\n",
       "      <td>270</td>\n",
       "    </tr>\n",
       "    <tr>\n",
       "      <th>4</th>\n",
       "      <td>January</td>\n",
       "      <td>Winter</td>\n",
       "      <td>Friday</td>\n",
       "      <td>False</td>\n",
       "      <td>partly-cloudy-day</td>\n",
       "      <td>rain</td>\n",
       "      <td>0.81</td>\n",
       "      <td>0.87</td>\n",
       "      <td>7.43</td>\n",
       "      <td>3.60</td>\n",
       "      <td>56.085</td>\n",
       "      <td>46.200</td>\n",
       "      <td>270</td>\n",
       "      <td>62</td>\n",
       "    </tr>\n",
       "  </tbody>\n",
       "</table>\n",
       "</div>"
      ],
      "text/plain": [
       "     Month  Season    Weekday  Holiday      Daily Weather  \\\n",
       "0  January  Winter     Monday    False  partly-cloudy-day   \n",
       "1  January  Winter    Tuesday    False  partly-cloudy-day   \n",
       "2  January  Winter  Wednesday    False          clear-day   \n",
       "3  January  Winter   Thursday    False               rain   \n",
       "4  January  Winter     Friday    False  partly-cloudy-day   \n",
       "\n",
       "  Daily Weather (Past)  Humidity  Humidity (Past)  Windspeed  \\\n",
       "0                  fog      0.88             0.94       1.59   \n",
       "1    partly-cloudy-day      0.86             0.88       2.07   \n",
       "2    partly-cloudy-day      0.86             0.86       4.13   \n",
       "3            clear-day      0.87             0.86       3.60   \n",
       "4                 rain      0.81             0.87       7.43   \n",
       "\n",
       "   Windspeed (Past)  Apparent Temperature (Avg)  \\\n",
       "0              0.55                      46.740   \n",
       "1              1.59                      42.150   \n",
       "2              2.07                      45.450   \n",
       "3              4.13                      46.200   \n",
       "4              3.60                      56.085   \n",
       "\n",
       "   Apparent Temperature (Avg) (Past)  Rented Bikes  Rented Bikes (Future)  \n",
       "0                             36.295           281                    279  \n",
       "1                             46.740           279                    274  \n",
       "2                             42.150           274                    161  \n",
       "3                             45.450           161                    270  \n",
       "4                             46.200           270                     62  "
      ]
     },
     "execution_count": 2,
     "metadata": {},
     "output_type": "execute_result"
    }
   ],
   "source": [
    "#load features\n",
    "features = pd.read_csv(\"features.csv\")\n",
    "features.head()"
   ]
  },
  {
   "cell_type": "code",
   "execution_count": 4,
   "metadata": {
    "scrolled": true
   },
   "outputs": [],
   "source": [
    "#target variable\n",
    "y = features['Rented Bikes'].tolist()"
   ]
  },
  {
   "cell_type": "code",
   "execution_count": 5,
   "metadata": {},
   "outputs": [
    {
     "data": {
      "text/plain": [
       "1514"
      ]
     },
     "execution_count": 5,
     "metadata": {},
     "output_type": "execute_result"
    }
   ],
   "source": [
    "len(y)"
   ]
  },
  {
   "cell_type": "code",
   "execution_count": 7,
   "metadata": {},
   "outputs": [
    {
     "data": {
      "text/html": [
       "<div>\n",
       "<style scoped>\n",
       "    .dataframe tbody tr th:only-of-type {\n",
       "        vertical-align: middle;\n",
       "    }\n",
       "\n",
       "    .dataframe tbody tr th {\n",
       "        vertical-align: top;\n",
       "    }\n",
       "\n",
       "    .dataframe thead th {\n",
       "        text-align: right;\n",
       "    }\n",
       "</style>\n",
       "<table border=\"1\" class=\"dataframe\">\n",
       "  <thead>\n",
       "    <tr style=\"text-align: right;\">\n",
       "      <th></th>\n",
       "      <th>Month</th>\n",
       "      <th>Season</th>\n",
       "      <th>Weekday</th>\n",
       "      <th>Holiday</th>\n",
       "      <th>Daily Weather</th>\n",
       "      <th>Daily Weather (Past)</th>\n",
       "      <th>Humidity</th>\n",
       "      <th>Humidity (Past)</th>\n",
       "      <th>Windspeed</th>\n",
       "      <th>Windspeed (Past)</th>\n",
       "      <th>Apparent Temperature (Avg)</th>\n",
       "      <th>Apparent Temperature (Avg) (Past)</th>\n",
       "      <th>Rented Bikes</th>\n",
       "      <th>Rented Bikes (Future)</th>\n",
       "    </tr>\n",
       "  </thead>\n",
       "  <tbody>\n",
       "    <tr>\n",
       "      <th>0</th>\n",
       "      <td>January</td>\n",
       "      <td>Winter</td>\n",
       "      <td>Monday</td>\n",
       "      <td>0</td>\n",
       "      <td>partly-cloudy-day</td>\n",
       "      <td>fog</td>\n",
       "      <td>0.88</td>\n",
       "      <td>0.94</td>\n",
       "      <td>1.59</td>\n",
       "      <td>0.55</td>\n",
       "      <td>46.740</td>\n",
       "      <td>36.295</td>\n",
       "      <td>281</td>\n",
       "      <td>279</td>\n",
       "    </tr>\n",
       "    <tr>\n",
       "      <th>1</th>\n",
       "      <td>January</td>\n",
       "      <td>Winter</td>\n",
       "      <td>Tuesday</td>\n",
       "      <td>0</td>\n",
       "      <td>partly-cloudy-day</td>\n",
       "      <td>partly-cloudy-day</td>\n",
       "      <td>0.86</td>\n",
       "      <td>0.88</td>\n",
       "      <td>2.07</td>\n",
       "      <td>1.59</td>\n",
       "      <td>42.150</td>\n",
       "      <td>46.740</td>\n",
       "      <td>279</td>\n",
       "      <td>274</td>\n",
       "    </tr>\n",
       "    <tr>\n",
       "      <th>2</th>\n",
       "      <td>January</td>\n",
       "      <td>Winter</td>\n",
       "      <td>Wednesday</td>\n",
       "      <td>0</td>\n",
       "      <td>clear-day</td>\n",
       "      <td>partly-cloudy-day</td>\n",
       "      <td>0.86</td>\n",
       "      <td>0.86</td>\n",
       "      <td>4.13</td>\n",
       "      <td>2.07</td>\n",
       "      <td>45.450</td>\n",
       "      <td>42.150</td>\n",
       "      <td>274</td>\n",
       "      <td>161</td>\n",
       "    </tr>\n",
       "    <tr>\n",
       "      <th>3</th>\n",
       "      <td>January</td>\n",
       "      <td>Winter</td>\n",
       "      <td>Thursday</td>\n",
       "      <td>0</td>\n",
       "      <td>rain</td>\n",
       "      <td>clear-day</td>\n",
       "      <td>0.87</td>\n",
       "      <td>0.86</td>\n",
       "      <td>3.60</td>\n",
       "      <td>4.13</td>\n",
       "      <td>46.200</td>\n",
       "      <td>45.450</td>\n",
       "      <td>161</td>\n",
       "      <td>270</td>\n",
       "    </tr>\n",
       "    <tr>\n",
       "      <th>4</th>\n",
       "      <td>January</td>\n",
       "      <td>Winter</td>\n",
       "      <td>Friday</td>\n",
       "      <td>0</td>\n",
       "      <td>partly-cloudy-day</td>\n",
       "      <td>rain</td>\n",
       "      <td>0.81</td>\n",
       "      <td>0.87</td>\n",
       "      <td>7.43</td>\n",
       "      <td>3.60</td>\n",
       "      <td>56.085</td>\n",
       "      <td>46.200</td>\n",
       "      <td>270</td>\n",
       "      <td>62</td>\n",
       "    </tr>\n",
       "  </tbody>\n",
       "</table>\n",
       "</div>"
      ],
      "text/plain": [
       "     Month  Season    Weekday  Holiday      Daily Weather  \\\n",
       "0  January  Winter     Monday        0  partly-cloudy-day   \n",
       "1  January  Winter    Tuesday        0  partly-cloudy-day   \n",
       "2  January  Winter  Wednesday        0          clear-day   \n",
       "3  January  Winter   Thursday        0               rain   \n",
       "4  January  Winter     Friday        0  partly-cloudy-day   \n",
       "\n",
       "  Daily Weather (Past)  Humidity  Humidity (Past)  Windspeed  \\\n",
       "0                  fog      0.88             0.94       1.59   \n",
       "1    partly-cloudy-day      0.86             0.88       2.07   \n",
       "2    partly-cloudy-day      0.86             0.86       4.13   \n",
       "3            clear-day      0.87             0.86       3.60   \n",
       "4                 rain      0.81             0.87       7.43   \n",
       "\n",
       "   Windspeed (Past)  Apparent Temperature (Avg)  \\\n",
       "0              0.55                      46.740   \n",
       "1              1.59                      42.150   \n",
       "2              2.07                      45.450   \n",
       "3              4.13                      46.200   \n",
       "4              3.60                      56.085   \n",
       "\n",
       "   Apparent Temperature (Avg) (Past)  Rented Bikes  Rented Bikes (Future)  \n",
       "0                             36.295           281                    279  \n",
       "1                             46.740           279                    274  \n",
       "2                             42.150           274                    161  \n",
       "3                             45.450           161                    270  \n",
       "4                             46.200           270                     62  "
      ]
     },
     "execution_count": 7,
     "metadata": {},
     "output_type": "execute_result"
    }
   ],
   "source": [
    "#transorm non-numerical labels to numerical labels\n",
    "le = LabelEncoder()\n",
    "features.loc[:,'Holiday'] = le.fit_transform(features['Holiday'])\n",
    "features.head()"
   ]
  },
  {
   "cell_type": "code",
   "execution_count": 8,
   "metadata": {
    "scrolled": true
   },
   "outputs": [],
   "source": [
    "#transorm non-numerical labels to numerical labels\n",
    "cleanup_nums = {\"Month\":   {\"January\": 1, \"February\": 2, \"March\": 3, \"April\": 4, \"May\": 5, \"June\": 6, \"July\": 7, \"August\": 8, \"September\": 9, \"October\": 10, \"November\": 11, \"December\": 12},\n",
    "               \"Season\": {\"Spring\": 1, \"Summer\": 2, \"Autumn\": 3, \"Winter\": 4},\n",
    "               \"Weekday\": {\"Monday\": 1, \"Tuesday\": 2, \"Wednesday\": 3, \"Thursday\": 4,\n",
    "                                  \"Friday\": 5, \"Saturday\": 6, \"Sunday\":7 },\n",
    "               \"Daily Weather\": {\"clear-day\": 1, \"partly-cloudy-day\": 2,\"cloudy\":3,\"wind\":4, \"rain\": 5, \"fog\": 6, \"snow\": 7},\n",
    "               \"Daily Weather (Past)\": {\"clear-day\": 1, \"partly-cloudy-day\": 2,\"cloudy\":3,\"wind\":4, \"rain\": 5,\"fog\": 6, \"snow\": 7} }"
   ]
  },
  {
   "cell_type": "code",
   "execution_count": 9,
   "metadata": {},
   "outputs": [],
   "source": [
    "features.replace(cleanup_nums, inplace=True)"
   ]
  },
  {
   "cell_type": "code",
   "execution_count": 10,
   "metadata": {},
   "outputs": [
    {
     "data": {
      "text/html": [
       "<div>\n",
       "<style scoped>\n",
       "    .dataframe tbody tr th:only-of-type {\n",
       "        vertical-align: middle;\n",
       "    }\n",
       "\n",
       "    .dataframe tbody tr th {\n",
       "        vertical-align: top;\n",
       "    }\n",
       "\n",
       "    .dataframe thead th {\n",
       "        text-align: right;\n",
       "    }\n",
       "</style>\n",
       "<table border=\"1\" class=\"dataframe\">\n",
       "  <thead>\n",
       "    <tr style=\"text-align: right;\">\n",
       "      <th></th>\n",
       "      <th>Month</th>\n",
       "      <th>Season</th>\n",
       "      <th>Weekday</th>\n",
       "      <th>Holiday</th>\n",
       "      <th>Daily Weather</th>\n",
       "      <th>Daily Weather (Past)</th>\n",
       "      <th>Humidity</th>\n",
       "      <th>Humidity (Past)</th>\n",
       "      <th>Windspeed</th>\n",
       "      <th>Windspeed (Past)</th>\n",
       "      <th>Apparent Temperature (Avg)</th>\n",
       "      <th>Apparent Temperature (Avg) (Past)</th>\n",
       "      <th>Rented Bikes</th>\n",
       "      <th>Rented Bikes (Future)</th>\n",
       "    </tr>\n",
       "  </thead>\n",
       "  <tbody>\n",
       "    <tr>\n",
       "      <th>0</th>\n",
       "      <td>1</td>\n",
       "      <td>4</td>\n",
       "      <td>1</td>\n",
       "      <td>0</td>\n",
       "      <td>2</td>\n",
       "      <td>6</td>\n",
       "      <td>0.88</td>\n",
       "      <td>0.94</td>\n",
       "      <td>1.59</td>\n",
       "      <td>0.55</td>\n",
       "      <td>46.740</td>\n",
       "      <td>36.295</td>\n",
       "      <td>281</td>\n",
       "      <td>279</td>\n",
       "    </tr>\n",
       "    <tr>\n",
       "      <th>1</th>\n",
       "      <td>1</td>\n",
       "      <td>4</td>\n",
       "      <td>2</td>\n",
       "      <td>0</td>\n",
       "      <td>2</td>\n",
       "      <td>2</td>\n",
       "      <td>0.86</td>\n",
       "      <td>0.88</td>\n",
       "      <td>2.07</td>\n",
       "      <td>1.59</td>\n",
       "      <td>42.150</td>\n",
       "      <td>46.740</td>\n",
       "      <td>279</td>\n",
       "      <td>274</td>\n",
       "    </tr>\n",
       "    <tr>\n",
       "      <th>2</th>\n",
       "      <td>1</td>\n",
       "      <td>4</td>\n",
       "      <td>3</td>\n",
       "      <td>0</td>\n",
       "      <td>1</td>\n",
       "      <td>2</td>\n",
       "      <td>0.86</td>\n",
       "      <td>0.86</td>\n",
       "      <td>4.13</td>\n",
       "      <td>2.07</td>\n",
       "      <td>45.450</td>\n",
       "      <td>42.150</td>\n",
       "      <td>274</td>\n",
       "      <td>161</td>\n",
       "    </tr>\n",
       "    <tr>\n",
       "      <th>3</th>\n",
       "      <td>1</td>\n",
       "      <td>4</td>\n",
       "      <td>4</td>\n",
       "      <td>0</td>\n",
       "      <td>5</td>\n",
       "      <td>1</td>\n",
       "      <td>0.87</td>\n",
       "      <td>0.86</td>\n",
       "      <td>3.60</td>\n",
       "      <td>4.13</td>\n",
       "      <td>46.200</td>\n",
       "      <td>45.450</td>\n",
       "      <td>161</td>\n",
       "      <td>270</td>\n",
       "    </tr>\n",
       "    <tr>\n",
       "      <th>4</th>\n",
       "      <td>1</td>\n",
       "      <td>4</td>\n",
       "      <td>5</td>\n",
       "      <td>0</td>\n",
       "      <td>2</td>\n",
       "      <td>5</td>\n",
       "      <td>0.81</td>\n",
       "      <td>0.87</td>\n",
       "      <td>7.43</td>\n",
       "      <td>3.60</td>\n",
       "      <td>56.085</td>\n",
       "      <td>46.200</td>\n",
       "      <td>270</td>\n",
       "      <td>62</td>\n",
       "    </tr>\n",
       "  </tbody>\n",
       "</table>\n",
       "</div>"
      ],
      "text/plain": [
       "   Month  Season  Weekday  Holiday  Daily Weather  Daily Weather (Past)  \\\n",
       "0      1       4        1        0              2                     6   \n",
       "1      1       4        2        0              2                     2   \n",
       "2      1       4        3        0              1                     2   \n",
       "3      1       4        4        0              5                     1   \n",
       "4      1       4        5        0              2                     5   \n",
       "\n",
       "   Humidity  Humidity (Past)  Windspeed  Windspeed (Past)  \\\n",
       "0      0.88             0.94       1.59              0.55   \n",
       "1      0.86             0.88       2.07              1.59   \n",
       "2      0.86             0.86       4.13              2.07   \n",
       "3      0.87             0.86       3.60              4.13   \n",
       "4      0.81             0.87       7.43              3.60   \n",
       "\n",
       "   Apparent Temperature (Avg)  Apparent Temperature (Avg) (Past)  \\\n",
       "0                      46.740                             36.295   \n",
       "1                      42.150                             46.740   \n",
       "2                      45.450                             42.150   \n",
       "3                      46.200                             45.450   \n",
       "4                      56.085                             46.200   \n",
       "\n",
       "   Rented Bikes  Rented Bikes (Future)  \n",
       "0           281                    279  \n",
       "1           279                    274  \n",
       "2           274                    161  \n",
       "3           161                    270  \n",
       "4           270                     62  "
      ]
     },
     "execution_count": 10,
     "metadata": {},
     "output_type": "execute_result"
    }
   ],
   "source": [
    "features.head()"
   ]
  },
  {
   "cell_type": "code",
   "execution_count": 11,
   "metadata": {},
   "outputs": [
    {
     "data": {
      "text/plain": [
       "(1514, 14)"
      ]
     },
     "execution_count": 11,
     "metadata": {},
     "output_type": "execute_result"
    }
   ],
   "source": [
    "features.shape"
   ]
  },
  {
   "cell_type": "code",
   "execution_count": 12,
   "metadata": {},
   "outputs": [
    {
     "data": {
      "text/html": [
       "<div>\n",
       "<style scoped>\n",
       "    .dataframe tbody tr th:only-of-type {\n",
       "        vertical-align: middle;\n",
       "    }\n",
       "\n",
       "    .dataframe tbody tr th {\n",
       "        vertical-align: top;\n",
       "    }\n",
       "\n",
       "    .dataframe thead th {\n",
       "        text-align: right;\n",
       "    }\n",
       "</style>\n",
       "<table border=\"1\" class=\"dataframe\">\n",
       "  <thead>\n",
       "    <tr style=\"text-align: right;\">\n",
       "      <th></th>\n",
       "      <th>Month</th>\n",
       "      <th>Season</th>\n",
       "      <th>Weekday</th>\n",
       "      <th>Daily Weather</th>\n",
       "      <th>Humidity</th>\n",
       "      <th>Windspeed</th>\n",
       "      <th>Apparent Temperature (Avg)</th>\n",
       "      <th>Rented Bikes (Future)</th>\n",
       "    </tr>\n",
       "  </thead>\n",
       "  <tbody>\n",
       "    <tr>\n",
       "      <th>0</th>\n",
       "      <td>1</td>\n",
       "      <td>4</td>\n",
       "      <td>1</td>\n",
       "      <td>2</td>\n",
       "      <td>0.88</td>\n",
       "      <td>1.59</td>\n",
       "      <td>46.740</td>\n",
       "      <td>279</td>\n",
       "    </tr>\n",
       "    <tr>\n",
       "      <th>1</th>\n",
       "      <td>1</td>\n",
       "      <td>4</td>\n",
       "      <td>2</td>\n",
       "      <td>2</td>\n",
       "      <td>0.86</td>\n",
       "      <td>2.07</td>\n",
       "      <td>42.150</td>\n",
       "      <td>274</td>\n",
       "    </tr>\n",
       "    <tr>\n",
       "      <th>2</th>\n",
       "      <td>1</td>\n",
       "      <td>4</td>\n",
       "      <td>3</td>\n",
       "      <td>1</td>\n",
       "      <td>0.86</td>\n",
       "      <td>4.13</td>\n",
       "      <td>45.450</td>\n",
       "      <td>161</td>\n",
       "    </tr>\n",
       "    <tr>\n",
       "      <th>3</th>\n",
       "      <td>1</td>\n",
       "      <td>4</td>\n",
       "      <td>4</td>\n",
       "      <td>5</td>\n",
       "      <td>0.87</td>\n",
       "      <td>3.60</td>\n",
       "      <td>46.200</td>\n",
       "      <td>270</td>\n",
       "    </tr>\n",
       "    <tr>\n",
       "      <th>4</th>\n",
       "      <td>1</td>\n",
       "      <td>4</td>\n",
       "      <td>5</td>\n",
       "      <td>2</td>\n",
       "      <td>0.81</td>\n",
       "      <td>7.43</td>\n",
       "      <td>56.085</td>\n",
       "      <td>62</td>\n",
       "    </tr>\n",
       "  </tbody>\n",
       "</table>\n",
       "</div>"
      ],
      "text/plain": [
       "   Month  Season  Weekday  Daily Weather  Humidity  Windspeed  \\\n",
       "0      1       4        1              2      0.88       1.59   \n",
       "1      1       4        2              2      0.86       2.07   \n",
       "2      1       4        3              1      0.86       4.13   \n",
       "3      1       4        4              5      0.87       3.60   \n",
       "4      1       4        5              2      0.81       7.43   \n",
       "\n",
       "   Apparent Temperature (Avg)  Rented Bikes (Future)  \n",
       "0                      46.740                    279  \n",
       "1                      42.150                    274  \n",
       "2                      45.450                    161  \n",
       "3                      46.200                    270  \n",
       "4                      56.085                     62  "
      ]
     },
     "execution_count": 12,
     "metadata": {},
     "output_type": "execute_result"
    }
   ],
   "source": [
    "#Feature Matrix without past\n",
    "X=features.loc[:,['Month','Season','Weekday','Daily Weather','Humidity','Windspeed', 'Apparent Temperature (Avg)','Rented Bikes (Future)']]\n",
    "X.head()"
   ]
  },
  {
   "cell_type": "code",
   "execution_count": 13,
   "metadata": {},
   "outputs": [],
   "source": [
    "#Split into train and test set\n",
    "X_train, X_test, y_train, y_test = train_test_split(X, y, test_size=0.3)\n",
    "scaler = StandardScaler()\n",
    "scaler.fit(X_train)\n",
    "X_train = scaler.transform(X_train)\n",
    "X_test = scaler.transform(X_test)"
   ]
  },
  {
   "cell_type": "code",
   "execution_count": 14,
   "metadata": {},
   "outputs": [],
   "source": [
    "#initialize MLPRegressor\n",
    "mlp = MLPRegressor(\n",
    "    hidden_layer_sizes=(10,5),  activation='relu', solver='lbfgs', alpha=0.001, batch_size='auto',\n",
    "    learning_rate='constant', learning_rate_init=0.01, power_t=0.5, max_iter=1000, shuffle=True,\n",
    "    random_state=9, tol=0.0001, verbose=False, warm_start=False, momentum=0.9, nesterovs_momentum=True,\n",
    "    early_stopping=False, validation_fraction=0.1, beta_1=0.9, beta_2=0.999, epsilon=1e-08)\n",
    "\n",
    "m = mlp.fit(X_train,y_train)\n",
    "\n",
    "predictions = m.predict(X_test)"
   ]
  },
  {
   "cell_type": "code",
   "execution_count": 15,
   "metadata": {},
   "outputs": [
    {
     "name": "stdout",
     "output_type": "stream",
     "text": [
      "Training set score: 0.899432\n",
      "Test set score: 0.691343\n"
     ]
    }
   ],
   "source": [
    "#Print scores\n",
    "print(\"Training set score: %f\" % m.score(X_train, y_train))\n",
    "print(\"Test set score: %f\" % m.score(X_test, y_test))"
   ]
  },
  {
   "cell_type": "code",
   "execution_count": 16,
   "metadata": {},
   "outputs": [
    {
     "data": {
      "text/html": [
       "<div>\n",
       "<style scoped>\n",
       "    .dataframe tbody tr th:only-of-type {\n",
       "        vertical-align: middle;\n",
       "    }\n",
       "\n",
       "    .dataframe tbody tr th {\n",
       "        vertical-align: top;\n",
       "    }\n",
       "\n",
       "    .dataframe thead th {\n",
       "        text-align: right;\n",
       "    }\n",
       "</style>\n",
       "<table border=\"1\" class=\"dataframe\">\n",
       "  <thead>\n",
       "    <tr style=\"text-align: right;\">\n",
       "      <th></th>\n",
       "      <th>Actual</th>\n",
       "      <th>Predicted</th>\n",
       "    </tr>\n",
       "  </thead>\n",
       "  <tbody>\n",
       "    <tr>\n",
       "      <th>0</th>\n",
       "      <td>30</td>\n",
       "      <td>44.108324</td>\n",
       "    </tr>\n",
       "    <tr>\n",
       "      <th>1</th>\n",
       "      <td>36</td>\n",
       "      <td>43.086909</td>\n",
       "    </tr>\n",
       "    <tr>\n",
       "      <th>2</th>\n",
       "      <td>359</td>\n",
       "      <td>330.659433</td>\n",
       "    </tr>\n",
       "    <tr>\n",
       "      <th>3</th>\n",
       "      <td>340</td>\n",
       "      <td>342.651226</td>\n",
       "    </tr>\n",
       "    <tr>\n",
       "      <th>4</th>\n",
       "      <td>286</td>\n",
       "      <td>315.634504</td>\n",
       "    </tr>\n",
       "  </tbody>\n",
       "</table>\n",
       "</div>"
      ],
      "text/plain": [
       "   Actual   Predicted\n",
       "0      30   44.108324\n",
       "1      36   43.086909\n",
       "2     359  330.659433\n",
       "3     340  342.651226\n",
       "4     286  315.634504"
      ]
     },
     "execution_count": 16,
     "metadata": {},
     "output_type": "execute_result"
    }
   ],
   "source": [
    "#Compare predicted and actual values\n",
    "df = pd.DataFrame({'Actual': y_test, 'Predicted': predictions})  \n",
    "df.head()"
   ]
  },
  {
   "cell_type": "code",
   "execution_count": 17,
   "metadata": {},
   "outputs": [
    {
     "data": {
      "text/plain": [
       "'The accuracy of the model is 0.899'"
      ]
     },
     "execution_count": 17,
     "metadata": {},
     "output_type": "execute_result"
    }
   ],
   "source": [
    "#Returns the coefficient of determination R^2 of the prediction\n",
    "\"The accuracy of the model is {0:.3f}\".format(mlp.score(X_train,y_train))"
   ]
  },
  {
   "cell_type": "markdown",
   "metadata": {},
   "source": [
    "## Accuracy\n",
    "Recommended from [Sklearn](https://scikit-learn.org/stable/modules/generated/sklearn.neural_network.MLPRegressor.html#sklearn.neural_network.MLPRegressor)<br>\n",
    "```python\n",
    "score(X, y, sample_weight=None)\n",
    "```\n",
    "Returns the coefficient of determination R^2 of the prediction.\n",
    "\n",
    "The coefficient R^2 is defined as (1 - u/v), where u is the residual sum of squares ((y_true - y_pred) ** 2).sum() and v is the total sum of squares ((y_true - y_true.mean()) ** 2).sum(). The best possible score is 1.0 and it can be negative (because the model can be arbitrarily worse). A constant model that always predicts the expected value of y, disregarding the input features, would get a R^2 score of 0.0.\n"
   ]
  },
  {
   "cell_type": "code",
   "execution_count": 18,
   "metadata": {},
   "outputs": [
    {
     "data": {
      "text/plain": [
       "0.8316580928197538"
      ]
     },
     "execution_count": 18,
     "metadata": {},
     "output_type": "execute_result"
    }
   ],
   "source": [
    "#accuracy formular\n",
    "a=df.loc[:,'Actual']\n",
    "b=df.loc[:,'Predicted']\n",
    "c= b.mean()\n",
    "u= ((a-b)**2).sum()\n",
    "v= ((a-c)**2).sum()\n",
    "r= (1-(u/v))\n",
    "result = sqrt(r)\n",
    "result"
   ]
  },
  {
   "cell_type": "markdown",
   "metadata": {},
   "source": [
    "## RMSE = Root Mean Square Error \n",
    "is a frequently used measure of the differences between values predicted by a model. \n",
    "\n",
    "It is the standard deviation of prediction errors.<br>\n",
    "[RMSE](https://www.statisticshowto.datasciencecentral.com/rmse/) answers the question of how concentrated the data is around the line of best fit.\n",
    "![](img/rmse.png)\n",
    "Where:<br>\n",
    "f = forecasts (expected values or unknown results)<br>\n",
    "o = observed values (known results)"
   ]
  },
  {
   "cell_type": "code",
   "execution_count": 19,
   "metadata": {},
   "outputs": [
    {
     "data": {
      "text/plain": [
       "'The root mean square error of the model is 73.174'"
      ]
     },
     "execution_count": 19,
     "metadata": {},
     "output_type": "execute_result"
    }
   ],
   "source": [
    "#RMSE version 1\n",
    "a=df.loc[:,'Actual']\n",
    "b=df.loc[:,'Predicted']\n",
    "rmse=sqrt(mean_squared_error(a, b))  \n",
    "\"The root mean square error of the model is {0:.3f}\".format(rmse) "
   ]
  },
  {
   "cell_type": "code",
   "execution_count": 20,
   "metadata": {},
   "outputs": [
    {
     "data": {
      "text/plain": [
       "'The root mean square error of the model is 73.174'"
      ]
     },
     "execution_count": 20,
     "metadata": {},
     "output_type": "execute_result"
    }
   ],
   "source": [
    "#RMSE version 2\n",
    "def rmse(predictions, targets):\n",
    "    return np.sqrt(((predictions - targets) ** 2).mean())\n",
    "\n",
    "rmse = rmse(a,b)\n",
    "\"The root mean square error of the model is {0:.3f}\".format(rmse)"
   ]
  },
  {
   "cell_type": "code",
   "execution_count": 21,
   "metadata": {},
   "outputs": [
    {
     "data": {
      "text/plain": [
       "'The root mean square error of the model is 73.174'"
      ]
     },
     "execution_count": 21,
     "metadata": {},
     "output_type": "execute_result"
    }
   ],
   "source": [
    "##RMSE version 3\n",
    "n = len(b)\n",
    "rmse = np.linalg.norm(b - a) / np.sqrt(n)\n",
    "\"The root mean square error of the model is {0:.3f}\".format(rmse)"
   ]
  },
  {
   "cell_type": "code",
   "execution_count": null,
   "metadata": {},
   "outputs": [],
   "source": []
  }
 ],
 "metadata": {
  "kernelspec": {
   "display_name": "Python 2",
   "language": "python",
   "name": "python2"
  },
  "language_info": {
   "codemirror_mode": {
    "name": "ipython",
    "version": 2
   },
   "file_extension": ".py",
   "mimetype": "text/x-python",
   "name": "python",
   "nbconvert_exporter": "python",
   "pygments_lexer": "ipython2",
   "version": "2.7.15"
  }
 },
 "nbformat": 4,
 "nbformat_minor": 2
}
